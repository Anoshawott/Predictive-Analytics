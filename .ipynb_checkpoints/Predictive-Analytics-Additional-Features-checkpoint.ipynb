{
 "cells": [
  {
   "cell_type": "markdown",
   "metadata": {},
   "source": [
    "# House Price Prediction"
   ]
  },
  {
   "cell_type": "markdown",
   "metadata": {},
   "source": [
    "## Exploratory Data Analysis"
   ]
  },
  {
   "cell_type": "markdown",
   "metadata": {},
   "source": [
    "First importing the data, relevant packages and conducting EDA, in preparation for analysis."
   ]
  },
  {
   "cell_type": "code",
   "execution_count": 5,
   "metadata": {},
   "outputs": [],
   "source": [
    "import pandas as pd\n",
    "import forecast\n",
    "from forecast import histogram, qq_plot\n",
    "from statlearning import rmse_jack\n",
    "import numpy as np\n",
    "import matplotlib.pyplot as plt\n",
    "import itertools\n",
    "from matplotlib.pyplot import figure\n",
    "import seaborn as sns\n",
    "from sklearn import neighbors\n",
    "from statsmodels.stats.outliers_influence import variance_inflation_factor\n",
    "import statsmodels.api as sm\n",
    "from scipy import stats\n",
    "import statsmodels.api as sm\n",
    "\n",
    "from sklearn.neighbors import KNeighborsRegressor\n",
    "from sklearn.metrics import mean_squared_error\n",
    "from sklearn.model_selection import cross_val_score\n",
    "from sklearn.linear_model import LinearRegression\n",
    "import statsmodels.formula.api as smf\n",
    "from sklearn.model_selection import train_test_split\n",
    "from sklearn.ensemble import RandomForestRegressor\n",
    "\n",
    "from sklearn.preprocessing import PolynomialFeatures\n",
    "from sklearn.linear_model import LinearRegression"
   ]
  },
  {
   "cell_type": "code",
   "execution_count": 128,
   "metadata": {},
   "outputs": [],
   "source": [
    "import warnings\n",
    "warnings.filterwarnings('ignore')"
   ]
  },
  {
   "cell_type": "code",
   "execution_count": 129,
   "metadata": {
    "scrolled": true
   },
   "outputs": [
    {
     "data": {
      "text/html": [
       "<div>\n",
       "<style scoped>\n",
       "    .dataframe tbody tr th:only-of-type {\n",
       "        vertical-align: middle;\n",
       "    }\n",
       "\n",
       "    .dataframe tbody tr th {\n",
       "        vertical-align: top;\n",
       "    }\n",
       "\n",
       "    .dataframe thead th {\n",
       "        text-align: right;\n",
       "    }\n",
       "</style>\n",
       "<table border=\"1\" class=\"dataframe\">\n",
       "  <thead>\n",
       "    <tr style=\"text-align: right;\">\n",
       "      <th></th>\n",
       "      <th>Train_ID</th>\n",
       "      <th>MS SubClass</th>\n",
       "      <th>MS Zoning</th>\n",
       "      <th>Lot Frontage</th>\n",
       "      <th>Lot Area</th>\n",
       "      <th>Street</th>\n",
       "      <th>Alley</th>\n",
       "      <th>Lot Shape</th>\n",
       "      <th>Land Contour</th>\n",
       "      <th>Utilities</th>\n",
       "      <th>...</th>\n",
       "      <th>Pool Area</th>\n",
       "      <th>Pool QC</th>\n",
       "      <th>Fence</th>\n",
       "      <th>Misc Feature</th>\n",
       "      <th>Misc Val</th>\n",
       "      <th>Mo Sold</th>\n",
       "      <th>Yr Sold</th>\n",
       "      <th>Sale Type</th>\n",
       "      <th>Sale Condition</th>\n",
       "      <th>SalePrice</th>\n",
       "    </tr>\n",
       "  </thead>\n",
       "  <tbody>\n",
       "    <tr>\n",
       "      <th>0</th>\n",
       "      <td>1</td>\n",
       "      <td>60</td>\n",
       "      <td>RL</td>\n",
       "      <td>88.0</td>\n",
       "      <td>12128</td>\n",
       "      <td>Pave</td>\n",
       "      <td>NaN</td>\n",
       "      <td>IR1</td>\n",
       "      <td>Bnk</td>\n",
       "      <td>AllPub</td>\n",
       "      <td>...</td>\n",
       "      <td>0</td>\n",
       "      <td>NaN</td>\n",
       "      <td>MnPrv</td>\n",
       "      <td>NaN</td>\n",
       "      <td>0</td>\n",
       "      <td>11</td>\n",
       "      <td>2006</td>\n",
       "      <td>WD</td>\n",
       "      <td>Abnorml</td>\n",
       "      <td>209000</td>\n",
       "    </tr>\n",
       "    <tr>\n",
       "      <th>1</th>\n",
       "      <td>2</td>\n",
       "      <td>120</td>\n",
       "      <td>RL</td>\n",
       "      <td>48.0</td>\n",
       "      <td>6240</td>\n",
       "      <td>Pave</td>\n",
       "      <td>NaN</td>\n",
       "      <td>Reg</td>\n",
       "      <td>Lvl</td>\n",
       "      <td>AllPub</td>\n",
       "      <td>...</td>\n",
       "      <td>0</td>\n",
       "      <td>NaN</td>\n",
       "      <td>NaN</td>\n",
       "      <td>NaN</td>\n",
       "      <td>0</td>\n",
       "      <td>12</td>\n",
       "      <td>2009</td>\n",
       "      <td>WD</td>\n",
       "      <td>Normal</td>\n",
       "      <td>254000</td>\n",
       "    </tr>\n",
       "    <tr>\n",
       "      <th>2</th>\n",
       "      <td>3</td>\n",
       "      <td>50</td>\n",
       "      <td>RL</td>\n",
       "      <td>120.0</td>\n",
       "      <td>17360</td>\n",
       "      <td>Pave</td>\n",
       "      <td>NaN</td>\n",
       "      <td>Reg</td>\n",
       "      <td>Lvl</td>\n",
       "      <td>AllPub</td>\n",
       "      <td>...</td>\n",
       "      <td>0</td>\n",
       "      <td>NaN</td>\n",
       "      <td>NaN</td>\n",
       "      <td>NaN</td>\n",
       "      <td>0</td>\n",
       "      <td>1</td>\n",
       "      <td>2010</td>\n",
       "      <td>WD</td>\n",
       "      <td>Normal</td>\n",
       "      <td>172500</td>\n",
       "    </tr>\n",
       "    <tr>\n",
       "      <th>3</th>\n",
       "      <td>4</td>\n",
       "      <td>20</td>\n",
       "      <td>RL</td>\n",
       "      <td>73.0</td>\n",
       "      <td>8688</td>\n",
       "      <td>Pave</td>\n",
       "      <td>NaN</td>\n",
       "      <td>Reg</td>\n",
       "      <td>Lvl</td>\n",
       "      <td>AllPub</td>\n",
       "      <td>...</td>\n",
       "      <td>0</td>\n",
       "      <td>NaN</td>\n",
       "      <td>NaN</td>\n",
       "      <td>NaN</td>\n",
       "      <td>0</td>\n",
       "      <td>4</td>\n",
       "      <td>2006</td>\n",
       "      <td>WD</td>\n",
       "      <td>Normal</td>\n",
       "      <td>232000</td>\n",
       "    </tr>\n",
       "    <tr>\n",
       "      <th>4</th>\n",
       "      <td>5</td>\n",
       "      <td>80</td>\n",
       "      <td>RL</td>\n",
       "      <td>88.0</td>\n",
       "      <td>15312</td>\n",
       "      <td>Pave</td>\n",
       "      <td>NaN</td>\n",
       "      <td>Reg</td>\n",
       "      <td>Lvl</td>\n",
       "      <td>AllPub</td>\n",
       "      <td>...</td>\n",
       "      <td>0</td>\n",
       "      <td>NaN</td>\n",
       "      <td>MnPrv</td>\n",
       "      <td>NaN</td>\n",
       "      <td>0</td>\n",
       "      <td>3</td>\n",
       "      <td>2009</td>\n",
       "      <td>COD</td>\n",
       "      <td>Normal</td>\n",
       "      <td>148000</td>\n",
       "    </tr>\n",
       "  </tbody>\n",
       "</table>\n",
       "<p>5 rows × 81 columns</p>\n",
       "</div>"
      ],
      "text/plain": [
       "   Train_ID  MS SubClass MS Zoning  Lot Frontage  Lot Area Street Alley  \\\n",
       "0         1           60        RL          88.0     12128   Pave   NaN   \n",
       "1         2          120        RL          48.0      6240   Pave   NaN   \n",
       "2         3           50        RL         120.0     17360   Pave   NaN   \n",
       "3         4           20        RL          73.0      8688   Pave   NaN   \n",
       "4         5           80        RL          88.0     15312   Pave   NaN   \n",
       "\n",
       "  Lot Shape Land Contour Utilities  ... Pool Area Pool QC  Fence Misc Feature  \\\n",
       "0       IR1          Bnk    AllPub  ...         0     NaN  MnPrv          NaN   \n",
       "1       Reg          Lvl    AllPub  ...         0     NaN    NaN          NaN   \n",
       "2       Reg          Lvl    AllPub  ...         0     NaN    NaN          NaN   \n",
       "3       Reg          Lvl    AllPub  ...         0     NaN    NaN          NaN   \n",
       "4       Reg          Lvl    AllPub  ...         0     NaN  MnPrv          NaN   \n",
       "\n",
       "  Misc Val Mo Sold Yr Sold  Sale Type  Sale Condition  SalePrice  \n",
       "0        0      11    2006        WD          Abnorml     209000  \n",
       "1        0      12    2009        WD           Normal     254000  \n",
       "2        0       1    2010        WD           Normal     172500  \n",
       "3        0       4    2006        WD           Normal     232000  \n",
       "4        0       3    2009        COD          Normal     148000  \n",
       "\n",
       "[5 rows x 81 columns]"
      ]
     },
     "execution_count": 129,
     "metadata": {},
     "output_type": "execute_result"
    }
   ],
   "source": [
    "house_train = pd.read_csv(\"train.csv\")\n",
    "house_train.head()"
   ]
  },
  {
   "cell_type": "code",
   "execution_count": 130,
   "metadata": {},
   "outputs": [
    {
     "data": {
      "text/html": [
       "<div>\n",
       "<style scoped>\n",
       "    .dataframe tbody tr th:only-of-type {\n",
       "        vertical-align: middle;\n",
       "    }\n",
       "\n",
       "    .dataframe tbody tr th {\n",
       "        vertical-align: top;\n",
       "    }\n",
       "\n",
       "    .dataframe thead th {\n",
       "        text-align: right;\n",
       "    }\n",
       "</style>\n",
       "<table border=\"1\" class=\"dataframe\">\n",
       "  <thead>\n",
       "    <tr style=\"text-align: right;\">\n",
       "      <th></th>\n",
       "      <th>Test_ID</th>\n",
       "      <th>MS SubClass</th>\n",
       "      <th>MS Zoning</th>\n",
       "      <th>Lot Frontage</th>\n",
       "      <th>Lot Area</th>\n",
       "      <th>Street</th>\n",
       "      <th>Alley</th>\n",
       "      <th>Lot Shape</th>\n",
       "      <th>Land Contour</th>\n",
       "      <th>Utilities</th>\n",
       "      <th>...</th>\n",
       "      <th>Screen Porch</th>\n",
       "      <th>Pool Area</th>\n",
       "      <th>Pool QC</th>\n",
       "      <th>Fence</th>\n",
       "      <th>Misc Feature</th>\n",
       "      <th>Misc Val</th>\n",
       "      <th>Mo Sold</th>\n",
       "      <th>Yr Sold</th>\n",
       "      <th>Sale Type</th>\n",
       "      <th>Sale Condition</th>\n",
       "    </tr>\n",
       "  </thead>\n",
       "  <tbody>\n",
       "    <tr>\n",
       "      <th>0</th>\n",
       "      <td>1</td>\n",
       "      <td>80</td>\n",
       "      <td>RL</td>\n",
       "      <td>120.0</td>\n",
       "      <td>19296</td>\n",
       "      <td>Pave</td>\n",
       "      <td>NaN</td>\n",
       "      <td>Reg</td>\n",
       "      <td>Lvl</td>\n",
       "      <td>AllPub</td>\n",
       "      <td>...</td>\n",
       "      <td>0</td>\n",
       "      <td>0</td>\n",
       "      <td>NaN</td>\n",
       "      <td>GdWo</td>\n",
       "      <td>NaN</td>\n",
       "      <td>0</td>\n",
       "      <td>5</td>\n",
       "      <td>2009</td>\n",
       "      <td>WD</td>\n",
       "      <td>Normal</td>\n",
       "    </tr>\n",
       "    <tr>\n",
       "      <th>1</th>\n",
       "      <td>2</td>\n",
       "      <td>20</td>\n",
       "      <td>RL</td>\n",
       "      <td>80.0</td>\n",
       "      <td>10928</td>\n",
       "      <td>Pave</td>\n",
       "      <td>NaN</td>\n",
       "      <td>Reg</td>\n",
       "      <td>Lvl</td>\n",
       "      <td>AllPub</td>\n",
       "      <td>...</td>\n",
       "      <td>0</td>\n",
       "      <td>0</td>\n",
       "      <td>NaN</td>\n",
       "      <td>NaN</td>\n",
       "      <td>NaN</td>\n",
       "      <td>0</td>\n",
       "      <td>8</td>\n",
       "      <td>2009</td>\n",
       "      <td>WD</td>\n",
       "      <td>Normal</td>\n",
       "    </tr>\n",
       "    <tr>\n",
       "      <th>2</th>\n",
       "      <td>3</td>\n",
       "      <td>160</td>\n",
       "      <td>RL</td>\n",
       "      <td>24.0</td>\n",
       "      <td>2280</td>\n",
       "      <td>Pave</td>\n",
       "      <td>NaN</td>\n",
       "      <td>Reg</td>\n",
       "      <td>Lvl</td>\n",
       "      <td>AllPub</td>\n",
       "      <td>...</td>\n",
       "      <td>0</td>\n",
       "      <td>0</td>\n",
       "      <td>NaN</td>\n",
       "      <td>NaN</td>\n",
       "      <td>NaN</td>\n",
       "      <td>0</td>\n",
       "      <td>7</td>\n",
       "      <td>2009</td>\n",
       "      <td>WD</td>\n",
       "      <td>Normal</td>\n",
       "    </tr>\n",
       "    <tr>\n",
       "      <th>3</th>\n",
       "      <td>4</td>\n",
       "      <td>20</td>\n",
       "      <td>RL</td>\n",
       "      <td>60.0</td>\n",
       "      <td>8428</td>\n",
       "      <td>Pave</td>\n",
       "      <td>NaN</td>\n",
       "      <td>IR2</td>\n",
       "      <td>Lvl</td>\n",
       "      <td>AllPub</td>\n",
       "      <td>...</td>\n",
       "      <td>0</td>\n",
       "      <td>0</td>\n",
       "      <td>NaN</td>\n",
       "      <td>NaN</td>\n",
       "      <td>NaN</td>\n",
       "      <td>0</td>\n",
       "      <td>7</td>\n",
       "      <td>2007</td>\n",
       "      <td>WD</td>\n",
       "      <td>Normal</td>\n",
       "    </tr>\n",
       "    <tr>\n",
       "      <th>4</th>\n",
       "      <td>5</td>\n",
       "      <td>50</td>\n",
       "      <td>RM</td>\n",
       "      <td>50.0</td>\n",
       "      <td>9140</td>\n",
       "      <td>Pave</td>\n",
       "      <td>NaN</td>\n",
       "      <td>Reg</td>\n",
       "      <td>HLS</td>\n",
       "      <td>AllPub</td>\n",
       "      <td>...</td>\n",
       "      <td>200</td>\n",
       "      <td>0</td>\n",
       "      <td>NaN</td>\n",
       "      <td>MnPrv</td>\n",
       "      <td>NaN</td>\n",
       "      <td>0</td>\n",
       "      <td>4</td>\n",
       "      <td>2010</td>\n",
       "      <td>COD</td>\n",
       "      <td>Normal</td>\n",
       "    </tr>\n",
       "  </tbody>\n",
       "</table>\n",
       "<p>5 rows × 80 columns</p>\n",
       "</div>"
      ],
      "text/plain": [
       "   Test_ID  MS SubClass MS Zoning  Lot Frontage  Lot Area Street Alley  \\\n",
       "0        1           80        RL         120.0     19296   Pave   NaN   \n",
       "1        2           20        RL          80.0     10928   Pave   NaN   \n",
       "2        3          160        RL          24.0      2280   Pave   NaN   \n",
       "3        4           20        RL          60.0      8428   Pave   NaN   \n",
       "4        5           50        RM          50.0      9140   Pave   NaN   \n",
       "\n",
       "  Lot Shape Land Contour Utilities  ... Screen Porch Pool Area Pool QC  Fence  \\\n",
       "0       Reg          Lvl    AllPub  ...            0         0     NaN   GdWo   \n",
       "1       Reg          Lvl    AllPub  ...            0         0     NaN    NaN   \n",
       "2       Reg          Lvl    AllPub  ...            0         0     NaN    NaN   \n",
       "3       IR2          Lvl    AllPub  ...            0         0     NaN    NaN   \n",
       "4       Reg          HLS    AllPub  ...          200         0     NaN  MnPrv   \n",
       "\n",
       "  Misc Feature Misc Val Mo Sold  Yr Sold  Sale Type  Sale Condition  \n",
       "0          NaN        0       5     2009        WD           Normal  \n",
       "1          NaN        0       8     2009        WD           Normal  \n",
       "2          NaN        0       7     2009        WD           Normal  \n",
       "3          NaN        0       7     2007        WD           Normal  \n",
       "4          NaN        0       4     2010        COD          Normal  \n",
       "\n",
       "[5 rows x 80 columns]"
      ]
     },
     "execution_count": 130,
     "metadata": {},
     "output_type": "execute_result"
    }
   ],
   "source": [
    "house_test = pd.read_csv(\"test.csv\")\n",
    "house_test.head()"
   ]
  },
  {
   "cell_type": "code",
   "execution_count": 131,
   "metadata": {},
   "outputs": [
    {
     "name": "stdout",
     "output_type": "stream",
     "text": [
      "Train dataset has 1570 rows and 81 columns.\n",
      "Test dataset has 1210 rows and 80 columns.\n"
     ]
    }
   ],
   "source": [
    "old_obs_n = house_train.shape[0]\n",
    "print(f'Train dataset has {house_train.shape[0]} rows and {house_train.shape[1]} columns.')\n",
    "print(f'Test dataset has {house_test.shape[0]} rows and {house_test.shape[1]} columns.')"
   ]
  },
  {
   "cell_type": "markdown",
   "metadata": {},
   "source": [
    "The datasets are moderately large and have a large number of features."
   ]
  },
  {
   "cell_type": "code",
   "execution_count": 132,
   "metadata": {},
   "outputs": [
    {
     "name": "stdout",
     "output_type": "stream",
     "text": [
      "There are 24 columns in train dataset with missing values.\n"
     ]
    }
   ],
   "source": [
    "print(f'There are {house_train.isnull().any().sum()} columns in train dataset with missing values.')"
   ]
  },
  {
   "cell_type": "markdown",
   "metadata": {},
   "source": [
    "There are a number of columns with missing values. These need to be investigated before we engage in feature engineering."
   ]
  },
  {
   "cell_type": "code",
   "execution_count": 133,
   "metadata": {
    "scrolled": true
   },
   "outputs": [
    {
     "name": "stdout",
     "output_type": "stream",
     "text": [
      "Train_ID             int64\n",
      "MS SubClass          int64\n",
      "MS Zoning           object\n",
      "Lot Frontage       float64\n",
      "Lot Area             int64\n",
      "Street              object\n",
      "Alley               object\n",
      "Lot Shape           object\n",
      "Land Contour        object\n",
      "Utilities           object\n",
      "Lot Config          object\n",
      "Land Slope          object\n",
      "Neighborhood        object\n",
      "Condition 1         object\n",
      "Condition 2         object\n",
      "Bldg Type           object\n",
      "House Style         object\n",
      "Overall Qual         int64\n",
      "Overall Cond         int64\n",
      "Year Built           int64\n",
      "Year Remod/Add       int64\n",
      "Roof Style          object\n",
      "Roof Matl           object\n",
      "Exterior 1st        object\n",
      "Exterior 2nd        object\n",
      "Mas Vnr Type        object\n",
      "Mas Vnr Area       float64\n",
      "Exter Qual          object\n",
      "Exter Cond          object\n",
      "Foundation          object\n",
      "Bsmt Qual           object\n",
      "Bsmt Cond           object\n",
      "Bsmt Exposure       object\n",
      "BsmtFin Type 1      object\n",
      "BsmtFin SF 1       float64\n",
      "BsmtFin Type 2      object\n",
      "BsmtFin SF 2       float64\n",
      "Bsmt Unf SF        float64\n",
      "Total Bsmt SF      float64\n",
      "Heating             object\n",
      "Heating QC          object\n",
      "Central Air         object\n",
      "Electrical          object\n",
      "1st Flr SF           int64\n",
      "2nd Flr SF           int64\n",
      "Low Qual Fin SF      int64\n",
      "Gr Liv Area          int64\n",
      "Bsmt Full Bath     float64\n",
      "Bsmt Half Bath     float64\n",
      "Full Bath            int64\n",
      "Half Bath            int64\n",
      "Bedroom AbvGr        int64\n",
      "Kitchen AbvGr        int64\n",
      "Kitchen Qual        object\n",
      "TotRms AbvGrd        int64\n",
      "Functional          object\n",
      "Fireplaces           int64\n",
      "Fireplace Qu        object\n",
      "Garage Type         object\n",
      "Garage Yr Blt      float64\n",
      "Garage Finish       object\n",
      "Garage Cars          int64\n",
      "Garage Area          int64\n",
      "Garage Qual         object\n",
      "Garage Cond         object\n",
      "Paved Drive         object\n",
      "Wood Deck SF         int64\n",
      "Open Porch SF        int64\n",
      "Enclosed Porch       int64\n",
      "3Ssn Porch           int64\n",
      "Screen Porch         int64\n",
      "Pool Area            int64\n",
      "Pool QC             object\n",
      "Fence               object\n",
      "Misc Feature        object\n",
      "Misc Val             int64\n",
      "Mo Sold              int64\n",
      "Yr Sold              int64\n",
      "Sale Type           object\n",
      "Sale Condition      object\n",
      "SalePrice            int64\n",
      "dtype: object\n"
     ]
    }
   ],
   "source": [
    "with pd.option_context('display.max_rows', None, 'display.max_columns', None):\n",
    "    print(house_train.dtypes)"
   ]
  },
  {
   "cell_type": "markdown",
   "metadata": {},
   "source": [
    "There are a number of qualitative variables that may require dummy variables to be created for these. This will be applied after an individual inspection of each of the variables in feature engineering."
   ]
  },
  {
   "cell_type": "markdown",
   "metadata": {},
   "source": [
    "Before identifying the most ideal features, we will first delve into each of the variables to ensure that the data having been inputted is logically consistent i.e. values correspond logically with the variable."
   ]
  },
  {
   "cell_type": "code",
   "execution_count": 134,
   "metadata": {},
   "outputs": [],
   "source": [
    "col_names = list(house_train.columns)\n",
    "\n",
    "# for i in col_names:\n",
    "#     plt.hist(house_train[i].dropna(), bins=50);\n",
    "#     if i == \"Year Remod/Add\":\n",
    "#         i = \"Year Remod-Add\"\n",
    "#         plt.title(f'Distribution of the {i} variable');\n",
    "#         plt.savefig(f'Distribution of the {i} variable');\n",
    "#     else:\n",
    "#         plt.title(f'Distribution of the {i} variable');\n",
    "#         plt.savefig(f'Distribution of the {i} variable');\n",
    "#     plt.show()"
   ]
  },
  {
   "cell_type": "markdown",
   "metadata": {},
   "source": [
    "Nothing too unusual is noticeable in the data, however there is some skewness to a number of features and should be considered in feature engineering."
   ]
  },
  {
   "cell_type": "markdown",
   "metadata": {},
   "source": [
    "Now, using an IQR approach to identifying outliers these should be noted."
   ]
  },
  {
   "cell_type": "code",
   "execution_count": 135,
   "metadata": {},
   "outputs": [],
   "source": [
    "# to only consider numerical features in outlier detection\n",
    "numerics = ['int16', 'int32', 'int64', 'float16', 'float32', 'float64']\n",
    "\n",
    "newdf = house_train.select_dtypes(include=numerics).copy()"
   ]
  },
  {
   "cell_type": "code",
   "execution_count": 136,
   "metadata": {},
   "outputs": [],
   "source": [
    "del newdf['Train_ID']"
   ]
  },
  {
   "cell_type": "code",
   "execution_count": 137,
   "metadata": {},
   "outputs": [],
   "source": [
    "Q1 = newdf.quantile(0.25)\n",
    "Q3 = newdf.quantile(0.75)\n",
    "IQR = Q3 - Q1"
   ]
  },
  {
   "cell_type": "code",
   "execution_count": 138,
   "metadata": {},
   "outputs": [],
   "source": [
    "house_train_out = newdf[((newdf < (Q1 - 1.5 * IQR)) |(newdf > (Q3 + 1.5 * IQR))).any(axis=1)].copy()"
   ]
  },
  {
   "cell_type": "code",
   "execution_count": 139,
   "metadata": {},
   "outputs": [
    {
     "name": "stdout",
     "output_type": "stream",
     "text": [
      "The dataset has 966 outliers.\n"
     ]
    }
   ],
   "source": [
    "print(f'The dataset has {house_train_out.shape[0]} outliers.')"
   ]
  },
  {
   "cell_type": "markdown",
   "metadata": {},
   "source": [
    "Since, there were 966 observations that contain at least one outlier under one of its features, this representing a significant proportion of the train dataset it was considered that these would not be ignored in training."
   ]
  },
  {
   "cell_type": "markdown",
   "metadata": {},
   "source": [
    "## Feature Engineering"
   ]
  },
  {
   "cell_type": "markdown",
   "metadata": {},
   "source": [
    "First we will examine for the most relevant numerical variables in the dataset. Later, the categorical features will be converted to dummies so that they can be usable for predictive modelling."
   ]
  },
  {
   "cell_type": "markdown",
   "metadata": {},
   "source": [
    "Minusing the year it was sold in to the year it was constructed the new variable 'Age' was created. Also, minusing the last year it was remodelled or had additions made to the house to the year it was sold was added as the 'Last remod/add' feature. "
   ]
  },
  {
   "cell_type": "code",
   "execution_count": 140,
   "metadata": {},
   "outputs": [],
   "source": [
    "house_train['Age'] = house_train['Yr Sold'] - house_train['Year Built']\n",
    "house_train['Last remod/add'] = house_train['Yr Sold'] - house_train['Year Remod/Add']\n",
    "\n",
    "house_test['Age'] = house_test['Yr Sold'] - house_test['Year Built']\n",
    "house_test['Last remod/add'] = house_test['Yr Sold'] - house_test['Year Remod/Add']"
   ]
  },
  {
   "cell_type": "code",
   "execution_count": 141,
   "metadata": {},
   "outputs": [],
   "source": [
    "num_house_train = house_train[['MS SubClass','Lot Frontage','Lot Area','Mas Vnr Area','BsmtFin SF 1',\n",
    "'BsmtFin SF 2','Bsmt Unf SF','Total Bsmt SF','1st Flr SF','2nd Flr SF','Low Qual Fin SF','Gr Liv Area',\n",
    "'Full Bath','Half Bath','Bedroom AbvGr','Kitchen AbvGr','TotRms AbvGrd','Fireplaces','Garage Cars',\n",
    "'Garage Area','Wood Deck SF','Open Porch SF','Enclosed Porch','3Ssn Porch','Screen Porch','Pool Area',\n",
    "'Misc Val','Age','Last remod/add','SalePrice']].copy()"
   ]
  },
  {
   "cell_type": "markdown",
   "metadata": {},
   "source": [
    "Let's create a series of scatter plots of the narrowed numerical features against 'SalePrice' to understand what relationships may be present between these variables."
   ]
  },
  {
   "cell_type": "code",
   "execution_count": 142,
   "metadata": {},
   "outputs": [],
   "source": [
    "# col_names = list(num_house_train.columns)\n",
    "\n",
    "# for i in col_names:\n",
    "#     plt.scatter(num_house_train[i], num_house_train['SalePrice'], alpha = 0.5);\n",
    "#     plt.title(f'Relationship between Sale Price and the {i} variable');\n",
    "#     sns.set(font_scale=1)\n",
    "#     plt.xlabel(i)\n",
    "#     plt.ylabel(\"SalePrice\")\n",
    "#     if i == \"Last remod/add\":\n",
    "#         plt.savefig(f'Relationship between Sale Price and the Last remod-add variable',bbox_inches='tight')\n",
    "#     else:\n",
    "#         plt.savefig(f'Relationship between Sale Price and the {i} variable',bbox_inches='tight')\n",
    "#     plt.show()"
   ]
  },
  {
   "cell_type": "markdown",
   "metadata": {},
   "source": [
    "Viewing the scatter plots the best variables to consider are \"Gr Liv Area\", \"Garage Area\", \"Age\", \"Last remod/add\", \"Total Bsmt SF\", \"1st Flr SF\", '2nd Flr SF', “BsmtFin SF 1”, “Full Bath”, “TotRms AbvGrd”, “Fireplaces” and “Garage Cars”.  This is due to these showing some form of a non-linear relationship."
   ]
  },
  {
   "cell_type": "code",
   "execution_count": 143,
   "metadata": {},
   "outputs": [],
   "source": [
    "# MAY OR MAY NOT NEED? ONLY IF THERE WERE FEATURES THAT WOULD HAVE CONTAINED NA VALUES THAT \n",
    "#WOULD HAVE BEEN HARD TO JUSTIFY AS A DUMMY CAUSE NO ADDITIONAL INFO ON THEM\n",
    "\n",
    "# nan_values = num_house_train_out.isna()\n",
    "# nan_columns = nan_values.any()\n",
    "\n",
    "# columns_with_nan = num_house_train_out.columns[nan_columns].tolist()\n",
    "# columns_with_nan"
   ]
  },
  {
   "cell_type": "code",
   "execution_count": 144,
   "metadata": {},
   "outputs": [],
   "source": [
    "# MAY OR MAY NOT NEED? ONLY IF THERE WERE FEATURES THAT WOULD HAVE CONTAINED NA VALUES THAT \n",
    "#WOULD HAVE BEEN HARD TO JUSTIFY AS A DUMMY CAUSE NO ADDITIONAL INFO ON THEM\n",
    "\n",
    "# nan_values = house_test.isna()\n",
    "# nan_columns = nan_values.any()\n",
    "\n",
    "# columns_with_nan = house_test.columns[nan_columns].tolist()\n",
    "# columns_with_nan"
   ]
  },
  {
   "cell_type": "markdown",
   "metadata": {},
   "source": [
    "To see if any relationship is present between the categorical variables and the Sales Price predictor, box plots will be made between these."
   ]
  },
  {
   "cell_type": "code",
   "execution_count": 145,
   "metadata": {},
   "outputs": [],
   "source": [
    "num_var = ['MS SubClass','Lot Frontage','Lot Area','Mas Vnr Area','BsmtFin SF 1',\n",
    "'BsmtFin SF 2','Bsmt Unf SF','Total Bsmt SF','1st Flr SF','2nd Flr SF','Low Qual Fin SF','Gr Liv Area',\n",
    "'Full Bath','Half Bath','Bedroom AbvGr','Kitchen AbvGr','TotRms AbvGrd','Fireplaces','Garage Cars',\n",
    "'Garage Area','Wood Deck SF','Open Porch SF','Enclosed Porch','3Ssn Porch','Screen Porch','Pool Area',\n",
    "'Misc Val','Age','Last remod/add','SalePrice']\n",
    "\n",
    "col_names = list(house_train.columns)\n",
    "\n",
    "def returnNotMatches(a, b):\n",
    "    return [[x for x in a if x not in b], [x for x in b if x not in a]]\n",
    "\n",
    "cat_var = returnNotMatches(col_names, num_var)[0]\n",
    "cat_var.remove('Train_ID')\n",
    "cat_var.remove('Year Built')\n",
    "cat_var.remove('Year Remod/Add')\n",
    "cat_var.remove('Garage Yr Blt')"
   ]
  },
  {
   "cell_type": "markdown",
   "metadata": {},
   "source": [
    "NA values of the categorical variables were replaced with the string \"NONE(na rep)\". This was to observe if there was any meaningful relationships between the missing values and price."
   ]
  },
  {
   "cell_type": "code",
   "execution_count": 146,
   "metadata": {},
   "outputs": [],
   "source": [
    "house_train[cat_var] = house_train[cat_var].fillna('NONE(na rep)')"
   ]
  },
  {
   "cell_type": "code",
   "execution_count": 147,
   "metadata": {},
   "outputs": [],
   "source": [
    "# for i in cat_var:\n",
    "#     figure(num=None, figsize=(10, 8))\n",
    "#     house_train[i] = house_train[i].astype(str)\n",
    "#     x=dict(house_train.groupby([i])['SalePrice'].median())\n",
    "#     sns.boxplot(x = house_train[i], y = house_train['SalePrice'], boxprops=dict(alpha=.3), order = list({k: v for k, v in sorted(x.items(), key=lambda item: item[1])}));\n",
    "# #     boxplot_sorted(house_train_out, by = [i], column = 'SalePrice')\n",
    "#     sns.stripplot(x=i, y=\"SalePrice\", data=house_train, alpha=0.7, order = list({k: v for k, v in sorted(x.items(), key=lambda item: item[1])}))\n",
    "#     plt.title(f'Relationship between Sale Price and the {i} variable');\n",
    "#     plt.xticks(rotation=30)\n",
    "#     sns.set(font_scale=1.6)\n",
    "#     plt.xlabel(i)\n",
    "#     plt.ylabel(\"SalePrice\")\n",
    "#     plt.savefig(f'Relationship between Sale Price and the {i} variable',bbox_inches='tight')\n",
    "#     plt.show()"
   ]
  },
  {
   "cell_type": "markdown",
   "metadata": {},
   "source": [
    "The best categorical features would be \"Kitchen Qual\", \"Garage Finish\" and \"Overall Quality\". This was on the basis that there was a sufficient number of observations between the different categories, a clear pattern was evident and that the variation (the whiskers of the boxplots) between groups did not overlap excessively. \"Alley\" would have also been considered, however, the presence of NA values that did not show a pattern or a distinct variation between the other categories meant NA values had little meaning."
   ]
  },
  {
   "cell_type": "markdown",
   "metadata": {},
   "source": [
    "Before confirming the final subset of features, to ensure that there were no issues in training and evaluation features that contained NA values were to be dropped or imputed with an average."
   ]
  },
  {
   "cell_type": "code",
   "execution_count": 148,
   "metadata": {
    "scrolled": true
   },
   "outputs": [],
   "source": [
    "df_subset = house_train[[\"SalePrice\", \"Gr Liv Area\", \"Garage Area\", \"Age\", \n",
    "                      \"Last remod/add\", \"Total Bsmt SF\", \n",
    "                      \"1st Flr SF\", \"Kitchen Qual\", \"Overall Qual\", \"Garage Finish\", '2nd Flr SF', \n",
    "                      'BsmtFin SF 1', 'Full Bath', 'TotRms AbvGrd', \n",
    "                      'Fireplaces', 'Garage Cars']].copy()\n",
    "\n",
    "df_subset_test = house_test[[\"Gr Liv Area\", \"Garage Area\", \"Age\", \n",
    "                      \"Last remod/add\", \"Total Bsmt SF\", \n",
    "                      \"1st Flr SF\", \"Kitchen Qual\", \"Overall Qual\", \"Garage Finish\", '2nd Flr SF', \n",
    "                      'BsmtFin SF 1', 'Full Bath', 'TotRms AbvGrd', \n",
    "                      'Fireplaces', 'Garage Cars']].copy()"
   ]
  },
  {
   "cell_type": "code",
   "execution_count": 149,
   "metadata": {},
   "outputs": [
    {
     "name": "stdout",
     "output_type": "stream",
     "text": [
      "There are 2 columns in train dataset with missing values.\n"
     ]
    }
   ],
   "source": [
    "print(f'There are {df_subset.isnull().any().sum()} columns in train dataset with missing values.')"
   ]
  },
  {
   "cell_type": "code",
   "execution_count": 150,
   "metadata": {},
   "outputs": [
    {
     "data": {
      "text/plain": [
       "['Total Bsmt SF', 'BsmtFin SF 1']"
      ]
     },
     "execution_count": 150,
     "metadata": {},
     "output_type": "execute_result"
    }
   ],
   "source": [
    "nan_values = df_subset.isna()\n",
    "nan_columns = nan_values.any()\n",
    "\n",
    "columns_with_nan = df_subset.columns[nan_columns].tolist()\n",
    "columns_with_nan"
   ]
  },
  {
   "cell_type": "code",
   "execution_count": 151,
   "metadata": {},
   "outputs": [],
   "source": [
    "df_subset['Garage Finish'] = df_subset['Garage Finish'].fillna('NONE(na rep)')"
   ]
  },
  {
   "cell_type": "code",
   "execution_count": 152,
   "metadata": {},
   "outputs": [
    {
     "data": {
      "text/html": [
       "<div>\n",
       "<style scoped>\n",
       "    .dataframe tbody tr th:only-of-type {\n",
       "        vertical-align: middle;\n",
       "    }\n",
       "\n",
       "    .dataframe tbody tr th {\n",
       "        vertical-align: top;\n",
       "    }\n",
       "\n",
       "    .dataframe thead th {\n",
       "        text-align: right;\n",
       "    }\n",
       "</style>\n",
       "<table border=\"1\" class=\"dataframe\">\n",
       "  <thead>\n",
       "    <tr style=\"text-align: right;\">\n",
       "      <th></th>\n",
       "      <th>SalePrice</th>\n",
       "      <th>Gr Liv Area</th>\n",
       "      <th>Garage Area</th>\n",
       "      <th>Age</th>\n",
       "      <th>Last remod/add</th>\n",
       "      <th>Total Bsmt SF</th>\n",
       "      <th>1st Flr SF</th>\n",
       "      <th>Kitchen Qual</th>\n",
       "      <th>Overall Qual</th>\n",
       "      <th>Garage Finish</th>\n",
       "      <th>2nd Flr SF</th>\n",
       "      <th>BsmtFin SF 1</th>\n",
       "      <th>Full Bath</th>\n",
       "      <th>TotRms AbvGrd</th>\n",
       "      <th>Fireplaces</th>\n",
       "      <th>Garage Cars</th>\n",
       "    </tr>\n",
       "  </thead>\n",
       "  <tbody>\n",
       "    <tr>\n",
       "      <th>508</th>\n",
       "      <td>79000</td>\n",
       "      <td>896</td>\n",
       "      <td>280</td>\n",
       "      <td>62</td>\n",
       "      <td>58</td>\n",
       "      <td>NaN</td>\n",
       "      <td>896</td>\n",
       "      <td>TA</td>\n",
       "      <td>4</td>\n",
       "      <td>Unf</td>\n",
       "      <td>0</td>\n",
       "      <td>NaN</td>\n",
       "      <td>1</td>\n",
       "      <td>4</td>\n",
       "      <td>0</td>\n",
       "      <td>1</td>\n",
       "    </tr>\n",
       "  </tbody>\n",
       "</table>\n",
       "</div>"
      ],
      "text/plain": [
       "     SalePrice  Gr Liv Area  Garage Area  Age  Last remod/add  Total Bsmt SF  \\\n",
       "508      79000          896          280   62              58            NaN   \n",
       "\n",
       "     1st Flr SF Kitchen Qual  Overall Qual Garage Finish  2nd Flr SF  \\\n",
       "508         896           TA             4           Unf           0   \n",
       "\n",
       "     BsmtFin SF 1  Full Bath  TotRms AbvGrd  Fireplaces  Garage Cars  \n",
       "508           NaN          1              4           0            1  "
      ]
     },
     "execution_count": 152,
     "metadata": {},
     "output_type": "execute_result"
    }
   ],
   "source": [
    "null_data = df_subset[df_subset.isnull().any(axis=1)]\n",
    "null_data"
   ]
  },
  {
   "cell_type": "code",
   "execution_count": 153,
   "metadata": {},
   "outputs": [],
   "source": [
    "df_subset['Total Bsmt SF'] = df_subset['Total Bsmt SF'].fillna(df_subset_test['Total Bsmt SF'].mean())\n",
    "df_subset['BsmtFin SF 1'] = df_subset['BsmtFin SF 1'].fillna(df_subset_test['BsmtFin SF 1'].mean())"
   ]
  },
  {
   "cell_type": "markdown",
   "metadata": {},
   "source": [
    "The missing values under \"Total Bsmt SF\" and \"BsmtFin SF 1\" were replaced with their respective mean."
   ]
  },
  {
   "cell_type": "markdown",
   "metadata": {},
   "source": [
    "The same check was repeated for the test set to ensure that no evaluation errors occur."
   ]
  },
  {
   "cell_type": "code",
   "execution_count": 154,
   "metadata": {},
   "outputs": [
    {
     "data": {
      "text/plain": [
       "['Garage Area', 'Garage Finish', 'Garage Cars']"
      ]
     },
     "execution_count": 154,
     "metadata": {},
     "output_type": "execute_result"
    }
   ],
   "source": [
    "nan_values = df_subset_test.isna()\n",
    "nan_columns = nan_values.any()\n",
    "\n",
    "columns_with_nan = df_subset_test.columns[nan_columns].tolist()\n",
    "columns_with_nan"
   ]
  },
  {
   "cell_type": "code",
   "execution_count": 155,
   "metadata": {},
   "outputs": [],
   "source": [
    "df_subset_test['Garage Finish'] = df_subset_test['Garage Finish'].fillna('NONE(na rep)')"
   ]
  },
  {
   "cell_type": "code",
   "execution_count": 156,
   "metadata": {},
   "outputs": [
    {
     "data": {
      "text/html": [
       "<div>\n",
       "<style scoped>\n",
       "    .dataframe tbody tr th:only-of-type {\n",
       "        vertical-align: middle;\n",
       "    }\n",
       "\n",
       "    .dataframe tbody tr th {\n",
       "        vertical-align: top;\n",
       "    }\n",
       "\n",
       "    .dataframe thead th {\n",
       "        text-align: right;\n",
       "    }\n",
       "</style>\n",
       "<table border=\"1\" class=\"dataframe\">\n",
       "  <thead>\n",
       "    <tr style=\"text-align: right;\">\n",
       "      <th></th>\n",
       "      <th>Gr Liv Area</th>\n",
       "      <th>Garage Area</th>\n",
       "      <th>Age</th>\n",
       "      <th>Last remod/add</th>\n",
       "      <th>Total Bsmt SF</th>\n",
       "      <th>1st Flr SF</th>\n",
       "      <th>Kitchen Qual</th>\n",
       "      <th>Overall Qual</th>\n",
       "      <th>Garage Finish</th>\n",
       "      <th>2nd Flr SF</th>\n",
       "      <th>BsmtFin SF 1</th>\n",
       "      <th>Full Bath</th>\n",
       "      <th>TotRms AbvGrd</th>\n",
       "      <th>Fireplaces</th>\n",
       "      <th>Garage Cars</th>\n",
       "    </tr>\n",
       "  </thead>\n",
       "  <tbody>\n",
       "    <tr>\n",
       "      <th>941</th>\n",
       "      <td>1828</td>\n",
       "      <td>NaN</td>\n",
       "      <td>84</td>\n",
       "      <td>8</td>\n",
       "      <td>859</td>\n",
       "      <td>942</td>\n",
       "      <td>Gd</td>\n",
       "      <td>5</td>\n",
       "      <td>NONE(na rep)</td>\n",
       "      <td>886</td>\n",
       "      <td>548</td>\n",
       "      <td>2</td>\n",
       "      <td>6</td>\n",
       "      <td>0</td>\n",
       "      <td>NaN</td>\n",
       "    </tr>\n",
       "  </tbody>\n",
       "</table>\n",
       "</div>"
      ],
      "text/plain": [
       "     Gr Liv Area  Garage Area  Age  Last remod/add  Total Bsmt SF  1st Flr SF  \\\n",
       "941         1828          NaN   84               8            859         942   \n",
       "\n",
       "    Kitchen Qual  Overall Qual Garage Finish  2nd Flr SF  BsmtFin SF 1  \\\n",
       "941           Gd             5  NONE(na rep)         886           548   \n",
       "\n",
       "     Full Bath  TotRms AbvGrd  Fireplaces  Garage Cars  \n",
       "941          2              6           0          NaN  "
      ]
     },
     "execution_count": 156,
     "metadata": {},
     "output_type": "execute_result"
    }
   ],
   "source": [
    "null_data = df_subset_test[df_subset_test.isnull().any(axis=1)]\n",
    "null_data"
   ]
  },
  {
   "cell_type": "markdown",
   "metadata": {},
   "source": [
    "Provided that only one observation had a NA value for \"Garage Area\" and \"Garage Cars\" it was best to imput the values of this single row with their means rather than removing the entire \"Garage Area\" variable."
   ]
  },
  {
   "cell_type": "code",
   "execution_count": 157,
   "metadata": {},
   "outputs": [],
   "source": [
    "# df_subset_test = df_subset_test.drop([941])\n",
    "df_subset_test['Garage Area'] = df_subset_test['Garage Area'].fillna(df_subset_test['Garage Area'].mean())\n",
    "df_subset_test[\"Garage Cars\"] = df_subset_test[\"Garage Cars\"].fillna(df_subset_test[\"Garage Cars\"].mean())"
   ]
  },
  {
   "cell_type": "markdown",
   "metadata": {},
   "source": [
    "It was noticed that during model evaluation some of the observations in the test dataset under \"Kitchen Qual\" contained observations that had a category not defined in the training set."
   ]
  },
  {
   "cell_type": "code",
   "execution_count": 158,
   "metadata": {},
   "outputs": [
    {
     "data": {
      "text/plain": [
       "array(['Ex', 'Gd', 'TA', 'Fa'], dtype=object)"
      ]
     },
     "execution_count": 158,
     "metadata": {},
     "output_type": "execute_result"
    }
   ],
   "source": [
    "df_subset[\"Kitchen Qual\"].unique()"
   ]
  },
  {
   "cell_type": "code",
   "execution_count": 159,
   "metadata": {},
   "outputs": [
    {
     "data": {
      "text/plain": [
       "array(['TA', 'Gd', 'Fa', 'Ex', 'Po'], dtype=object)"
      ]
     },
     "execution_count": 159,
     "metadata": {},
     "output_type": "execute_result"
    }
   ],
   "source": [
    "df_subset_test[\"Kitchen Qual\"].unique()"
   ]
  },
  {
   "cell_type": "code",
   "execution_count": 160,
   "metadata": {},
   "outputs": [
    {
     "data": {
      "text/html": [
       "<div>\n",
       "<style scoped>\n",
       "    .dataframe tbody tr th:only-of-type {\n",
       "        vertical-align: middle;\n",
       "    }\n",
       "\n",
       "    .dataframe tbody tr th {\n",
       "        vertical-align: top;\n",
       "    }\n",
       "\n",
       "    .dataframe thead th {\n",
       "        text-align: right;\n",
       "    }\n",
       "</style>\n",
       "<table border=\"1\" class=\"dataframe\">\n",
       "  <thead>\n",
       "    <tr style=\"text-align: right;\">\n",
       "      <th></th>\n",
       "      <th>Gr Liv Area</th>\n",
       "      <th>Garage Area</th>\n",
       "      <th>Age</th>\n",
       "      <th>Last remod/add</th>\n",
       "      <th>Total Bsmt SF</th>\n",
       "      <th>1st Flr SF</th>\n",
       "      <th>Kitchen Qual</th>\n",
       "      <th>Overall Qual</th>\n",
       "      <th>Garage Finish</th>\n",
       "      <th>2nd Flr SF</th>\n",
       "      <th>BsmtFin SF 1</th>\n",
       "      <th>Full Bath</th>\n",
       "      <th>TotRms AbvGrd</th>\n",
       "      <th>Fireplaces</th>\n",
       "      <th>Garage Cars</th>\n",
       "    </tr>\n",
       "  </thead>\n",
       "  <tbody>\n",
       "    <tr>\n",
       "      <th>52</th>\n",
       "      <td>1224</td>\n",
       "      <td>180.0</td>\n",
       "      <td>93</td>\n",
       "      <td>60</td>\n",
       "      <td>689</td>\n",
       "      <td>725</td>\n",
       "      <td>Po</td>\n",
       "      <td>5</td>\n",
       "      <td>Unf</td>\n",
       "      <td>499</td>\n",
       "      <td>0</td>\n",
       "      <td>1</td>\n",
       "      <td>6</td>\n",
       "      <td>0</td>\n",
       "      <td>1.0</td>\n",
       "    </tr>\n",
       "  </tbody>\n",
       "</table>\n",
       "</div>"
      ],
      "text/plain": [
       "    Gr Liv Area  Garage Area  Age  Last remod/add  Total Bsmt SF  1st Flr SF  \\\n",
       "52         1224        180.0   93              60            689         725   \n",
       "\n",
       "   Kitchen Qual  Overall Qual Garage Finish  2nd Flr SF  BsmtFin SF 1  \\\n",
       "52           Po             5           Unf         499             0   \n",
       "\n",
       "    Full Bath  TotRms AbvGrd  Fireplaces  Garage Cars  \n",
       "52          1              6           0          1.0  "
      ]
     },
     "execution_count": 160,
     "metadata": {},
     "output_type": "execute_result"
    }
   ],
   "source": [
    "df_subset_test[df_subset_test[\"Kitchen Qual\"] == 'Po']"
   ]
  },
  {
   "cell_type": "markdown",
   "metadata": {},
   "source": [
    "Therefore, the following features that were considered for model construction and evaluation were \"SalePrice\", \"Gr Liv Area\", \"Garage Area\", \"Age\", \"Last remod/add\", \"Total Bsmt SF\", \"1st Flr SF\", \"Kitchen Qual\", \"Overall Qual\", \"Garage Finish\", '2nd Flr SF', 'BsmtFin SF 1', 'Full Bath', 'TotRms AbvGrd', 'Fireplaces' and 'Garage Cars'."
   ]
  },
  {
   "cell_type": "markdown",
   "metadata": {},
   "source": [
    "To finish feature engineering the train and test narrowed dataframes were finalised with its numerical variables being standardised. Typically the categorical variables would have been dummified here too, however, to simplify the model construction workflow this will be done just before the subset of features is being used to train the model."
   ]
  },
  {
   "cell_type": "code",
   "execution_count": 161,
   "metadata": {},
   "outputs": [],
   "source": [
    "# train-set transformations\n",
    "num_predictors_train = [\"Gr Liv Area\", \"Garage Area\", \"Age\", \n",
    "                      \"Last remod/add\", \"Total Bsmt SF\", \n",
    "                      \"1st Flr SF\", '2nd Flr SF', \n",
    "                      'BsmtFin SF 1', 'Full Bath', 'TotRms AbvGrd', \n",
    "                      'Fireplaces', 'Garage Cars']\n",
    "\n",
    "mu=df_subset[num_predictors_train].mean() # mean for each feature\n",
    "sigma=df_subset[num_predictors_train].std() # std for each feature\n",
    "\n",
    "df_subset[num_predictors_train]=(df_subset[num_predictors_train]-mu)/sigma\n",
    "\n",
    "# test-set transformations\n",
    "\n",
    "num_predictors_test = [\"Gr Liv Area\", \"Garage Area\", \"Age\", \n",
    "                      \"Last remod/add\", \"Total Bsmt SF\", \n",
    "                      \"1st Flr SF\", '2nd Flr SF', \n",
    "                      'BsmtFin SF 1', 'Full Bath', 'TotRms AbvGrd', \n",
    "                      'Fireplaces', 'Garage Cars']\n",
    "\n",
    "mu=df_subset_test[num_predictors_test].mean() # mean for each feature\n",
    "sigma=df_subset_test[num_predictors_test].std() # std for each feature\n",
    "\n",
    "df_subset_test[num_predictors_test]=(df_subset_test[num_predictors_test]-mu)/sigma"
   ]
  },
  {
   "cell_type": "markdown",
   "metadata": {},
   "source": [
    "## Model Construction"
   ]
  },
  {
   "cell_type": "markdown",
   "metadata": {},
   "source": [
    "### kNN Regression"
   ]
  },
  {
   "cell_type": "markdown",
   "metadata": {},
   "source": [
    "Using subset selection amongst the narrowed variables the most optimal model was derived. Please note that this regression was performed only with the dataset containing outliers."
   ]
  },
  {
   "cell_type": "code",
   "execution_count": 162,
   "metadata": {},
   "outputs": [],
   "source": [
    "def knn_multiple_test(features, response):\n",
    "    \n",
    "    best_features_score = np.inf\n",
    "    best_test_t = np.inf\n",
    "    \n",
    "    for predictors in features:\n",
    "    \n",
    "        neighbours=np.arange(1, 51)\n",
    "        best_score = -np.inf\n",
    "        \n",
    "        for k in neighbours: \n",
    "            if len(predictors) == 1:\n",
    "                knn = KNeighborsRegressor(n_neighbors= k) \n",
    "                scores = cross_val_score(knn, pd.get_dummies(df_subset[predictors], drop_first=True), df_subset[response], cv=5, scoring = 'neg_mean_squared_error')\n",
    "                cv_score = np.mean(scores)\n",
    "                if cv_score >= best_score:\n",
    "                    best_score = cv_score\n",
    "                    best_knn = knn\n",
    "            else:\n",
    "                knn = KNeighborsRegressor(n_neighbors = k) \n",
    "                scores = cross_val_score(knn, pd.get_dummies(df_subset[predictors], drop_first=True), df_subset[response], cv=5, scoring = 'neg_mean_squared_error')\n",
    "                # taking the average of scores across 5 folds\n",
    "                cv_score = np.mean(scores)\n",
    "                # use the cv score for model selection\n",
    "                if cv_score >= best_score:\n",
    "                    best_score = cv_score\n",
    "                    best_knn = knn\n",
    "\n",
    "        knn = best_knn\n",
    "        # train the selected model with the whole train set\n",
    "        knn.fit(pd.get_dummies(df_subset[predictors], drop_first=True), df_subset[response])\n",
    "        # Predict the test data with the selected and re-estimated model\n",
    "        predictions = knn.predict(pd.get_dummies(df_subset_test[predictors], drop_first=True))\n",
    "        # test_rmse = np.sqrt(mean_squared_error(nba_test_knn[response], predictions))\n",
    "        cv_rmse = np.sqrt(-best_score)\n",
    "        print(f'For feature selection {predictors} best K is {knn.n_neighbors}')\n",
    "        print(f'Cross Validation RMSE: {cv_rmse}')\n",
    "        # print(f'Test RMSE: {test_rmse}')\n",
    "        print('-------------------------------------------')\n",
    "        \n",
    "        if cv_rmse < best_features_score:\n",
    "            best_features_score = cv_rmse\n",
    "            # best_test = test_rmse\n",
    "            best_features = predictors\n",
    "            best_overall_knn = best_knn\n",
    "            best_predictions = predictions\n",
    "            \n",
    "#         if test_rmse < best_test_t:\n",
    "#             best_features_score_t = cv_rmse\n",
    "#             best_test_t = test_rmse\n",
    "#             best_features_t = predictors\n",
    "#             best_overall_knn_t = best_knn\n",
    "            \n",
    "#     print(f'Best kNN model uses the features {best_features}')\n",
    "#     print(f'Best CV RMSE: {best_features_score}')\n",
    "#     print(f'Best Test RMSE: {best_test}')\n",
    "    print('-------------------------------------------')\n",
    "    print('-------------------------------------------')\n",
    "    print('-------------------------------------------')\n",
    "    \n",
    "    return [best_features, best_overall_knn, best_features_score, best_predictions]"
   ]
  },
  {
   "cell_type": "code",
   "execution_count": 163,
   "metadata": {},
   "outputs": [
    {
     "data": {
      "text/plain": [
       "106"
      ]
     },
     "execution_count": 163,
     "metadata": {},
     "output_type": "execute_result"
    }
   ],
   "source": [
    "# getting the different combinations of features sets\n",
    "\n",
    "all_features = [\"Gr Liv Area\", \"Garage Area\", \"Age\", \n",
    "                      \"Last remod/add\", \"Total Bsmt SF\", \n",
    "                      \"1st Flr SF\", \"Garage Finish\", 'Overall Qual', '2nd Flr SF', \n",
    "                      'BsmtFin SF 1', 'Full Bath', 'TotRms AbvGrd', \n",
    "                      'Fireplaces', 'Garage Cars']\n",
    "\n",
    "feature_combinations = []\n",
    "\n",
    "for i in range(12,len(all_features)+1):\n",
    "    subsets = list(itertools.combinations(all_features, i))\n",
    "    for k in subsets:\n",
    "        feature_combinations.append(list(k))\n",
    "\n",
    "len(feature_combinations)"
   ]
  },
  {
   "cell_type": "code",
   "execution_count": 164,
   "metadata": {
    "scrolled": true
   },
   "outputs": [
    {
     "name": "stdout",
     "output_type": "stream",
     "text": [
      "For feature selection ['Gr Liv Area', 'Garage Area', 'Age', 'Last remod/add', 'Total Bsmt SF', '1st Flr SF', 'Garage Finish', 'Overall Qual', '2nd Flr SF', 'BsmtFin SF 1', 'Full Bath', 'TotRms AbvGrd'] best K is 7\n",
      "Cross Validation RMSE: 31558.357497306344\n",
      "-------------------------------------------\n",
      "For feature selection ['Gr Liv Area', 'Garage Area', 'Age', 'Last remod/add', 'Total Bsmt SF', '1st Flr SF', 'Garage Finish', 'Overall Qual', '2nd Flr SF', 'BsmtFin SF 1', 'Full Bath', 'Fireplaces'] best K is 8\n",
      "Cross Validation RMSE: 30899.74019816272\n",
      "-------------------------------------------\n",
      "For feature selection ['Gr Liv Area', 'Garage Area', 'Age', 'Last remod/add', 'Total Bsmt SF', '1st Flr SF', 'Garage Finish', 'Overall Qual', '2nd Flr SF', 'BsmtFin SF 1', 'Full Bath', 'Garage Cars'] best K is 8\n",
      "Cross Validation RMSE: 31701.703788540097\n",
      "-------------------------------------------\n",
      "For feature selection ['Gr Liv Area', 'Garage Area', 'Age', 'Last remod/add', 'Total Bsmt SF', '1st Flr SF', 'Garage Finish', 'Overall Qual', '2nd Flr SF', 'BsmtFin SF 1', 'TotRms AbvGrd', 'Fireplaces'] best K is 7\n",
      "Cross Validation RMSE: 30987.20519959134\n",
      "-------------------------------------------\n",
      "For feature selection ['Gr Liv Area', 'Garage Area', 'Age', 'Last remod/add', 'Total Bsmt SF', '1st Flr SF', 'Garage Finish', 'Overall Qual', '2nd Flr SF', 'BsmtFin SF 1', 'TotRms AbvGrd', 'Garage Cars'] best K is 7\n",
      "Cross Validation RMSE: 31707.868830327032\n",
      "-------------------------------------------\n",
      "For feature selection ['Gr Liv Area', 'Garage Area', 'Age', 'Last remod/add', 'Total Bsmt SF', '1st Flr SF', 'Garage Finish', 'Overall Qual', '2nd Flr SF', 'BsmtFin SF 1', 'Fireplaces', 'Garage Cars'] best K is 7\n",
      "Cross Validation RMSE: 30977.708852809203\n",
      "-------------------------------------------\n",
      "For feature selection ['Gr Liv Area', 'Garage Area', 'Age', 'Last remod/add', 'Total Bsmt SF', '1st Flr SF', 'Garage Finish', 'Overall Qual', '2nd Flr SF', 'Full Bath', 'TotRms AbvGrd', 'Fireplaces'] best K is 7\n",
      "Cross Validation RMSE: 30859.363760499982\n",
      "-------------------------------------------\n",
      "For feature selection ['Gr Liv Area', 'Garage Area', 'Age', 'Last remod/add', 'Total Bsmt SF', '1st Flr SF', 'Garage Finish', 'Overall Qual', '2nd Flr SF', 'Full Bath', 'TotRms AbvGrd', 'Garage Cars'] best K is 8\n",
      "Cross Validation RMSE: 31840.929324269277\n",
      "-------------------------------------------\n",
      "For feature selection ['Gr Liv Area', 'Garage Area', 'Age', 'Last remod/add', 'Total Bsmt SF', '1st Flr SF', 'Garage Finish', 'Overall Qual', '2nd Flr SF', 'Full Bath', 'Fireplaces', 'Garage Cars'] best K is 5\n",
      "Cross Validation RMSE: 30409.85222546258\n",
      "-------------------------------------------\n",
      "For feature selection ['Gr Liv Area', 'Garage Area', 'Age', 'Last remod/add', 'Total Bsmt SF', '1st Flr SF', 'Garage Finish', 'Overall Qual', '2nd Flr SF', 'TotRms AbvGrd', 'Fireplaces', 'Garage Cars'] best K is 10\n",
      "Cross Validation RMSE: 31105.059065336773\n",
      "-------------------------------------------\n",
      "For feature selection ['Gr Liv Area', 'Garage Area', 'Age', 'Last remod/add', 'Total Bsmt SF', '1st Flr SF', 'Garage Finish', 'Overall Qual', 'BsmtFin SF 1', 'Full Bath', 'TotRms AbvGrd', 'Fireplaces'] best K is 11\n",
      "Cross Validation RMSE: 30817.34729516472\n",
      "-------------------------------------------\n",
      "For feature selection ['Gr Liv Area', 'Garage Area', 'Age', 'Last remod/add', 'Total Bsmt SF', '1st Flr SF', 'Garage Finish', 'Overall Qual', 'BsmtFin SF 1', 'Full Bath', 'TotRms AbvGrd', 'Garage Cars'] best K is 9\n",
      "Cross Validation RMSE: 31728.8528606167\n",
      "-------------------------------------------\n",
      "For feature selection ['Gr Liv Area', 'Garage Area', 'Age', 'Last remod/add', 'Total Bsmt SF', '1st Flr SF', 'Garage Finish', 'Overall Qual', 'BsmtFin SF 1', 'Full Bath', 'Fireplaces', 'Garage Cars'] best K is 10\n",
      "Cross Validation RMSE: 31005.619129810835\n",
      "-------------------------------------------\n",
      "For feature selection ['Gr Liv Area', 'Garage Area', 'Age', 'Last remod/add', 'Total Bsmt SF', '1st Flr SF', 'Garage Finish', 'Overall Qual', 'BsmtFin SF 1', 'TotRms AbvGrd', 'Fireplaces', 'Garage Cars'] best K is 13\n",
      "Cross Validation RMSE: 30442.45078408589\n",
      "-------------------------------------------\n",
      "For feature selection ['Gr Liv Area', 'Garage Area', 'Age', 'Last remod/add', 'Total Bsmt SF', '1st Flr SF', 'Garage Finish', 'Overall Qual', 'Full Bath', 'TotRms AbvGrd', 'Fireplaces', 'Garage Cars'] best K is 12\n",
      "Cross Validation RMSE: 30893.380859721656\n",
      "-------------------------------------------\n",
      "For feature selection ['Gr Liv Area', 'Garage Area', 'Age', 'Last remod/add', 'Total Bsmt SF', '1st Flr SF', 'Garage Finish', '2nd Flr SF', 'BsmtFin SF 1', 'Full Bath', 'TotRms AbvGrd', 'Fireplaces'] best K is 7\n",
      "Cross Validation RMSE: 34318.75090887968\n",
      "-------------------------------------------\n",
      "For feature selection ['Gr Liv Area', 'Garage Area', 'Age', 'Last remod/add', 'Total Bsmt SF', '1st Flr SF', 'Garage Finish', '2nd Flr SF', 'BsmtFin SF 1', 'Full Bath', 'TotRms AbvGrd', 'Garage Cars'] best K is 5\n",
      "Cross Validation RMSE: 34956.17920450405\n",
      "-------------------------------------------\n",
      "For feature selection ['Gr Liv Area', 'Garage Area', 'Age', 'Last remod/add', 'Total Bsmt SF', '1st Flr SF', 'Garage Finish', '2nd Flr SF', 'BsmtFin SF 1', 'Full Bath', 'Fireplaces', 'Garage Cars'] best K is 5\n",
      "Cross Validation RMSE: 33526.68619855962\n",
      "-------------------------------------------\n",
      "For feature selection ['Gr Liv Area', 'Garage Area', 'Age', 'Last remod/add', 'Total Bsmt SF', '1st Flr SF', 'Garage Finish', '2nd Flr SF', 'BsmtFin SF 1', 'TotRms AbvGrd', 'Fireplaces', 'Garage Cars'] best K is 13\n",
      "Cross Validation RMSE: 34246.26862656305\n",
      "-------------------------------------------\n",
      "For feature selection ['Gr Liv Area', 'Garage Area', 'Age', 'Last remod/add', 'Total Bsmt SF', '1st Flr SF', 'Garage Finish', '2nd Flr SF', 'Full Bath', 'TotRms AbvGrd', 'Fireplaces', 'Garage Cars'] best K is 6\n",
      "Cross Validation RMSE: 33637.36091038319\n",
      "-------------------------------------------\n",
      "For feature selection ['Gr Liv Area', 'Garage Area', 'Age', 'Last remod/add', 'Total Bsmt SF', '1st Flr SF', 'Garage Finish', 'BsmtFin SF 1', 'Full Bath', 'TotRms AbvGrd', 'Fireplaces', 'Garage Cars'] best K is 12\n",
      "Cross Validation RMSE: 33760.77218255233\n",
      "-------------------------------------------\n",
      "For feature selection ['Gr Liv Area', 'Garage Area', 'Age', 'Last remod/add', 'Total Bsmt SF', '1st Flr SF', 'Overall Qual', '2nd Flr SF', 'BsmtFin SF 1', 'Full Bath', 'TotRms AbvGrd', 'Fireplaces'] best K is 7\n",
      "Cross Validation RMSE: 31230.4241257824\n",
      "-------------------------------------------\n",
      "For feature selection ['Gr Liv Area', 'Garage Area', 'Age', 'Last remod/add', 'Total Bsmt SF', '1st Flr SF', 'Overall Qual', '2nd Flr SF', 'BsmtFin SF 1', 'Full Bath', 'TotRms AbvGrd', 'Garage Cars'] best K is 7\n",
      "Cross Validation RMSE: 31921.670408316993\n",
      "-------------------------------------------\n",
      "For feature selection ['Gr Liv Area', 'Garage Area', 'Age', 'Last remod/add', 'Total Bsmt SF', '1st Flr SF', 'Overall Qual', '2nd Flr SF', 'BsmtFin SF 1', 'Full Bath', 'Fireplaces', 'Garage Cars'] best K is 6\n",
      "Cross Validation RMSE: 31331.584893829917\n",
      "-------------------------------------------\n",
      "For feature selection ['Gr Liv Area', 'Garage Area', 'Age', 'Last remod/add', 'Total Bsmt SF', '1st Flr SF', 'Overall Qual', '2nd Flr SF', 'BsmtFin SF 1', 'TotRms AbvGrd', 'Fireplaces', 'Garage Cars'] best K is 6\n",
      "Cross Validation RMSE: 30980.872978824533\n",
      "-------------------------------------------\n",
      "For feature selection ['Gr Liv Area', 'Garage Area', 'Age', 'Last remod/add', 'Total Bsmt SF', '1st Flr SF', 'Overall Qual', '2nd Flr SF', 'Full Bath', 'TotRms AbvGrd', 'Fireplaces', 'Garage Cars'] best K is 7\n",
      "Cross Validation RMSE: 30915.17149515757\n",
      "-------------------------------------------\n",
      "For feature selection ['Gr Liv Area', 'Garage Area', 'Age', 'Last remod/add', 'Total Bsmt SF', '1st Flr SF', 'Overall Qual', 'BsmtFin SF 1', 'Full Bath', 'TotRms AbvGrd', 'Fireplaces', 'Garage Cars'] best K is 14\n",
      "Cross Validation RMSE: 30847.782289109447\n",
      "-------------------------------------------\n",
      "For feature selection ['Gr Liv Area', 'Garage Area', 'Age', 'Last remod/add', 'Total Bsmt SF', '1st Flr SF', '2nd Flr SF', 'BsmtFin SF 1', 'Full Bath', 'TotRms AbvGrd', 'Fireplaces', 'Garage Cars'] best K is 6\n",
      "Cross Validation RMSE: 34080.41845922952\n",
      "-------------------------------------------\n"
     ]
    },
    {
     "name": "stdout",
     "output_type": "stream",
     "text": [
      "For feature selection ['Gr Liv Area', 'Garage Area', 'Age', 'Last remod/add', 'Total Bsmt SF', 'Garage Finish', 'Overall Qual', '2nd Flr SF', 'BsmtFin SF 1', 'Full Bath', 'TotRms AbvGrd', 'Fireplaces'] best K is 5\n",
      "Cross Validation RMSE: 31771.963770427385\n",
      "-------------------------------------------\n",
      "For feature selection ['Gr Liv Area', 'Garage Area', 'Age', 'Last remod/add', 'Total Bsmt SF', 'Garage Finish', 'Overall Qual', '2nd Flr SF', 'BsmtFin SF 1', 'Full Bath', 'TotRms AbvGrd', 'Garage Cars'] best K is 6\n",
      "Cross Validation RMSE: 32671.451153196653\n",
      "-------------------------------------------\n",
      "For feature selection ['Gr Liv Area', 'Garage Area', 'Age', 'Last remod/add', 'Total Bsmt SF', 'Garage Finish', 'Overall Qual', '2nd Flr SF', 'BsmtFin SF 1', 'Full Bath', 'Fireplaces', 'Garage Cars'] best K is 6\n",
      "Cross Validation RMSE: 32170.325498801136\n",
      "-------------------------------------------\n",
      "For feature selection ['Gr Liv Area', 'Garage Area', 'Age', 'Last remod/add', 'Total Bsmt SF', 'Garage Finish', 'Overall Qual', '2nd Flr SF', 'BsmtFin SF 1', 'TotRms AbvGrd', 'Fireplaces', 'Garage Cars'] best K is 6\n",
      "Cross Validation RMSE: 31854.063196641822\n",
      "-------------------------------------------\n",
      "For feature selection ['Gr Liv Area', 'Garage Area', 'Age', 'Last remod/add', 'Total Bsmt SF', 'Garage Finish', 'Overall Qual', '2nd Flr SF', 'Full Bath', 'TotRms AbvGrd', 'Fireplaces', 'Garage Cars'] best K is 8\n",
      "Cross Validation RMSE: 31797.682536989218\n",
      "-------------------------------------------\n",
      "For feature selection ['Gr Liv Area', 'Garage Area', 'Age', 'Last remod/add', 'Total Bsmt SF', 'Garage Finish', 'Overall Qual', 'BsmtFin SF 1', 'Full Bath', 'TotRms AbvGrd', 'Fireplaces', 'Garage Cars'] best K is 15\n",
      "Cross Validation RMSE: 31577.39675488994\n",
      "-------------------------------------------\n",
      "For feature selection ['Gr Liv Area', 'Garage Area', 'Age', 'Last remod/add', 'Total Bsmt SF', 'Garage Finish', '2nd Flr SF', 'BsmtFin SF 1', 'Full Bath', 'TotRms AbvGrd', 'Fireplaces', 'Garage Cars'] best K is 5\n",
      "Cross Validation RMSE: 34582.24041783945\n",
      "-------------------------------------------\n",
      "For feature selection ['Gr Liv Area', 'Garage Area', 'Age', 'Last remod/add', 'Total Bsmt SF', 'Overall Qual', '2nd Flr SF', 'BsmtFin SF 1', 'Full Bath', 'TotRms AbvGrd', 'Fireplaces', 'Garage Cars'] best K is 5\n",
      "Cross Validation RMSE: 31958.621536571856\n",
      "-------------------------------------------\n",
      "For feature selection ['Gr Liv Area', 'Garage Area', 'Age', 'Last remod/add', '1st Flr SF', 'Garage Finish', 'Overall Qual', '2nd Flr SF', 'BsmtFin SF 1', 'Full Bath', 'TotRms AbvGrd', 'Fireplaces'] best K is 8\n",
      "Cross Validation RMSE: 31714.23122070206\n",
      "-------------------------------------------\n",
      "For feature selection ['Gr Liv Area', 'Garage Area', 'Age', 'Last remod/add', '1st Flr SF', 'Garage Finish', 'Overall Qual', '2nd Flr SF', 'BsmtFin SF 1', 'Full Bath', 'TotRms AbvGrd', 'Garage Cars'] best K is 8\n",
      "Cross Validation RMSE: 32465.74803819217\n",
      "-------------------------------------------\n",
      "For feature selection ['Gr Liv Area', 'Garage Area', 'Age', 'Last remod/add', '1st Flr SF', 'Garage Finish', 'Overall Qual', '2nd Flr SF', 'BsmtFin SF 1', 'Full Bath', 'Fireplaces', 'Garage Cars'] best K is 6\n",
      "Cross Validation RMSE: 32247.856191959767\n",
      "-------------------------------------------\n",
      "For feature selection ['Gr Liv Area', 'Garage Area', 'Age', 'Last remod/add', '1st Flr SF', 'Garage Finish', 'Overall Qual', '2nd Flr SF', 'BsmtFin SF 1', 'TotRms AbvGrd', 'Fireplaces', 'Garage Cars'] best K is 6\n",
      "Cross Validation RMSE: 31834.918399002145\n",
      "-------------------------------------------\n",
      "For feature selection ['Gr Liv Area', 'Garage Area', 'Age', 'Last remod/add', '1st Flr SF', 'Garage Finish', 'Overall Qual', '2nd Flr SF', 'Full Bath', 'TotRms AbvGrd', 'Fireplaces', 'Garage Cars'] best K is 8\n",
      "Cross Validation RMSE: 31790.375558780866\n",
      "-------------------------------------------\n",
      "For feature selection ['Gr Liv Area', 'Garage Area', 'Age', 'Last remod/add', '1st Flr SF', 'Garage Finish', 'Overall Qual', 'BsmtFin SF 1', 'Full Bath', 'TotRms AbvGrd', 'Fireplaces', 'Garage Cars'] best K is 14\n",
      "Cross Validation RMSE: 31753.80404555931\n",
      "-------------------------------------------\n",
      "For feature selection ['Gr Liv Area', 'Garage Area', 'Age', 'Last remod/add', '1st Flr SF', 'Garage Finish', '2nd Flr SF', 'BsmtFin SF 1', 'Full Bath', 'TotRms AbvGrd', 'Fireplaces', 'Garage Cars'] best K is 8\n",
      "Cross Validation RMSE: 35242.74301313476\n",
      "-------------------------------------------\n",
      "For feature selection ['Gr Liv Area', 'Garage Area', 'Age', 'Last remod/add', '1st Flr SF', 'Overall Qual', '2nd Flr SF', 'BsmtFin SF 1', 'Full Bath', 'TotRms AbvGrd', 'Fireplaces', 'Garage Cars'] best K is 6\n",
      "Cross Validation RMSE: 32107.98331870793\n",
      "-------------------------------------------\n",
      "For feature selection ['Gr Liv Area', 'Garage Area', 'Age', 'Last remod/add', 'Garage Finish', 'Overall Qual', '2nd Flr SF', 'BsmtFin SF 1', 'Full Bath', 'TotRms AbvGrd', 'Fireplaces', 'Garage Cars'] best K is 6\n",
      "Cross Validation RMSE: 32985.197993771195\n",
      "-------------------------------------------\n",
      "For feature selection ['Gr Liv Area', 'Garage Area', 'Age', 'Total Bsmt SF', '1st Flr SF', 'Garage Finish', 'Overall Qual', '2nd Flr SF', 'BsmtFin SF 1', 'Full Bath', 'TotRms AbvGrd', 'Fireplaces'] best K is 6\n",
      "Cross Validation RMSE: 31815.436569155143\n",
      "-------------------------------------------\n",
      "For feature selection ['Gr Liv Area', 'Garage Area', 'Age', 'Total Bsmt SF', '1st Flr SF', 'Garage Finish', 'Overall Qual', '2nd Flr SF', 'BsmtFin SF 1', 'Full Bath', 'TotRms AbvGrd', 'Garage Cars'] best K is 7\n",
      "Cross Validation RMSE: 32339.91545590646\n",
      "-------------------------------------------\n",
      "For feature selection ['Gr Liv Area', 'Garage Area', 'Age', 'Total Bsmt SF', '1st Flr SF', 'Garage Finish', 'Overall Qual', '2nd Flr SF', 'BsmtFin SF 1', 'Full Bath', 'Fireplaces', 'Garage Cars'] best K is 8\n",
      "Cross Validation RMSE: 31707.664977178094\n",
      "-------------------------------------------\n",
      "For feature selection ['Gr Liv Area', 'Garage Area', 'Age', 'Total Bsmt SF', '1st Flr SF', 'Garage Finish', 'Overall Qual', '2nd Flr SF', 'BsmtFin SF 1', 'TotRms AbvGrd', 'Fireplaces', 'Garage Cars'] best K is 7\n",
      "Cross Validation RMSE: 31747.091405886396\n",
      "-------------------------------------------\n",
      "For feature selection ['Gr Liv Area', 'Garage Area', 'Age', 'Total Bsmt SF', '1st Flr SF', 'Garage Finish', 'Overall Qual', '2nd Flr SF', 'Full Bath', 'TotRms AbvGrd', 'Fireplaces', 'Garage Cars'] best K is 3\n",
      "Cross Validation RMSE: 31757.17003257228\n",
      "-------------------------------------------\n",
      "For feature selection ['Gr Liv Area', 'Garage Area', 'Age', 'Total Bsmt SF', '1st Flr SF', 'Garage Finish', 'Overall Qual', 'BsmtFin SF 1', 'Full Bath', 'TotRms AbvGrd', 'Fireplaces', 'Garage Cars'] best K is 12\n",
      "Cross Validation RMSE: 31423.736045621376\n",
      "-------------------------------------------\n",
      "For feature selection ['Gr Liv Area', 'Garage Area', 'Age', 'Total Bsmt SF', '1st Flr SF', 'Garage Finish', '2nd Flr SF', 'BsmtFin SF 1', 'Full Bath', 'TotRms AbvGrd', 'Fireplaces', 'Garage Cars'] best K is 7\n",
      "Cross Validation RMSE: 35425.61510799642\n",
      "-------------------------------------------\n",
      "For feature selection ['Gr Liv Area', 'Garage Area', 'Age', 'Total Bsmt SF', '1st Flr SF', 'Overall Qual', '2nd Flr SF', 'BsmtFin SF 1', 'Full Bath', 'TotRms AbvGrd', 'Fireplaces', 'Garage Cars'] best K is 8\n",
      "Cross Validation RMSE: 31992.401863597406\n",
      "-------------------------------------------\n",
      "For feature selection ['Gr Liv Area', 'Garage Area', 'Age', 'Total Bsmt SF', 'Garage Finish', 'Overall Qual', '2nd Flr SF', 'BsmtFin SF 1', 'Full Bath', 'TotRms AbvGrd', 'Fireplaces', 'Garage Cars'] best K is 5\n",
      "Cross Validation RMSE: 32701.073052879052\n",
      "-------------------------------------------\n",
      "For feature selection ['Gr Liv Area', 'Garage Area', 'Age', '1st Flr SF', 'Garage Finish', 'Overall Qual', '2nd Flr SF', 'BsmtFin SF 1', 'Full Bath', 'TotRms AbvGrd', 'Fireplaces', 'Garage Cars'] best K is 8\n",
      "Cross Validation RMSE: 32300.737523397882\n",
      "-------------------------------------------\n",
      "For feature selection ['Gr Liv Area', 'Garage Area', 'Last remod/add', 'Total Bsmt SF', '1st Flr SF', 'Garage Finish', 'Overall Qual', '2nd Flr SF', 'BsmtFin SF 1', 'Full Bath', 'TotRms AbvGrd', 'Fireplaces'] best K is 7\n",
      "Cross Validation RMSE: 31355.833076660638\n",
      "-------------------------------------------\n"
     ]
    },
    {
     "name": "stdout",
     "output_type": "stream",
     "text": [
      "For feature selection ['Gr Liv Area', 'Garage Area', 'Last remod/add', 'Total Bsmt SF', '1st Flr SF', 'Garage Finish', 'Overall Qual', '2nd Flr SF', 'BsmtFin SF 1', 'Full Bath', 'TotRms AbvGrd', 'Garage Cars'] best K is 5\n",
      "Cross Validation RMSE: 32152.460495177686\n",
      "-------------------------------------------\n",
      "For feature selection ['Gr Liv Area', 'Garage Area', 'Last remod/add', 'Total Bsmt SF', '1st Flr SF', 'Garage Finish', 'Overall Qual', '2nd Flr SF', 'BsmtFin SF 1', 'Full Bath', 'Fireplaces', 'Garage Cars'] best K is 8\n",
      "Cross Validation RMSE: 31345.510898716464\n",
      "-------------------------------------------\n",
      "For feature selection ['Gr Liv Area', 'Garage Area', 'Last remod/add', 'Total Bsmt SF', '1st Flr SF', 'Garage Finish', 'Overall Qual', '2nd Flr SF', 'BsmtFin SF 1', 'TotRms AbvGrd', 'Fireplaces', 'Garage Cars'] best K is 7\n",
      "Cross Validation RMSE: 31370.398468716117\n",
      "-------------------------------------------\n",
      "For feature selection ['Gr Liv Area', 'Garage Area', 'Last remod/add', 'Total Bsmt SF', '1st Flr SF', 'Garage Finish', 'Overall Qual', '2nd Flr SF', 'Full Bath', 'TotRms AbvGrd', 'Fireplaces', 'Garage Cars'] best K is 9\n",
      "Cross Validation RMSE: 31163.129881017016\n",
      "-------------------------------------------\n",
      "For feature selection ['Gr Liv Area', 'Garage Area', 'Last remod/add', 'Total Bsmt SF', '1st Flr SF', 'Garage Finish', 'Overall Qual', 'BsmtFin SF 1', 'Full Bath', 'TotRms AbvGrd', 'Fireplaces', 'Garage Cars'] best K is 12\n",
      "Cross Validation RMSE: 31042.912200267237\n",
      "-------------------------------------------\n",
      "For feature selection ['Gr Liv Area', 'Garage Area', 'Last remod/add', 'Total Bsmt SF', '1st Flr SF', 'Garage Finish', '2nd Flr SF', 'BsmtFin SF 1', 'Full Bath', 'TotRms AbvGrd', 'Fireplaces', 'Garage Cars'] best K is 12\n",
      "Cross Validation RMSE: 35101.23141885483\n",
      "-------------------------------------------\n",
      "For feature selection ['Gr Liv Area', 'Garage Area', 'Last remod/add', 'Total Bsmt SF', '1st Flr SF', 'Overall Qual', '2nd Flr SF', 'BsmtFin SF 1', 'Full Bath', 'TotRms AbvGrd', 'Fireplaces', 'Garage Cars'] best K is 7\n",
      "Cross Validation RMSE: 31594.214603259697\n",
      "-------------------------------------------\n",
      "For feature selection ['Gr Liv Area', 'Garage Area', 'Last remod/add', 'Total Bsmt SF', 'Garage Finish', 'Overall Qual', '2nd Flr SF', 'BsmtFin SF 1', 'Full Bath', 'TotRms AbvGrd', 'Fireplaces', 'Garage Cars'] best K is 5\n",
      "Cross Validation RMSE: 32060.57172228723\n",
      "-------------------------------------------\n",
      "For feature selection ['Gr Liv Area', 'Garage Area', 'Last remod/add', '1st Flr SF', 'Garage Finish', 'Overall Qual', '2nd Flr SF', 'BsmtFin SF 1', 'Full Bath', 'TotRms AbvGrd', 'Fireplaces', 'Garage Cars'] best K is 7\n",
      "Cross Validation RMSE: 32053.26023929806\n",
      "-------------------------------------------\n",
      "For feature selection ['Gr Liv Area', 'Garage Area', 'Total Bsmt SF', '1st Flr SF', 'Garage Finish', 'Overall Qual', '2nd Flr SF', 'BsmtFin SF 1', 'Full Bath', 'TotRms AbvGrd', 'Fireplaces', 'Garage Cars'] best K is 7\n",
      "Cross Validation RMSE: 32272.033463661828\n",
      "-------------------------------------------\n",
      "For feature selection ['Gr Liv Area', 'Age', 'Last remod/add', 'Total Bsmt SF', '1st Flr SF', 'Garage Finish', 'Overall Qual', '2nd Flr SF', 'BsmtFin SF 1', 'Full Bath', 'TotRms AbvGrd', 'Fireplaces'] best K is 8\n",
      "Cross Validation RMSE: 32029.543261945983\n",
      "-------------------------------------------\n",
      "For feature selection ['Gr Liv Area', 'Age', 'Last remod/add', 'Total Bsmt SF', '1st Flr SF', 'Garage Finish', 'Overall Qual', '2nd Flr SF', 'BsmtFin SF 1', 'Full Bath', 'TotRms AbvGrd', 'Garage Cars'] best K is 7\n",
      "Cross Validation RMSE: 31666.05856399986\n",
      "-------------------------------------------\n",
      "For feature selection ['Gr Liv Area', 'Age', 'Last remod/add', 'Total Bsmt SF', '1st Flr SF', 'Garage Finish', 'Overall Qual', '2nd Flr SF', 'BsmtFin SF 1', 'Full Bath', 'Fireplaces', 'Garage Cars'] best K is 7\n",
      "Cross Validation RMSE: 31187.571381538175\n",
      "-------------------------------------------\n",
      "For feature selection ['Gr Liv Area', 'Age', 'Last remod/add', 'Total Bsmt SF', '1st Flr SF', 'Garage Finish', 'Overall Qual', '2nd Flr SF', 'BsmtFin SF 1', 'TotRms AbvGrd', 'Fireplaces', 'Garage Cars'] best K is 7\n",
      "Cross Validation RMSE: 31327.13738251027\n",
      "-------------------------------------------\n",
      "For feature selection ['Gr Liv Area', 'Age', 'Last remod/add', 'Total Bsmt SF', '1st Flr SF', 'Garage Finish', 'Overall Qual', '2nd Flr SF', 'Full Bath', 'TotRms AbvGrd', 'Fireplaces', 'Garage Cars'] best K is 7\n",
      "Cross Validation RMSE: 30962.60398750551\n",
      "-------------------------------------------\n",
      "For feature selection ['Gr Liv Area', 'Age', 'Last remod/add', 'Total Bsmt SF', '1st Flr SF', 'Garage Finish', 'Overall Qual', 'BsmtFin SF 1', 'Full Bath', 'TotRms AbvGrd', 'Fireplaces', 'Garage Cars'] best K is 12\n",
      "Cross Validation RMSE: 30799.059801823718\n",
      "-------------------------------------------\n",
      "For feature selection ['Gr Liv Area', 'Age', 'Last remod/add', 'Total Bsmt SF', '1st Flr SF', 'Garage Finish', '2nd Flr SF', 'BsmtFin SF 1', 'Full Bath', 'TotRms AbvGrd', 'Fireplaces', 'Garage Cars'] best K is 7\n",
      "Cross Validation RMSE: 34018.38869574785\n",
      "-------------------------------------------\n",
      "For feature selection ['Gr Liv Area', 'Age', 'Last remod/add', 'Total Bsmt SF', '1st Flr SF', 'Overall Qual', '2nd Flr SF', 'BsmtFin SF 1', 'Full Bath', 'TotRms AbvGrd', 'Fireplaces', 'Garage Cars'] best K is 5\n",
      "Cross Validation RMSE: 31551.520919831637\n",
      "-------------------------------------------\n",
      "For feature selection ['Gr Liv Area', 'Age', 'Last remod/add', 'Total Bsmt SF', 'Garage Finish', 'Overall Qual', '2nd Flr SF', 'BsmtFin SF 1', 'Full Bath', 'TotRms AbvGrd', 'Fireplaces', 'Garage Cars'] best K is 7\n",
      "Cross Validation RMSE: 31840.21539038193\n",
      "-------------------------------------------\n",
      "For feature selection ['Gr Liv Area', 'Age', 'Last remod/add', '1st Flr SF', 'Garage Finish', 'Overall Qual', '2nd Flr SF', 'BsmtFin SF 1', 'Full Bath', 'TotRms AbvGrd', 'Fireplaces', 'Garage Cars'] best K is 8\n",
      "Cross Validation RMSE: 31798.642916270826\n",
      "-------------------------------------------\n",
      "For feature selection ['Gr Liv Area', 'Age', 'Total Bsmt SF', '1st Flr SF', 'Garage Finish', 'Overall Qual', '2nd Flr SF', 'BsmtFin SF 1', 'Full Bath', 'TotRms AbvGrd', 'Fireplaces', 'Garage Cars'] best K is 7\n",
      "Cross Validation RMSE: 31671.17123098958\n",
      "-------------------------------------------\n",
      "For feature selection ['Gr Liv Area', 'Last remod/add', 'Total Bsmt SF', '1st Flr SF', 'Garage Finish', 'Overall Qual', '2nd Flr SF', 'BsmtFin SF 1', 'Full Bath', 'TotRms AbvGrd', 'Fireplaces', 'Garage Cars'] best K is 7\n",
      "Cross Validation RMSE: 31276.377879490225\n",
      "-------------------------------------------\n",
      "For feature selection ['Garage Area', 'Age', 'Last remod/add', 'Total Bsmt SF', '1st Flr SF', 'Garage Finish', 'Overall Qual', '2nd Flr SF', 'BsmtFin SF 1', 'Full Bath', 'TotRms AbvGrd', 'Fireplaces'] best K is 7\n",
      "Cross Validation RMSE: 31779.07530387956\n",
      "-------------------------------------------\n",
      "For feature selection ['Garage Area', 'Age', 'Last remod/add', 'Total Bsmt SF', '1st Flr SF', 'Garage Finish', 'Overall Qual', '2nd Flr SF', 'BsmtFin SF 1', 'Full Bath', 'TotRms AbvGrd', 'Garage Cars'] best K is 6\n",
      "Cross Validation RMSE: 32445.034271902085\n",
      "-------------------------------------------\n",
      "For feature selection ['Garage Area', 'Age', 'Last remod/add', 'Total Bsmt SF', '1st Flr SF', 'Garage Finish', 'Overall Qual', '2nd Flr SF', 'BsmtFin SF 1', 'Full Bath', 'Fireplaces', 'Garage Cars'] best K is 7\n",
      "Cross Validation RMSE: 32108.024844592062\n",
      "-------------------------------------------\n",
      "For feature selection ['Garage Area', 'Age', 'Last remod/add', 'Total Bsmt SF', '1st Flr SF', 'Garage Finish', 'Overall Qual', '2nd Flr SF', 'BsmtFin SF 1', 'TotRms AbvGrd', 'Fireplaces', 'Garage Cars'] best K is 6\n",
      "Cross Validation RMSE: 31998.57639981822\n",
      "-------------------------------------------\n",
      "For feature selection ['Garage Area', 'Age', 'Last remod/add', 'Total Bsmt SF', '1st Flr SF', 'Garage Finish', 'Overall Qual', '2nd Flr SF', 'Full Bath', 'TotRms AbvGrd', 'Fireplaces', 'Garage Cars'] best K is 6\n",
      "Cross Validation RMSE: 31419.602181518854\n",
      "-------------------------------------------\n",
      "For feature selection ['Garage Area', 'Age', 'Last remod/add', 'Total Bsmt SF', '1st Flr SF', 'Garage Finish', 'Overall Qual', 'BsmtFin SF 1', 'Full Bath', 'TotRms AbvGrd', 'Fireplaces', 'Garage Cars'] best K is 7\n",
      "Cross Validation RMSE: 32405.082015176187\n",
      "-------------------------------------------\n"
     ]
    },
    {
     "name": "stdout",
     "output_type": "stream",
     "text": [
      "For feature selection ['Garage Area', 'Age', 'Last remod/add', 'Total Bsmt SF', '1st Flr SF', 'Garage Finish', '2nd Flr SF', 'BsmtFin SF 1', 'Full Bath', 'TotRms AbvGrd', 'Fireplaces', 'Garage Cars'] best K is 5\n",
      "Cross Validation RMSE: 34763.59417551497\n",
      "-------------------------------------------\n",
      "For feature selection ['Garage Area', 'Age', 'Last remod/add', 'Total Bsmt SF', '1st Flr SF', 'Overall Qual', '2nd Flr SF', 'BsmtFin SF 1', 'Full Bath', 'TotRms AbvGrd', 'Fireplaces', 'Garage Cars'] best K is 7\n",
      "Cross Validation RMSE: 32027.903589198457\n",
      "-------------------------------------------\n",
      "For feature selection ['Garage Area', 'Age', 'Last remod/add', 'Total Bsmt SF', 'Garage Finish', 'Overall Qual', '2nd Flr SF', 'BsmtFin SF 1', 'Full Bath', 'TotRms AbvGrd', 'Fireplaces', 'Garage Cars'] best K is 5\n",
      "Cross Validation RMSE: 33241.97704093023\n",
      "-------------------------------------------\n",
      "For feature selection ['Garage Area', 'Age', 'Last remod/add', '1st Flr SF', 'Garage Finish', 'Overall Qual', '2nd Flr SF', 'BsmtFin SF 1', 'Full Bath', 'TotRms AbvGrd', 'Fireplaces', 'Garage Cars'] best K is 4\n",
      "Cross Validation RMSE: 32930.78990478765\n",
      "-------------------------------------------\n",
      "For feature selection ['Garage Area', 'Age', 'Total Bsmt SF', '1st Flr SF', 'Garage Finish', 'Overall Qual', '2nd Flr SF', 'BsmtFin SF 1', 'Full Bath', 'TotRms AbvGrd', 'Fireplaces', 'Garage Cars'] best K is 7\n",
      "Cross Validation RMSE: 32463.212075444477\n",
      "-------------------------------------------\n",
      "For feature selection ['Garage Area', 'Last remod/add', 'Total Bsmt SF', '1st Flr SF', 'Garage Finish', 'Overall Qual', '2nd Flr SF', 'BsmtFin SF 1', 'Full Bath', 'TotRms AbvGrd', 'Fireplaces', 'Garage Cars'] best K is 8\n",
      "Cross Validation RMSE: 31885.49420745213\n",
      "-------------------------------------------\n",
      "For feature selection ['Age', 'Last remod/add', 'Total Bsmt SF', '1st Flr SF', 'Garage Finish', 'Overall Qual', '2nd Flr SF', 'BsmtFin SF 1', 'Full Bath', 'TotRms AbvGrd', 'Fireplaces', 'Garage Cars'] best K is 8\n",
      "Cross Validation RMSE: 31760.087388594984\n",
      "-------------------------------------------\n",
      "For feature selection ['Gr Liv Area', 'Garage Area', 'Age', 'Last remod/add', 'Total Bsmt SF', '1st Flr SF', 'Garage Finish', 'Overall Qual', '2nd Flr SF', 'BsmtFin SF 1', 'Full Bath', 'TotRms AbvGrd', 'Fireplaces'] best K is 7\n",
      "Cross Validation RMSE: 31272.908048386027\n",
      "-------------------------------------------\n",
      "For feature selection ['Gr Liv Area', 'Garage Area', 'Age', 'Last remod/add', 'Total Bsmt SF', '1st Flr SF', 'Garage Finish', 'Overall Qual', '2nd Flr SF', 'BsmtFin SF 1', 'Full Bath', 'TotRms AbvGrd', 'Garage Cars'] best K is 7\n",
      "Cross Validation RMSE: 31744.313014739695\n",
      "-------------------------------------------\n",
      "For feature selection ['Gr Liv Area', 'Garage Area', 'Age', 'Last remod/add', 'Total Bsmt SF', '1st Flr SF', 'Garage Finish', 'Overall Qual', '2nd Flr SF', 'BsmtFin SF 1', 'Full Bath', 'Fireplaces', 'Garage Cars'] best K is 8\n",
      "Cross Validation RMSE: 31212.91426271642\n",
      "-------------------------------------------\n",
      "For feature selection ['Gr Liv Area', 'Garage Area', 'Age', 'Last remod/add', 'Total Bsmt SF', '1st Flr SF', 'Garage Finish', 'Overall Qual', '2nd Flr SF', 'BsmtFin SF 1', 'TotRms AbvGrd', 'Fireplaces', 'Garage Cars'] best K is 7\n",
      "Cross Validation RMSE: 31101.483034485733\n",
      "-------------------------------------------\n",
      "For feature selection ['Gr Liv Area', 'Garage Area', 'Age', 'Last remod/add', 'Total Bsmt SF', '1st Flr SF', 'Garage Finish', 'Overall Qual', '2nd Flr SF', 'Full Bath', 'TotRms AbvGrd', 'Fireplaces', 'Garage Cars'] best K is 9\n",
      "Cross Validation RMSE: 31129.52922492784\n",
      "-------------------------------------------\n",
      "For feature selection ['Gr Liv Area', 'Garage Area', 'Age', 'Last remod/add', 'Total Bsmt SF', '1st Flr SF', 'Garage Finish', 'Overall Qual', 'BsmtFin SF 1', 'Full Bath', 'TotRms AbvGrd', 'Fireplaces', 'Garage Cars'] best K is 12\n",
      "Cross Validation RMSE: 30973.41932009461\n",
      "-------------------------------------------\n",
      "For feature selection ['Gr Liv Area', 'Garage Area', 'Age', 'Last remod/add', 'Total Bsmt SF', '1st Flr SF', 'Garage Finish', '2nd Flr SF', 'BsmtFin SF 1', 'Full Bath', 'TotRms AbvGrd', 'Fireplaces', 'Garage Cars'] best K is 6\n",
      "Cross Validation RMSE: 34304.03776851817\n",
      "-------------------------------------------\n",
      "For feature selection ['Gr Liv Area', 'Garage Area', 'Age', 'Last remod/add', 'Total Bsmt SF', '1st Flr SF', 'Overall Qual', '2nd Flr SF', 'BsmtFin SF 1', 'Full Bath', 'TotRms AbvGrd', 'Fireplaces', 'Garage Cars'] best K is 12\n",
      "Cross Validation RMSE: 31470.06949553144\n",
      "-------------------------------------------\n",
      "For feature selection ['Gr Liv Area', 'Garage Area', 'Age', 'Last remod/add', 'Total Bsmt SF', 'Garage Finish', 'Overall Qual', '2nd Flr SF', 'BsmtFin SF 1', 'Full Bath', 'TotRms AbvGrd', 'Fireplaces', 'Garage Cars'] best K is 5\n",
      "Cross Validation RMSE: 32209.79413406746\n",
      "-------------------------------------------\n",
      "For feature selection ['Gr Liv Area', 'Garage Area', 'Age', 'Last remod/add', '1st Flr SF', 'Garage Finish', 'Overall Qual', '2nd Flr SF', 'BsmtFin SF 1', 'Full Bath', 'TotRms AbvGrd', 'Fireplaces', 'Garage Cars'] best K is 6\n",
      "Cross Validation RMSE: 32106.674766175318\n",
      "-------------------------------------------\n",
      "For feature selection ['Gr Liv Area', 'Garage Area', 'Age', 'Total Bsmt SF', '1st Flr SF', 'Garage Finish', 'Overall Qual', '2nd Flr SF', 'BsmtFin SF 1', 'Full Bath', 'TotRms AbvGrd', 'Fireplaces', 'Garage Cars'] best K is 8\n",
      "Cross Validation RMSE: 31889.436400734943\n",
      "-------------------------------------------\n",
      "For feature selection ['Gr Liv Area', 'Garage Area', 'Last remod/add', 'Total Bsmt SF', '1st Flr SF', 'Garage Finish', 'Overall Qual', '2nd Flr SF', 'BsmtFin SF 1', 'Full Bath', 'TotRms AbvGrd', 'Fireplaces', 'Garage Cars'] best K is 7\n",
      "Cross Validation RMSE: 31509.202103959957\n",
      "-------------------------------------------\n",
      "For feature selection ['Gr Liv Area', 'Age', 'Last remod/add', 'Total Bsmt SF', '1st Flr SF', 'Garage Finish', 'Overall Qual', '2nd Flr SF', 'BsmtFin SF 1', 'Full Bath', 'TotRms AbvGrd', 'Fireplaces', 'Garage Cars'] best K is 8\n",
      "Cross Validation RMSE: 31339.96969898583\n",
      "-------------------------------------------\n",
      "For feature selection ['Garage Area', 'Age', 'Last remod/add', 'Total Bsmt SF', '1st Flr SF', 'Garage Finish', 'Overall Qual', '2nd Flr SF', 'BsmtFin SF 1', 'Full Bath', 'TotRms AbvGrd', 'Fireplaces', 'Garage Cars'] best K is 7\n",
      "Cross Validation RMSE: 32026.75489822122\n",
      "-------------------------------------------\n",
      "For feature selection ['Gr Liv Area', 'Garage Area', 'Age', 'Last remod/add', 'Total Bsmt SF', '1st Flr SF', 'Garage Finish', 'Overall Qual', '2nd Flr SF', 'BsmtFin SF 1', 'Full Bath', 'TotRms AbvGrd', 'Fireplaces', 'Garage Cars'] best K is 8\n",
      "Cross Validation RMSE: 31381.01155722529\n",
      "-------------------------------------------\n",
      "-------------------------------------------\n",
      "-------------------------------------------\n",
      "-------------------------------------------\n",
      "-------------------------------------------\n",
      "-------------------------------------------\n",
      "------OVERALL BEST MODEL BY CV-RMSE--------\n",
      "-------------------------------------------\n",
      "-------------------------------------------\n",
      "Overall Best kNN model uses the features ['Gr Liv Area', 'Garage Area', 'Age', 'Last remod/add', 'Total Bsmt SF', '1st Flr SF', 'Garage Finish', 'Overall Qual', '2nd Flr SF', 'Full Bath', 'Fireplaces', 'Garage Cars']\n",
      "CV RMSE: 30409.85222546258\n",
      "Number of neighbours: 5\n"
     ]
    }
   ],
   "source": [
    "best_set_model = []\n",
    "\n",
    "best_set_model.append(knn_multiple_test(feature_combinations, 'SalePrice'))\n",
    "\n",
    "overall_best_score = np.inf\n",
    "for i in best_set_model:\n",
    "    if i[2] < overall_best_score:\n",
    "        overall_best_score = i[2]\n",
    "        overall_best_features = i[0]\n",
    "        overall_best_knn_cv = i[1]\n",
    "        overall_best_predictions = i[3]\n",
    "        \n",
    "print('-------------------------------------------')    \n",
    "print('-------------------------------------------')        \n",
    "print('------OVERALL BEST MODEL BY CV-RMSE--------')        \n",
    "print('-------------------------------------------')        \n",
    "print('-------------------------------------------')        \n",
    "\n",
    "print(f'Overall Best kNN model uses the features {overall_best_features}')\n",
    "print(f'CV RMSE: {overall_best_score}')\n",
    "print(f'Number of neighbours: {overall_best_knn_cv.n_neighbors}')"
   ]
  },
  {
   "cell_type": "code",
   "execution_count": 166,
   "metadata": {},
   "outputs": [],
   "source": [
    "predictions = pd.concat([pd.Series(df_subset_test.index), pd.Series(overall_best_predictions)], axis=1, ignore_index=True)\n",
    "predictions = predictions.rename(columns={1: \"SalePrice\"})\n",
    "predictions = predictions.drop([0], axis=1)\n",
    "predictions.index.names = ['Test_ID']\n",
    "predictions.to_csv(\"new_predictions-with-overall-qual/Predictions_knn_with_outliers.csv\")\n",
    "\n",
    "# kaggle test-rmse = 31024.5182"
   ]
  },
  {
   "cell_type": "markdown",
   "metadata": {},
   "source": [
    "### Multiple Linear Regression"
   ]
  },
  {
   "cell_type": "code",
   "execution_count": 167,
   "metadata": {},
   "outputs": [],
   "source": [
    "def mlr_multiple_test(features, response, train_dataset, test_dataset):\n",
    "    \n",
    "    best_features_score = np.inf\n",
    "    best_test_t = np.inf\n",
    "    \n",
    "    for predictors in features:\n",
    "    \n",
    "        best_score = -np.inf\n",
    "        \n",
    "        mlr = LinearRegression()\n",
    "\n",
    "        scores = cross_val_score(mlr, pd.get_dummies(train_dataset[predictors], drop_first=True), train_dataset[response], cv=5, scoring = 'neg_mean_squared_error')\n",
    "        cv_score = np.mean(scores)\n",
    "        \n",
    "        # train the selected model with the whole train set\n",
    "        mlr.fit(pd.get_dummies(train_dataset[predictors], drop_first=True), train_dataset[response])\n",
    "        \n",
    "        # Predict the test data with the selected and re-estimated model\n",
    "        predictions = mlr.predict(pd.get_dummies(test_dataset[predictors], drop_first=True))\n",
    "        cv_rmse= np.sqrt(-cv_score)        \n",
    "        \n",
    "        print(f'For feature selection {predictors}')\n",
    "        print(f'Cross Validation RMSE: {cv_rmse}')\n",
    "        print('-------------------------------------------')\n",
    "        \n",
    "        if cv_rmse < best_features_score:\n",
    "            best_features_score = cv_rmse\n",
    "            best_features = predictors\n",
    "            best_overall = mlr\n",
    "            best_predictions = predictions\n",
    "            \n",
    "#     print(f'Best kNN model uses the features {best_features}')\n",
    "#     print(f'Best CV RMSE: {best_features_score}')\n",
    "#     print(f'Best Test RMSE: {best_test}')\n",
    "    print('-------------------------------------------')\n",
    "    print('-------------------------------------------')\n",
    "    print('-------------------------------------------')\n",
    "\n",
    "    return [best_features, best_overall, best_features_score, best_predictions]"
   ]
  },
  {
   "cell_type": "code",
   "execution_count": 168,
   "metadata": {},
   "outputs": [
    {
     "name": "stdout",
     "output_type": "stream",
     "text": [
      "For feature selection ['Gr Liv Area', 'Garage Area', 'Age', 'Last remod/add', 'Total Bsmt SF', '1st Flr SF', 'Garage Finish', 'Overall Qual', '2nd Flr SF', 'BsmtFin SF 1', 'Full Bath', 'TotRms AbvGrd']\n",
      "Cross Validation RMSE: 35305.53619104749\n",
      "-------------------------------------------\n",
      "For feature selection ['Gr Liv Area', 'Garage Area', 'Age', 'Last remod/add', 'Total Bsmt SF', '1st Flr SF', 'Garage Finish', 'Overall Qual', '2nd Flr SF', 'BsmtFin SF 1', 'Full Bath', 'Fireplaces']\n",
      "Cross Validation RMSE: 35243.60737239074\n",
      "-------------------------------------------\n",
      "For feature selection ['Gr Liv Area', 'Garage Area', 'Age', 'Last remod/add', 'Total Bsmt SF', '1st Flr SF', 'Garage Finish', 'Overall Qual', '2nd Flr SF', 'BsmtFin SF 1', 'Full Bath', 'Garage Cars']\n",
      "Cross Validation RMSE: 35387.91289818742\n",
      "-------------------------------------------\n",
      "For feature selection ['Gr Liv Area', 'Garage Area', 'Age', 'Last remod/add', 'Total Bsmt SF', '1st Flr SF', 'Garage Finish', 'Overall Qual', '2nd Flr SF', 'BsmtFin SF 1', 'TotRms AbvGrd', 'Fireplaces']\n",
      "Cross Validation RMSE: 35025.08974996462\n",
      "-------------------------------------------\n",
      "For feature selection ['Gr Liv Area', 'Garage Area', 'Age', 'Last remod/add', 'Total Bsmt SF', '1st Flr SF', 'Garage Finish', 'Overall Qual', '2nd Flr SF', 'BsmtFin SF 1', 'TotRms AbvGrd', 'Garage Cars']\n",
      "Cross Validation RMSE: 35158.941466923745\n",
      "-------------------------------------------\n",
      "For feature selection ['Gr Liv Area', 'Garage Area', 'Age', 'Last remod/add', 'Total Bsmt SF', '1st Flr SF', 'Garage Finish', 'Overall Qual', '2nd Flr SF', 'BsmtFin SF 1', 'Fireplaces', 'Garage Cars']\n",
      "Cross Validation RMSE: 35090.79070485253\n",
      "-------------------------------------------\n",
      "For feature selection ['Gr Liv Area', 'Garage Area', 'Age', 'Last remod/add', 'Total Bsmt SF', '1st Flr SF', 'Garage Finish', 'Overall Qual', '2nd Flr SF', 'Full Bath', 'TotRms AbvGrd', 'Fireplaces']\n",
      "Cross Validation RMSE: 36024.64168642093\n",
      "-------------------------------------------\n",
      "For feature selection ['Gr Liv Area', 'Garage Area', 'Age', 'Last remod/add', 'Total Bsmt SF', '1st Flr SF', 'Garage Finish', 'Overall Qual', '2nd Flr SF', 'Full Bath', 'TotRms AbvGrd', 'Garage Cars']\n",
      "Cross Validation RMSE: 36340.81415460666\n",
      "-------------------------------------------\n",
      "For feature selection ['Gr Liv Area', 'Garage Area', 'Age', 'Last remod/add', 'Total Bsmt SF', '1st Flr SF', 'Garage Finish', 'Overall Qual', '2nd Flr SF', 'Full Bath', 'Fireplaces', 'Garage Cars']\n",
      "Cross Validation RMSE: 36160.003578619755\n",
      "-------------------------------------------\n",
      "For feature selection ['Gr Liv Area', 'Garage Area', 'Age', 'Last remod/add', 'Total Bsmt SF', '1st Flr SF', 'Garage Finish', 'Overall Qual', '2nd Flr SF', 'TotRms AbvGrd', 'Fireplaces', 'Garage Cars']\n",
      "Cross Validation RMSE: 35873.694371746125\n",
      "-------------------------------------------\n",
      "For feature selection ['Gr Liv Area', 'Garage Area', 'Age', 'Last remod/add', 'Total Bsmt SF', '1st Flr SF', 'Garage Finish', 'Overall Qual', 'BsmtFin SF 1', 'Full Bath', 'TotRms AbvGrd', 'Fireplaces']\n",
      "Cross Validation RMSE: 35130.08799553654\n",
      "-------------------------------------------\n",
      "For feature selection ['Gr Liv Area', 'Garage Area', 'Age', 'Last remod/add', 'Total Bsmt SF', '1st Flr SF', 'Garage Finish', 'Overall Qual', 'BsmtFin SF 1', 'Full Bath', 'TotRms AbvGrd', 'Garage Cars']\n",
      "Cross Validation RMSE: 35242.170017324104\n",
      "-------------------------------------------\n",
      "For feature selection ['Gr Liv Area', 'Garage Area', 'Age', 'Last remod/add', 'Total Bsmt SF', '1st Flr SF', 'Garage Finish', 'Overall Qual', 'BsmtFin SF 1', 'Full Bath', 'Fireplaces', 'Garage Cars']\n",
      "Cross Validation RMSE: 35191.61879736438\n",
      "-------------------------------------------\n",
      "For feature selection ['Gr Liv Area', 'Garage Area', 'Age', 'Last remod/add', 'Total Bsmt SF', '1st Flr SF', 'Garage Finish', 'Overall Qual', 'BsmtFin SF 1', 'TotRms AbvGrd', 'Fireplaces', 'Garage Cars']\n",
      "Cross Validation RMSE: 34973.58166939803\n",
      "-------------------------------------------\n",
      "For feature selection ['Gr Liv Area', 'Garage Area', 'Age', 'Last remod/add', 'Total Bsmt SF', '1st Flr SF', 'Garage Finish', 'Overall Qual', 'Full Bath', 'TotRms AbvGrd', 'Fireplaces', 'Garage Cars']\n",
      "Cross Validation RMSE: 35999.8747348499\n",
      "-------------------------------------------\n",
      "For feature selection ['Gr Liv Area', 'Garage Area', 'Age', 'Last remod/add', 'Total Bsmt SF', '1st Flr SF', 'Garage Finish', '2nd Flr SF', 'BsmtFin SF 1', 'Full Bath', 'TotRms AbvGrd', 'Fireplaces']\n",
      "Cross Validation RMSE: 38494.01983135452\n",
      "-------------------------------------------\n",
      "For feature selection ['Gr Liv Area', 'Garage Area', 'Age', 'Last remod/add', 'Total Bsmt SF', '1st Flr SF', 'Garage Finish', '2nd Flr SF', 'BsmtFin SF 1', 'Full Bath', 'TotRms AbvGrd', 'Garage Cars']\n",
      "Cross Validation RMSE: 38814.47238774305\n",
      "-------------------------------------------\n",
      "For feature selection ['Gr Liv Area', 'Garage Area', 'Age', 'Last remod/add', 'Total Bsmt SF', '1st Flr SF', 'Garage Finish', '2nd Flr SF', 'BsmtFin SF 1', 'Full Bath', 'Fireplaces', 'Garage Cars']\n",
      "Cross Validation RMSE: 38565.03745931153\n",
      "-------------------------------------------\n",
      "For feature selection ['Gr Liv Area', 'Garage Area', 'Age', 'Last remod/add', 'Total Bsmt SF', '1st Flr SF', 'Garage Finish', '2nd Flr SF', 'BsmtFin SF 1', 'TotRms AbvGrd', 'Fireplaces', 'Garage Cars']\n",
      "Cross Validation RMSE: 38310.37059716143\n",
      "-------------------------------------------\n",
      "For feature selection ['Gr Liv Area', 'Garage Area', 'Age', 'Last remod/add', 'Total Bsmt SF', '1st Flr SF', 'Garage Finish', '2nd Flr SF', 'Full Bath', 'TotRms AbvGrd', 'Fireplaces', 'Garage Cars']\n",
      "Cross Validation RMSE: 39081.70756721939\n",
      "-------------------------------------------\n",
      "For feature selection ['Gr Liv Area', 'Garage Area', 'Age', 'Last remod/add', 'Total Bsmt SF', '1st Flr SF', 'Garage Finish', 'BsmtFin SF 1', 'Full Bath', 'TotRms AbvGrd', 'Fireplaces', 'Garage Cars']\n",
      "Cross Validation RMSE: 38405.607381060676\n",
      "-------------------------------------------\n",
      "For feature selection ['Gr Liv Area', 'Garage Area', 'Age', 'Last remod/add', 'Total Bsmt SF', '1st Flr SF', 'Overall Qual', '2nd Flr SF', 'BsmtFin SF 1', 'Full Bath', 'TotRms AbvGrd', 'Fireplaces']\n",
      "Cross Validation RMSE: 35459.567928469914\n",
      "-------------------------------------------\n",
      "For feature selection ['Gr Liv Area', 'Garage Area', 'Age', 'Last remod/add', 'Total Bsmt SF', '1st Flr SF', 'Overall Qual', '2nd Flr SF', 'BsmtFin SF 1', 'Full Bath', 'TotRms AbvGrd', 'Garage Cars']\n",
      "Cross Validation RMSE: 35575.790108408284\n",
      "-------------------------------------------\n",
      "For feature selection ['Gr Liv Area', 'Garage Area', 'Age', 'Last remod/add', 'Total Bsmt SF', '1st Flr SF', 'Overall Qual', '2nd Flr SF', 'BsmtFin SF 1', 'Full Bath', 'Fireplaces', 'Garage Cars']\n",
      "Cross Validation RMSE: 35520.848301452796\n",
      "-------------------------------------------\n",
      "For feature selection ['Gr Liv Area', 'Garage Area', 'Age', 'Last remod/add', 'Total Bsmt SF', '1st Flr SF', 'Overall Qual', '2nd Flr SF', 'BsmtFin SF 1', 'TotRms AbvGrd', 'Fireplaces', 'Garage Cars']\n",
      "Cross Validation RMSE: 35287.75557334619\n",
      "-------------------------------------------\n",
      "For feature selection ['Gr Liv Area', 'Garage Area', 'Age', 'Last remod/add', 'Total Bsmt SF', '1st Flr SF', 'Overall Qual', '2nd Flr SF', 'Full Bath', 'TotRms AbvGrd', 'Fireplaces', 'Garage Cars']\n",
      "Cross Validation RMSE: 36331.10540183687\n",
      "-------------------------------------------\n",
      "For feature selection ['Gr Liv Area', 'Garage Area', 'Age', 'Last remod/add', 'Total Bsmt SF', '1st Flr SF', 'Overall Qual', 'BsmtFin SF 1', 'Full Bath', 'TotRms AbvGrd', 'Fireplaces', 'Garage Cars']\n",
      "Cross Validation RMSE: 35416.37538261981\n",
      "-------------------------------------------\n",
      "For feature selection ['Gr Liv Area', 'Garage Area', 'Age', 'Last remod/add', 'Total Bsmt SF', '1st Flr SF', '2nd Flr SF', 'BsmtFin SF 1', 'Full Bath', 'TotRms AbvGrd', 'Fireplaces', 'Garage Cars']\n",
      "Cross Validation RMSE: 38800.34125288898\n",
      "-------------------------------------------\n",
      "For feature selection ['Gr Liv Area', 'Garage Area', 'Age', 'Last remod/add', 'Total Bsmt SF', 'Garage Finish', 'Overall Qual', '2nd Flr SF', 'BsmtFin SF 1', 'Full Bath', 'TotRms AbvGrd', 'Fireplaces']\n",
      "Cross Validation RMSE: 35134.83774910994\n",
      "-------------------------------------------\n",
      "For feature selection ['Gr Liv Area', 'Garage Area', 'Age', 'Last remod/add', 'Total Bsmt SF', 'Garage Finish', 'Overall Qual', '2nd Flr SF', 'BsmtFin SF 1', 'Full Bath', 'TotRms AbvGrd', 'Garage Cars']\n",
      "Cross Validation RMSE: 35254.67886527081\n",
      "-------------------------------------------\n",
      "For feature selection ['Gr Liv Area', 'Garage Area', 'Age', 'Last remod/add', 'Total Bsmt SF', 'Garage Finish', 'Overall Qual', '2nd Flr SF', 'BsmtFin SF 1', 'Full Bath', 'Fireplaces', 'Garage Cars']\n",
      "Cross Validation RMSE: 35198.93495358272\n",
      "-------------------------------------------\n",
      "For feature selection ['Gr Liv Area', 'Garage Area', 'Age', 'Last remod/add', 'Total Bsmt SF', 'Garage Finish', 'Overall Qual', '2nd Flr SF', 'BsmtFin SF 1', 'TotRms AbvGrd', 'Fireplaces', 'Garage Cars']\n",
      "Cross Validation RMSE: 34985.41929250896\n",
      "-------------------------------------------\n",
      "For feature selection ['Gr Liv Area', 'Garage Area', 'Age', 'Last remod/add', 'Total Bsmt SF', 'Garage Finish', 'Overall Qual', '2nd Flr SF', 'Full Bath', 'TotRms AbvGrd', 'Fireplaces', 'Garage Cars']\n",
      "Cross Validation RMSE: 36004.89595596785\n",
      "-------------------------------------------\n",
      "For feature selection ['Gr Liv Area', 'Garage Area', 'Age', 'Last remod/add', 'Total Bsmt SF', 'Garage Finish', 'Overall Qual', 'BsmtFin SF 1', 'Full Bath', 'TotRms AbvGrd', 'Fireplaces', 'Garage Cars']\n",
      "Cross Validation RMSE: 35119.39192122524\n",
      "-------------------------------------------\n",
      "For feature selection ['Gr Liv Area', 'Garage Area', 'Age', 'Last remod/add', 'Total Bsmt SF', 'Garage Finish', '2nd Flr SF', 'BsmtFin SF 1', 'Full Bath', 'TotRms AbvGrd', 'Fireplaces', 'Garage Cars']\n",
      "Cross Validation RMSE: 38394.85996485981\n",
      "-------------------------------------------\n",
      "For feature selection ['Gr Liv Area', 'Garage Area', 'Age', 'Last remod/add', 'Total Bsmt SF', 'Overall Qual', '2nd Flr SF', 'BsmtFin SF 1', 'Full Bath', 'TotRms AbvGrd', 'Fireplaces', 'Garage Cars']\n",
      "Cross Validation RMSE: 35421.08973236463\n",
      "-------------------------------------------\n",
      "For feature selection ['Gr Liv Area', 'Garage Area', 'Age', 'Last remod/add', '1st Flr SF', 'Garage Finish', 'Overall Qual', '2nd Flr SF', 'BsmtFin SF 1', 'Full Bath', 'TotRms AbvGrd', 'Fireplaces']\n",
      "Cross Validation RMSE: 35438.489269723446\n",
      "-------------------------------------------\n",
      "For feature selection ['Gr Liv Area', 'Garage Area', 'Age', 'Last remod/add', '1st Flr SF', 'Garage Finish', 'Overall Qual', '2nd Flr SF', 'BsmtFin SF 1', 'Full Bath', 'TotRms AbvGrd', 'Garage Cars']\n",
      "Cross Validation RMSE: 35513.25675508889\n",
      "-------------------------------------------\n",
      "For feature selection ['Gr Liv Area', 'Garage Area', 'Age', 'Last remod/add', '1st Flr SF', 'Garage Finish', 'Overall Qual', '2nd Flr SF', 'BsmtFin SF 1', 'Full Bath', 'Fireplaces', 'Garage Cars']\n",
      "Cross Validation RMSE: 35491.9274908608\n",
      "-------------------------------------------\n",
      "For feature selection ['Gr Liv Area', 'Garage Area', 'Age', 'Last remod/add', '1st Flr SF', 'Garage Finish', 'Overall Qual', '2nd Flr SF', 'BsmtFin SF 1', 'TotRms AbvGrd', 'Fireplaces', 'Garage Cars']\n",
      "Cross Validation RMSE: 35250.287208575246\n",
      "-------------------------------------------\n",
      "For feature selection ['Gr Liv Area', 'Garage Area', 'Age', 'Last remod/add', '1st Flr SF', 'Garage Finish', 'Overall Qual', '2nd Flr SF', 'Full Bath', 'TotRms AbvGrd', 'Fireplaces', 'Garage Cars']\n",
      "Cross Validation RMSE: 36728.869541957225\n",
      "-------------------------------------------\n",
      "For feature selection ['Gr Liv Area', 'Garage Area', 'Age', 'Last remod/add', '1st Flr SF', 'Garage Finish', 'Overall Qual', 'BsmtFin SF 1', 'Full Bath', 'TotRms AbvGrd', 'Fireplaces', 'Garage Cars']\n",
      "Cross Validation RMSE: 35389.06976951391\n",
      "-------------------------------------------\n",
      "For feature selection ['Gr Liv Area', 'Garage Area', 'Age', 'Last remod/add', '1st Flr SF', 'Garage Finish', '2nd Flr SF', 'BsmtFin SF 1', 'Full Bath', 'TotRms AbvGrd', 'Fireplaces', 'Garage Cars']\n",
      "Cross Validation RMSE: 39329.32692618099\n",
      "-------------------------------------------\n",
      "For feature selection ['Gr Liv Area', 'Garage Area', 'Age', 'Last remod/add', '1st Flr SF', 'Overall Qual', '2nd Flr SF', 'BsmtFin SF 1', 'Full Bath', 'TotRms AbvGrd', 'Fireplaces', 'Garage Cars']\n",
      "Cross Validation RMSE: 35741.36274129009\n",
      "-------------------------------------------\n",
      "For feature selection ['Gr Liv Area', 'Garage Area', 'Age', 'Last remod/add', 'Garage Finish', 'Overall Qual', '2nd Flr SF', 'BsmtFin SF 1', 'Full Bath', 'TotRms AbvGrd', 'Fireplaces', 'Garage Cars']\n",
      "Cross Validation RMSE: 35408.69378886884\n",
      "-------------------------------------------\n",
      "For feature selection ['Gr Liv Area', 'Garage Area', 'Age', 'Total Bsmt SF', '1st Flr SF', 'Garage Finish', 'Overall Qual', '2nd Flr SF', 'BsmtFin SF 1', 'Full Bath', 'TotRms AbvGrd', 'Fireplaces']\n",
      "Cross Validation RMSE: 35520.47506076978\n",
      "-------------------------------------------\n",
      "For feature selection ['Gr Liv Area', 'Garage Area', 'Age', 'Total Bsmt SF', '1st Flr SF', 'Garage Finish', 'Overall Qual', '2nd Flr SF', 'BsmtFin SF 1', 'Full Bath', 'TotRms AbvGrd', 'Garage Cars']\n",
      "Cross Validation RMSE: 35587.12446084036\n",
      "-------------------------------------------\n",
      "For feature selection ['Gr Liv Area', 'Garage Area', 'Age', 'Total Bsmt SF', '1st Flr SF', 'Garage Finish', 'Overall Qual', '2nd Flr SF', 'BsmtFin SF 1', 'Full Bath', 'Fireplaces', 'Garage Cars']\n",
      "Cross Validation RMSE: 35590.99114054869\n",
      "-------------------------------------------\n",
      "For feature selection ['Gr Liv Area', 'Garage Area', 'Age', 'Total Bsmt SF', '1st Flr SF', 'Garage Finish', 'Overall Qual', '2nd Flr SF', 'BsmtFin SF 1', 'TotRms AbvGrd', 'Fireplaces', 'Garage Cars']\n",
      "Cross Validation RMSE: 35340.30944030721\n",
      "-------------------------------------------\n",
      "For feature selection ['Gr Liv Area', 'Garage Area', 'Age', 'Total Bsmt SF', '1st Flr SF', 'Garage Finish', 'Overall Qual', '2nd Flr SF', 'Full Bath', 'TotRms AbvGrd', 'Fireplaces', 'Garage Cars']\n",
      "Cross Validation RMSE: 36325.91067868951\n",
      "-------------------------------------------\n",
      "For feature selection ['Gr Liv Area', 'Garage Area', 'Age', 'Total Bsmt SF', '1st Flr SF', 'Garage Finish', 'Overall Qual', 'BsmtFin SF 1', 'Full Bath', 'TotRms AbvGrd', 'Fireplaces', 'Garage Cars']\n",
      "Cross Validation RMSE: 35458.68143282148\n",
      "-------------------------------------------\n",
      "For feature selection ['Gr Liv Area', 'Garage Area', 'Age', 'Total Bsmt SF', '1st Flr SF', 'Garage Finish', '2nd Flr SF', 'BsmtFin SF 1', 'Full Bath', 'TotRms AbvGrd', 'Fireplaces', 'Garage Cars']\n",
      "Cross Validation RMSE: 39676.06209932002\n",
      "-------------------------------------------\n",
      "For feature selection ['Gr Liv Area', 'Garage Area', 'Age', 'Total Bsmt SF', '1st Flr SF', 'Overall Qual', '2nd Flr SF', 'BsmtFin SF 1', 'Full Bath', 'TotRms AbvGrd', 'Fireplaces', 'Garage Cars']\n",
      "Cross Validation RMSE: 35881.53599444349\n",
      "-------------------------------------------\n",
      "For feature selection ['Gr Liv Area', 'Garage Area', 'Age', 'Total Bsmt SF', 'Garage Finish', 'Overall Qual', '2nd Flr SF', 'BsmtFin SF 1', 'Full Bath', 'TotRms AbvGrd', 'Fireplaces', 'Garage Cars']\n",
      "Cross Validation RMSE: 35462.810181914785\n",
      "-------------------------------------------\n",
      "For feature selection ['Gr Liv Area', 'Garage Area', 'Age', '1st Flr SF', 'Garage Finish', 'Overall Qual', '2nd Flr SF', 'BsmtFin SF 1', 'Full Bath', 'TotRms AbvGrd', 'Fireplaces', 'Garage Cars']\n",
      "Cross Validation RMSE: 35748.33322444173\n",
      "-------------------------------------------\n",
      "For feature selection ['Gr Liv Area', 'Garage Area', 'Last remod/add', 'Total Bsmt SF', '1st Flr SF', 'Garage Finish', 'Overall Qual', '2nd Flr SF', 'BsmtFin SF 1', 'Full Bath', 'TotRms AbvGrd', 'Fireplaces']\n",
      "Cross Validation RMSE: 35303.594693129264\n",
      "-------------------------------------------\n",
      "For feature selection ['Gr Liv Area', 'Garage Area', 'Last remod/add', 'Total Bsmt SF', '1st Flr SF', 'Garage Finish', 'Overall Qual', '2nd Flr SF', 'BsmtFin SF 1', 'Full Bath', 'TotRms AbvGrd', 'Garage Cars']\n",
      "Cross Validation RMSE: 35387.894915413744\n",
      "-------------------------------------------\n",
      "For feature selection ['Gr Liv Area', 'Garage Area', 'Last remod/add', 'Total Bsmt SF', '1st Flr SF', 'Garage Finish', 'Overall Qual', '2nd Flr SF', 'BsmtFin SF 1', 'Full Bath', 'Fireplaces', 'Garage Cars']\n",
      "Cross Validation RMSE: 35367.80431130767\n",
      "-------------------------------------------\n",
      "For feature selection ['Gr Liv Area', 'Garage Area', 'Last remod/add', 'Total Bsmt SF', '1st Flr SF', 'Garage Finish', 'Overall Qual', '2nd Flr SF', 'BsmtFin SF 1', 'TotRms AbvGrd', 'Fireplaces', 'Garage Cars']\n",
      "Cross Validation RMSE: 35129.21674699249\n",
      "-------------------------------------------\n"
     ]
    },
    {
     "name": "stdout",
     "output_type": "stream",
     "text": [
      "For feature selection ['Gr Liv Area', 'Garage Area', 'Last remod/add', 'Total Bsmt SF', '1st Flr SF', 'Garage Finish', 'Overall Qual', '2nd Flr SF', 'Full Bath', 'TotRms AbvGrd', 'Fireplaces', 'Garage Cars']\n",
      "Cross Validation RMSE: 36221.417654587196\n",
      "-------------------------------------------\n",
      "For feature selection ['Gr Liv Area', 'Garage Area', 'Last remod/add', 'Total Bsmt SF', '1st Flr SF', 'Garage Finish', 'Overall Qual', 'BsmtFin SF 1', 'Full Bath', 'TotRms AbvGrd', 'Fireplaces', 'Garage Cars']\n",
      "Cross Validation RMSE: 35245.20983374106\n",
      "-------------------------------------------\n",
      "For feature selection ['Gr Liv Area', 'Garage Area', 'Last remod/add', 'Total Bsmt SF', '1st Flr SF', 'Garage Finish', '2nd Flr SF', 'BsmtFin SF 1', 'Full Bath', 'TotRms AbvGrd', 'Fireplaces', 'Garage Cars']\n",
      "Cross Validation RMSE: 38898.6642818778\n",
      "-------------------------------------------\n",
      "For feature selection ['Gr Liv Area', 'Garage Area', 'Last remod/add', 'Total Bsmt SF', '1st Flr SF', 'Overall Qual', '2nd Flr SF', 'BsmtFin SF 1', 'Full Bath', 'TotRms AbvGrd', 'Fireplaces', 'Garage Cars']\n",
      "Cross Validation RMSE: 35623.586837421\n",
      "-------------------------------------------\n",
      "For feature selection ['Gr Liv Area', 'Garage Area', 'Last remod/add', 'Total Bsmt SF', 'Garage Finish', 'Overall Qual', '2nd Flr SF', 'BsmtFin SF 1', 'Full Bath', 'TotRms AbvGrd', 'Fireplaces', 'Garage Cars']\n",
      "Cross Validation RMSE: 35249.19032789733\n",
      "-------------------------------------------\n",
      "For feature selection ['Gr Liv Area', 'Garage Area', 'Last remod/add', '1st Flr SF', 'Garage Finish', 'Overall Qual', '2nd Flr SF', 'BsmtFin SF 1', 'Full Bath', 'TotRms AbvGrd', 'Fireplaces', 'Garage Cars']\n",
      "Cross Validation RMSE: 35573.50697181416\n",
      "-------------------------------------------\n",
      "For feature selection ['Gr Liv Area', 'Garage Area', 'Total Bsmt SF', '1st Flr SF', 'Garage Finish', 'Overall Qual', '2nd Flr SF', 'BsmtFin SF 1', 'Full Bath', 'TotRms AbvGrd', 'Fireplaces', 'Garage Cars']\n",
      "Cross Validation RMSE: 35775.46695538685\n",
      "-------------------------------------------\n",
      "For feature selection ['Gr Liv Area', 'Age', 'Last remod/add', 'Total Bsmt SF', '1st Flr SF', 'Garage Finish', 'Overall Qual', '2nd Flr SF', 'BsmtFin SF 1', 'Full Bath', 'TotRms AbvGrd', 'Fireplaces']\n",
      "Cross Validation RMSE: 36036.77297611683\n",
      "-------------------------------------------\n",
      "For feature selection ['Gr Liv Area', 'Age', 'Last remod/add', 'Total Bsmt SF', '1st Flr SF', 'Garage Finish', 'Overall Qual', '2nd Flr SF', 'BsmtFin SF 1', 'Full Bath', 'TotRms AbvGrd', 'Garage Cars']\n",
      "Cross Validation RMSE: 35513.11679821089\n",
      "-------------------------------------------\n",
      "For feature selection ['Gr Liv Area', 'Age', 'Last remod/add', 'Total Bsmt SF', '1st Flr SF', 'Garage Finish', 'Overall Qual', '2nd Flr SF', 'BsmtFin SF 1', 'Full Bath', 'Fireplaces', 'Garage Cars']\n",
      "Cross Validation RMSE: 35528.05852067125\n",
      "-------------------------------------------\n",
      "For feature selection ['Gr Liv Area', 'Age', 'Last remod/add', 'Total Bsmt SF', '1st Flr SF', 'Garage Finish', 'Overall Qual', '2nd Flr SF', 'BsmtFin SF 1', 'TotRms AbvGrd', 'Fireplaces', 'Garage Cars']\n",
      "Cross Validation RMSE: 35303.443073068804\n",
      "-------------------------------------------\n",
      "For feature selection ['Gr Liv Area', 'Age', 'Last remod/add', 'Total Bsmt SF', '1st Flr SF', 'Garage Finish', 'Overall Qual', '2nd Flr SF', 'Full Bath', 'TotRms AbvGrd', 'Fireplaces', 'Garage Cars']\n",
      "Cross Validation RMSE: 36377.26499358863\n",
      "-------------------------------------------\n",
      "For feature selection ['Gr Liv Area', 'Age', 'Last remod/add', 'Total Bsmt SF', '1st Flr SF', 'Garage Finish', 'Overall Qual', 'BsmtFin SF 1', 'Full Bath', 'TotRms AbvGrd', 'Fireplaces', 'Garage Cars']\n",
      "Cross Validation RMSE: 35392.489003904484\n",
      "-------------------------------------------\n",
      "For feature selection ['Gr Liv Area', 'Age', 'Last remod/add', 'Total Bsmt SF', '1st Flr SF', 'Garage Finish', '2nd Flr SF', 'BsmtFin SF 1', 'Full Bath', 'TotRms AbvGrd', 'Fireplaces', 'Garage Cars']\n",
      "Cross Validation RMSE: 38693.70402256854\n",
      "-------------------------------------------\n",
      "For feature selection ['Gr Liv Area', 'Age', 'Last remod/add', 'Total Bsmt SF', '1st Flr SF', 'Overall Qual', '2nd Flr SF', 'BsmtFin SF 1', 'Full Bath', 'TotRms AbvGrd', 'Fireplaces', 'Garage Cars']\n",
      "Cross Validation RMSE: 35645.34948915647\n",
      "-------------------------------------------\n",
      "For feature selection ['Gr Liv Area', 'Age', 'Last remod/add', 'Total Bsmt SF', 'Garage Finish', 'Overall Qual', '2nd Flr SF', 'BsmtFin SF 1', 'Full Bath', 'TotRms AbvGrd', 'Fireplaces', 'Garage Cars']\n",
      "Cross Validation RMSE: 35404.609318890485\n",
      "-------------------------------------------\n",
      "For feature selection ['Gr Liv Area', 'Age', 'Last remod/add', '1st Flr SF', 'Garage Finish', 'Overall Qual', '2nd Flr SF', 'BsmtFin SF 1', 'Full Bath', 'TotRms AbvGrd', 'Fireplaces', 'Garage Cars']\n",
      "Cross Validation RMSE: 35719.22454030941\n",
      "-------------------------------------------\n",
      "For feature selection ['Gr Liv Area', 'Age', 'Total Bsmt SF', '1st Flr SF', 'Garage Finish', 'Overall Qual', '2nd Flr SF', 'BsmtFin SF 1', 'Full Bath', 'TotRms AbvGrd', 'Fireplaces', 'Garage Cars']\n",
      "Cross Validation RMSE: 35778.02160693504\n",
      "-------------------------------------------\n",
      "For feature selection ['Gr Liv Area', 'Last remod/add', 'Total Bsmt SF', '1st Flr SF', 'Garage Finish', 'Overall Qual', '2nd Flr SF', 'BsmtFin SF 1', 'Full Bath', 'TotRms AbvGrd', 'Fireplaces', 'Garage Cars']\n",
      "Cross Validation RMSE: 35545.29775778044\n",
      "-------------------------------------------\n",
      "For feature selection ['Garage Area', 'Age', 'Last remod/add', 'Total Bsmt SF', '1st Flr SF', 'Garage Finish', 'Overall Qual', '2nd Flr SF', 'BsmtFin SF 1', 'Full Bath', 'TotRms AbvGrd', 'Fireplaces']\n",
      "Cross Validation RMSE: 35133.27598833978\n",
      "-------------------------------------------\n",
      "For feature selection ['Garage Area', 'Age', 'Last remod/add', 'Total Bsmt SF', '1st Flr SF', 'Garage Finish', 'Overall Qual', '2nd Flr SF', 'BsmtFin SF 1', 'Full Bath', 'TotRms AbvGrd', 'Garage Cars']\n",
      "Cross Validation RMSE: 35261.538376982644\n",
      "-------------------------------------------\n",
      "For feature selection ['Garage Area', 'Age', 'Last remod/add', 'Total Bsmt SF', '1st Flr SF', 'Garage Finish', 'Overall Qual', '2nd Flr SF', 'BsmtFin SF 1', 'Full Bath', 'Fireplaces', 'Garage Cars']\n",
      "Cross Validation RMSE: 35190.79660085302\n",
      "-------------------------------------------\n",
      "For feature selection ['Garage Area', 'Age', 'Last remod/add', 'Total Bsmt SF', '1st Flr SF', 'Garage Finish', 'Overall Qual', '2nd Flr SF', 'BsmtFin SF 1', 'TotRms AbvGrd', 'Fireplaces', 'Garage Cars']\n",
      "Cross Validation RMSE: 34976.547967710256\n",
      "-------------------------------------------\n",
      "For feature selection ['Garage Area', 'Age', 'Last remod/add', 'Total Bsmt SF', '1st Flr SF', 'Garage Finish', 'Overall Qual', '2nd Flr SF', 'Full Bath', 'TotRms AbvGrd', 'Fireplaces', 'Garage Cars']\n",
      "Cross Validation RMSE: 35988.847280132446\n",
      "-------------------------------------------\n",
      "For feature selection ['Garage Area', 'Age', 'Last remod/add', 'Total Bsmt SF', '1st Flr SF', 'Garage Finish', 'Overall Qual', 'BsmtFin SF 1', 'Full Bath', 'TotRms AbvGrd', 'Fireplaces', 'Garage Cars']\n",
      "Cross Validation RMSE: 37438.468562615315\n",
      "-------------------------------------------\n",
      "For feature selection ['Garage Area', 'Age', 'Last remod/add', 'Total Bsmt SF', '1st Flr SF', 'Garage Finish', '2nd Flr SF', 'BsmtFin SF 1', 'Full Bath', 'TotRms AbvGrd', 'Fireplaces', 'Garage Cars']\n",
      "Cross Validation RMSE: 38385.15449284822\n",
      "-------------------------------------------\n",
      "For feature selection ['Garage Area', 'Age', 'Last remod/add', 'Total Bsmt SF', '1st Flr SF', 'Overall Qual', '2nd Flr SF', 'BsmtFin SF 1', 'Full Bath', 'TotRms AbvGrd', 'Fireplaces', 'Garage Cars']\n",
      "Cross Validation RMSE: 35430.09067603346\n",
      "-------------------------------------------\n",
      "For feature selection ['Garage Area', 'Age', 'Last remod/add', 'Total Bsmt SF', 'Garage Finish', 'Overall Qual', '2nd Flr SF', 'BsmtFin SF 1', 'Full Bath', 'TotRms AbvGrd', 'Fireplaces', 'Garage Cars']\n",
      "Cross Validation RMSE: 36782.96871184566\n",
      "-------------------------------------------\n",
      "For feature selection ['Garage Area', 'Age', 'Last remod/add', '1st Flr SF', 'Garage Finish', 'Overall Qual', '2nd Flr SF', 'BsmtFin SF 1', 'Full Bath', 'TotRms AbvGrd', 'Fireplaces', 'Garage Cars']\n",
      "Cross Validation RMSE: 35401.40315759875\n",
      "-------------------------------------------\n",
      "For feature selection ['Garage Area', 'Age', 'Total Bsmt SF', '1st Flr SF', 'Garage Finish', 'Overall Qual', '2nd Flr SF', 'BsmtFin SF 1', 'Full Bath', 'TotRms AbvGrd', 'Fireplaces', 'Garage Cars']\n",
      "Cross Validation RMSE: 35471.99354702859\n",
      "-------------------------------------------\n",
      "For feature selection ['Garage Area', 'Last remod/add', 'Total Bsmt SF', '1st Flr SF', 'Garage Finish', 'Overall Qual', '2nd Flr SF', 'BsmtFin SF 1', 'Full Bath', 'TotRms AbvGrd', 'Fireplaces', 'Garage Cars']\n",
      "Cross Validation RMSE: 35228.93677907602\n",
      "-------------------------------------------\n",
      "For feature selection ['Age', 'Last remod/add', 'Total Bsmt SF', '1st Flr SF', 'Garage Finish', 'Overall Qual', '2nd Flr SF', 'BsmtFin SF 1', 'Full Bath', 'TotRms AbvGrd', 'Fireplaces', 'Garage Cars']\n",
      "Cross Validation RMSE: 35404.39232393306\n",
      "-------------------------------------------\n",
      "For feature selection ['Gr Liv Area', 'Garage Area', 'Age', 'Last remod/add', 'Total Bsmt SF', '1st Flr SF', 'Garage Finish', 'Overall Qual', '2nd Flr SF', 'BsmtFin SF 1', 'Full Bath', 'TotRms AbvGrd', 'Fireplaces']\n",
      "Cross Validation RMSE: 35185.557997708755\n",
      "-------------------------------------------\n",
      "For feature selection ['Gr Liv Area', 'Garage Area', 'Age', 'Last remod/add', 'Total Bsmt SF', '1st Flr SF', 'Garage Finish', 'Overall Qual', '2nd Flr SF', 'BsmtFin SF 1', 'Full Bath', 'TotRms AbvGrd', 'Garage Cars']\n",
      "Cross Validation RMSE: 35297.460280011896\n",
      "-------------------------------------------\n",
      "For feature selection ['Gr Liv Area', 'Garage Area', 'Age', 'Last remod/add', 'Total Bsmt SF', '1st Flr SF', 'Garage Finish', 'Overall Qual', '2nd Flr SF', 'BsmtFin SF 1', 'Full Bath', 'Fireplaces', 'Garage Cars']\n",
      "Cross Validation RMSE: 35248.728747404326\n",
      "-------------------------------------------\n",
      "For feature selection ['Gr Liv Area', 'Garage Area', 'Age', 'Last remod/add', 'Total Bsmt SF', '1st Flr SF', 'Garage Finish', 'Overall Qual', '2nd Flr SF', 'BsmtFin SF 1', 'TotRms AbvGrd', 'Fireplaces', 'Garage Cars']\n",
      "Cross Validation RMSE: 35026.58963116138\n",
      "-------------------------------------------\n",
      "For feature selection ['Gr Liv Area', 'Garage Area', 'Age', 'Last remod/add', 'Total Bsmt SF', '1st Flr SF', 'Garage Finish', 'Overall Qual', '2nd Flr SF', 'Full Bath', 'TotRms AbvGrd', 'Fireplaces', 'Garage Cars']\n",
      "Cross Validation RMSE: 36032.86659611085\n",
      "-------------------------------------------\n",
      "For feature selection ['Gr Liv Area', 'Garage Area', 'Age', 'Last remod/add', 'Total Bsmt SF', '1st Flr SF', 'Garage Finish', 'Overall Qual', 'BsmtFin SF 1', 'Full Bath', 'TotRms AbvGrd', 'Fireplaces', 'Garage Cars']\n",
      "Cross Validation RMSE: 35130.67322196492\n",
      "-------------------------------------------\n",
      "For feature selection ['Gr Liv Area', 'Garage Area', 'Age', 'Last remod/add', 'Total Bsmt SF', '1st Flr SF', 'Garage Finish', '2nd Flr SF', 'BsmtFin SF 1', 'Full Bath', 'TotRms AbvGrd', 'Fireplaces', 'Garage Cars']\n",
      "Cross Validation RMSE: 38464.52270986913\n",
      "-------------------------------------------\n",
      "For feature selection ['Gr Liv Area', 'Garage Area', 'Age', 'Last remod/add', 'Total Bsmt SF', '1st Flr SF', 'Overall Qual', '2nd Flr SF', 'BsmtFin SF 1', 'Full Bath', 'TotRms AbvGrd', 'Fireplaces', 'Garage Cars']\n",
      "Cross Validation RMSE: 35470.956434801075\n",
      "-------------------------------------------\n",
      "For feature selection ['Gr Liv Area', 'Garage Area', 'Age', 'Last remod/add', 'Total Bsmt SF', 'Garage Finish', 'Overall Qual', '2nd Flr SF', 'BsmtFin SF 1', 'Full Bath', 'TotRms AbvGrd', 'Fireplaces', 'Garage Cars']\n",
      "Cross Validation RMSE: 35135.62907122\n",
      "-------------------------------------------\n",
      "For feature selection ['Gr Liv Area', 'Garage Area', 'Age', 'Last remod/add', '1st Flr SF', 'Garage Finish', 'Overall Qual', '2nd Flr SF', 'BsmtFin SF 1', 'Full Bath', 'TotRms AbvGrd', 'Fireplaces', 'Garage Cars']\n",
      "Cross Validation RMSE: 35443.02038980953\n",
      "-------------------------------------------\n",
      "For feature selection ['Gr Liv Area', 'Garage Area', 'Age', 'Total Bsmt SF', '1st Flr SF', 'Garage Finish', 'Overall Qual', '2nd Flr SF', 'BsmtFin SF 1', 'Full Bath', 'TotRms AbvGrd', 'Fireplaces', 'Garage Cars']\n",
      "Cross Validation RMSE: 35517.62766851846\n",
      "-------------------------------------------\n",
      "For feature selection ['Gr Liv Area', 'Garage Area', 'Last remod/add', 'Total Bsmt SF', '1st Flr SF', 'Garage Finish', 'Overall Qual', '2nd Flr SF', 'BsmtFin SF 1', 'Full Bath', 'TotRms AbvGrd', 'Fireplaces', 'Garage Cars']\n",
      "Cross Validation RMSE: 35293.17820031387\n",
      "-------------------------------------------\n",
      "For feature selection ['Gr Liv Area', 'Age', 'Last remod/add', 'Total Bsmt SF', '1st Flr SF', 'Garage Finish', 'Overall Qual', '2nd Flr SF', 'BsmtFin SF 1', 'Full Bath', 'TotRms AbvGrd', 'Fireplaces', 'Garage Cars']\n",
      "Cross Validation RMSE: 35449.07466816246\n",
      "-------------------------------------------\n",
      "For feature selection ['Garage Area', 'Age', 'Last remod/add', 'Total Bsmt SF', '1st Flr SF', 'Garage Finish', 'Overall Qual', '2nd Flr SF', 'BsmtFin SF 1', 'Full Bath', 'TotRms AbvGrd', 'Fireplaces', 'Garage Cars']\n",
      "Cross Validation RMSE: 35135.88488456425\n",
      "-------------------------------------------\n",
      "For feature selection ['Gr Liv Area', 'Garage Area', 'Age', 'Last remod/add', 'Total Bsmt SF', '1st Flr SF', 'Garage Finish', 'Overall Qual', '2nd Flr SF', 'BsmtFin SF 1', 'Full Bath', 'TotRms AbvGrd', 'Fireplaces', 'Garage Cars']\n",
      "Cross Validation RMSE: 35186.68354755195\n",
      "-------------------------------------------\n",
      "-------------------------------------------\n",
      "-------------------------------------------\n",
      "-------------------------------------------\n",
      "-------------------------------------------\n",
      "-------------------------------------------\n",
      "------OVERALL BEST MODEL BY CV-RMSE--------\n",
      "-------------------------------------------\n",
      "-------------------------------------------\n",
      "Overall Best MLR model uses the features ['Gr Liv Area', 'Garage Area', 'Age', 'Last remod/add', 'Total Bsmt SF', '1st Flr SF', 'Garage Finish', 'Overall Qual', 'BsmtFin SF 1', 'TotRms AbvGrd', 'Fireplaces', 'Garage Cars']\n",
      "CV RMSE: 34973.58166939803\n"
     ]
    }
   ],
   "source": [
    "best_set_model = []\n",
    "\n",
    "best_set_model.append(mlr_multiple_test(feature_combinations, 'SalePrice', df_subset, df_subset_test))\n",
    "\n",
    "overall_best_score = np.inf\n",
    "for i in best_set_model:\n",
    "    if i[2] < overall_best_score:\n",
    "        overall_best_score = i[2]\n",
    "        overall_best_features = i[0]\n",
    "        overall_best_mlr_cv = i[1]\n",
    "        overall_best_predictions = i[3]\n",
    "        \n",
    "print('-------------------------------------------')    \n",
    "print('-------------------------------------------')        \n",
    "print('------OVERALL BEST MODEL BY CV-RMSE--------')        \n",
    "print('-------------------------------------------')        \n",
    "print('-------------------------------------------')        \n",
    "\n",
    "print(f'Overall Best MLR model uses the features {overall_best_features}')\n",
    "print(f'CV RMSE: {overall_best_score}')"
   ]
  },
  {
   "cell_type": "code",
   "execution_count": 169,
   "metadata": {},
   "outputs": [],
   "source": [
    "predictions = pd.concat([pd.Series(df_subset_test.index), pd.Series(overall_best_predictions)], axis=1, ignore_index=True)\n",
    "predictions = predictions.rename(columns={1: \"SalePrice\"})\n",
    "predictions = predictions.drop([0], axis=1)\n",
    "predictions.index.names = ['Test_ID']\n",
    "predictions.to_csv(\"new_predictions-with-overall-qual/Predictions_linear_with_outliers.csv\")\n",
    "# kaggle test-rmse = 39385.1014"
   ]
  },
  {
   "cell_type": "markdown",
   "metadata": {},
   "source": [
    "### Polynomial Regression"
   ]
  },
  {
   "cell_type": "code",
   "execution_count": 170,
   "metadata": {},
   "outputs": [],
   "source": [
    "def poly_multiple_test(features, response, train_dataset, test_dataset):\n",
    "    \n",
    "    best_features_score = np.inf\n",
    "    best_test_t = np.inf\n",
    "    \n",
    "    for predictors in features:\n",
    "    \n",
    "        degrees=np.arange(1, 5)\n",
    "        best_score = -np.inf\n",
    "        x_train = pd.get_dummies(train_dataset[predictors], drop_first=True).to_numpy()\n",
    "        \n",
    "        for k in degrees:\n",
    "            \n",
    "            poly_transformer = PolynomialFeatures(k)\n",
    "            poly_x = poly_transformer.fit_transform(x_train)\n",
    "            \n",
    "            \n",
    "            pr = LinearRegression()\n",
    "            scores = cross_val_score(pr, poly_x, train_dataset[response].to_numpy(), cv=5, scoring = 'neg_mean_squared_error')\n",
    "            cv_score = np.mean(scores)\n",
    "            if cv_score >= best_score:\n",
    "                best_score = cv_score\n",
    "                best_poly = pr\n",
    "                best_degree = k\n",
    "                best_x = poly_x\n",
    "\n",
    "        pr = best_poly        \n",
    "        # train the selected model with the whole train set\n",
    "        pr.fit(best_x, train_dataset[response].values)\n",
    "        # Predict the test data with the selected and re-estimated model\n",
    "        poly_transformer_test = PolynomialFeatures(best_degree)\n",
    "        x_test = pd.get_dummies(test_dataset[predictors], drop_first=True).to_numpy()\n",
    "        poly_x_test = poly_transformer_test.fit_transform(x_test)\n",
    "        predictions = pr.predict(poly_x_test)\n",
    "        # test_rmse = np.sqrt(mean_squared_error(nba_test_knn[response], predictions))\n",
    "        cv_rmse = np.sqrt(-best_score)\n",
    "        print(f'For feature selection {predictors} best degree is {k}')\n",
    "        print(f'Cross Validation RMSE: {cv_rmse}')\n",
    "        # print(f'Test RMSE: {test_rmse}')\n",
    "        print('-------------------------------------------')\n",
    "        \n",
    "        if cv_rmse < best_features_score:\n",
    "            best_features_score = cv_rmse\n",
    "            # best_test = test_rmse\n",
    "            best_features = predictors\n",
    "            best_overall_pr = pr\n",
    "            best_predictions = predictions\n",
    "            \n",
    "#         if test_rmse < best_test_t:\n",
    "#             best_features_score_t = cv_rmse\n",
    "#             best_test_t = test_rmse\n",
    "#             best_features_t = predictors\n",
    "#             best_overall_knn_t = best_knn\n",
    "            \n",
    "#     print(f'Best kNN model uses the features {best_features}')\n",
    "#     print(f'Best CV RMSE: {best_features_score}')\n",
    "#     print(f'Best Test RMSE: {best_test}')\n",
    "    print('-------------------------------------------')\n",
    "    print('-------------------------------------------')\n",
    "    print('-------------------------------------------')\n",
    "    \n",
    "    return [best_features, best_overall_pr, best_features_score, predictions]"
   ]
  },
  {
   "cell_type": "code",
   "execution_count": 171,
   "metadata": {},
   "outputs": [
    {
     "name": "stdout",
     "output_type": "stream",
     "text": [
      "For feature selection ['Gr Liv Area', 'Garage Area', 'Age', 'Last remod/add', 'Total Bsmt SF', '1st Flr SF', 'Garage Finish', 'Overall Qual', '2nd Flr SF', 'BsmtFin SF 1', 'Full Bath', 'TotRms AbvGrd'] best degree is 4\n",
      "Cross Validation RMSE: 35305.53619104749\n",
      "-------------------------------------------\n",
      "For feature selection ['Gr Liv Area', 'Garage Area', 'Age', 'Last remod/add', 'Total Bsmt SF', '1st Flr SF', 'Garage Finish', 'Overall Qual', '2nd Flr SF', 'BsmtFin SF 1', 'Full Bath', 'Fireplaces'] best degree is 4\n",
      "Cross Validation RMSE: 35243.607372390725\n",
      "-------------------------------------------\n",
      "For feature selection ['Gr Liv Area', 'Garage Area', 'Age', 'Last remod/add', 'Total Bsmt SF', '1st Flr SF', 'Garage Finish', 'Overall Qual', '2nd Flr SF', 'BsmtFin SF 1', 'Full Bath', 'Garage Cars'] best degree is 4\n",
      "Cross Validation RMSE: 35387.91289818742\n",
      "-------------------------------------------\n",
      "For feature selection ['Gr Liv Area', 'Garage Area', 'Age', 'Last remod/add', 'Total Bsmt SF', '1st Flr SF', 'Garage Finish', 'Overall Qual', '2nd Flr SF', 'BsmtFin SF 1', 'TotRms AbvGrd', 'Fireplaces'] best degree is 4\n",
      "Cross Validation RMSE: 35025.08974996462\n",
      "-------------------------------------------\n",
      "For feature selection ['Gr Liv Area', 'Garage Area', 'Age', 'Last remod/add', 'Total Bsmt SF', '1st Flr SF', 'Garage Finish', 'Overall Qual', '2nd Flr SF', 'BsmtFin SF 1', 'TotRms AbvGrd', 'Garage Cars'] best degree is 4\n",
      "Cross Validation RMSE: 35158.94146692375\n",
      "-------------------------------------------\n",
      "For feature selection ['Gr Liv Area', 'Garage Area', 'Age', 'Last remod/add', 'Total Bsmt SF', '1st Flr SF', 'Garage Finish', 'Overall Qual', '2nd Flr SF', 'BsmtFin SF 1', 'Fireplaces', 'Garage Cars'] best degree is 4\n",
      "Cross Validation RMSE: 35090.79070485253\n",
      "-------------------------------------------\n",
      "For feature selection ['Gr Liv Area', 'Garage Area', 'Age', 'Last remod/add', 'Total Bsmt SF', '1st Flr SF', 'Garage Finish', 'Overall Qual', '2nd Flr SF', 'Full Bath', 'TotRms AbvGrd', 'Fireplaces'] best degree is 4\n",
      "Cross Validation RMSE: 36024.64168642094\n",
      "-------------------------------------------\n",
      "For feature selection ['Gr Liv Area', 'Garage Area', 'Age', 'Last remod/add', 'Total Bsmt SF', '1st Flr SF', 'Garage Finish', 'Overall Qual', '2nd Flr SF', 'Full Bath', 'TotRms AbvGrd', 'Garage Cars'] best degree is 4\n",
      "Cross Validation RMSE: 36340.814154606654\n",
      "-------------------------------------------\n",
      "For feature selection ['Gr Liv Area', 'Garage Area', 'Age', 'Last remod/add', 'Total Bsmt SF', '1st Flr SF', 'Garage Finish', 'Overall Qual', '2nd Flr SF', 'Full Bath', 'Fireplaces', 'Garage Cars'] best degree is 4\n",
      "Cross Validation RMSE: 36160.00357861976\n",
      "-------------------------------------------\n",
      "For feature selection ['Gr Liv Area', 'Garage Area', 'Age', 'Last remod/add', 'Total Bsmt SF', '1st Flr SF', 'Garage Finish', 'Overall Qual', '2nd Flr SF', 'TotRms AbvGrd', 'Fireplaces', 'Garage Cars'] best degree is 4\n",
      "Cross Validation RMSE: 35873.69437174612\n",
      "-------------------------------------------\n",
      "For feature selection ['Gr Liv Area', 'Garage Area', 'Age', 'Last remod/add', 'Total Bsmt SF', '1st Flr SF', 'Garage Finish', 'Overall Qual', 'BsmtFin SF 1', 'Full Bath', 'TotRms AbvGrd', 'Fireplaces'] best degree is 4\n",
      "Cross Validation RMSE: 35060.688081221575\n",
      "-------------------------------------------\n",
      "For feature selection ['Gr Liv Area', 'Garage Area', 'Age', 'Last remod/add', 'Total Bsmt SF', '1st Flr SF', 'Garage Finish', 'Overall Qual', 'BsmtFin SF 1', 'Full Bath', 'TotRms AbvGrd', 'Garage Cars'] best degree is 4\n",
      "Cross Validation RMSE: 35242.17001732412\n",
      "-------------------------------------------\n",
      "For feature selection ['Gr Liv Area', 'Garage Area', 'Age', 'Last remod/add', 'Total Bsmt SF', '1st Flr SF', 'Garage Finish', 'Overall Qual', 'BsmtFin SF 1', 'Full Bath', 'Fireplaces', 'Garage Cars'] best degree is 4\n",
      "Cross Validation RMSE: 35038.0891591754\n",
      "-------------------------------------------\n",
      "For feature selection ['Gr Liv Area', 'Garage Area', 'Age', 'Last remod/add', 'Total Bsmt SF', '1st Flr SF', 'Garage Finish', 'Overall Qual', 'BsmtFin SF 1', 'TotRms AbvGrd', 'Fireplaces', 'Garage Cars'] best degree is 4\n",
      "Cross Validation RMSE: 34523.740704392825\n",
      "-------------------------------------------\n",
      "For feature selection ['Gr Liv Area', 'Garage Area', 'Age', 'Last remod/add', 'Total Bsmt SF', '1st Flr SF', 'Garage Finish', 'Overall Qual', 'Full Bath', 'TotRms AbvGrd', 'Fireplaces', 'Garage Cars'] best degree is 4\n",
      "Cross Validation RMSE: 34740.1965062962\n",
      "-------------------------------------------\n",
      "For feature selection ['Gr Liv Area', 'Garage Area', 'Age', 'Last remod/add', 'Total Bsmt SF', '1st Flr SF', 'Garage Finish', '2nd Flr SF', 'BsmtFin SF 1', 'Full Bath', 'TotRms AbvGrd', 'Fireplaces'] best degree is 4\n",
      "Cross Validation RMSE: 38494.01983135452\n",
      "-------------------------------------------\n",
      "For feature selection ['Gr Liv Area', 'Garage Area', 'Age', 'Last remod/add', 'Total Bsmt SF', '1st Flr SF', 'Garage Finish', '2nd Flr SF', 'BsmtFin SF 1', 'Full Bath', 'TotRms AbvGrd', 'Garage Cars'] best degree is 4\n",
      "Cross Validation RMSE: 38814.472387743066\n",
      "-------------------------------------------\n",
      "For feature selection ['Gr Liv Area', 'Garage Area', 'Age', 'Last remod/add', 'Total Bsmt SF', '1st Flr SF', 'Garage Finish', '2nd Flr SF', 'BsmtFin SF 1', 'Full Bath', 'Fireplaces', 'Garage Cars'] best degree is 4\n",
      "Cross Validation RMSE: 38565.03745931153\n",
      "-------------------------------------------\n",
      "For feature selection ['Gr Liv Area', 'Garage Area', 'Age', 'Last remod/add', 'Total Bsmt SF', '1st Flr SF', 'Garage Finish', '2nd Flr SF', 'BsmtFin SF 1', 'TotRms AbvGrd', 'Fireplaces', 'Garage Cars'] best degree is 4\n",
      "Cross Validation RMSE: 38310.37059716144\n",
      "-------------------------------------------\n",
      "For feature selection ['Gr Liv Area', 'Garage Area', 'Age', 'Last remod/add', 'Total Bsmt SF', '1st Flr SF', 'Garage Finish', '2nd Flr SF', 'Full Bath', 'TotRms AbvGrd', 'Fireplaces', 'Garage Cars'] best degree is 4\n",
      "Cross Validation RMSE: 39081.7075672194\n",
      "-------------------------------------------\n",
      "For feature selection ['Gr Liv Area', 'Garage Area', 'Age', 'Last remod/add', 'Total Bsmt SF', '1st Flr SF', 'Garage Finish', 'BsmtFin SF 1', 'Full Bath', 'TotRms AbvGrd', 'Fireplaces', 'Garage Cars'] best degree is 4\n",
      "Cross Validation RMSE: 38405.60738106067\n",
      "-------------------------------------------\n",
      "For feature selection ['Gr Liv Area', 'Garage Area', 'Age', 'Last remod/add', 'Total Bsmt SF', '1st Flr SF', 'Overall Qual', '2nd Flr SF', 'BsmtFin SF 1', 'Full Bath', 'TotRms AbvGrd', 'Fireplaces'] best degree is 4\n",
      "Cross Validation RMSE: 35459.56792846992\n",
      "-------------------------------------------\n",
      "For feature selection ['Gr Liv Area', 'Garage Area', 'Age', 'Last remod/add', 'Total Bsmt SF', '1st Flr SF', 'Overall Qual', '2nd Flr SF', 'BsmtFin SF 1', 'Full Bath', 'TotRms AbvGrd', 'Garage Cars'] best degree is 4\n",
      "Cross Validation RMSE: 35575.79010840829\n",
      "-------------------------------------------\n",
      "For feature selection ['Gr Liv Area', 'Garage Area', 'Age', 'Last remod/add', 'Total Bsmt SF', '1st Flr SF', 'Overall Qual', '2nd Flr SF', 'BsmtFin SF 1', 'Full Bath', 'Fireplaces', 'Garage Cars'] best degree is 4\n",
      "Cross Validation RMSE: 35520.8483014528\n",
      "-------------------------------------------\n",
      "For feature selection ['Gr Liv Area', 'Garage Area', 'Age', 'Last remod/add', 'Total Bsmt SF', '1st Flr SF', 'Overall Qual', '2nd Flr SF', 'BsmtFin SF 1', 'TotRms AbvGrd', 'Fireplaces', 'Garage Cars'] best degree is 4\n",
      "Cross Validation RMSE: 35287.7555733462\n",
      "-------------------------------------------\n",
      "For feature selection ['Gr Liv Area', 'Garage Area', 'Age', 'Last remod/add', 'Total Bsmt SF', '1st Flr SF', 'Overall Qual', '2nd Flr SF', 'Full Bath', 'TotRms AbvGrd', 'Fireplaces', 'Garage Cars'] best degree is 4\n",
      "Cross Validation RMSE: 36331.105401836874\n",
      "-------------------------------------------\n",
      "For feature selection ['Gr Liv Area', 'Garage Area', 'Age', 'Last remod/add', 'Total Bsmt SF', '1st Flr SF', 'Overall Qual', 'BsmtFin SF 1', 'Full Bath', 'TotRms AbvGrd', 'Fireplaces', 'Garage Cars'] best degree is 4\n",
      "Cross Validation RMSE: 35282.63048630544\n",
      "-------------------------------------------\n",
      "For feature selection ['Gr Liv Area', 'Garage Area', 'Age', 'Last remod/add', 'Total Bsmt SF', '1st Flr SF', '2nd Flr SF', 'BsmtFin SF 1', 'Full Bath', 'TotRms AbvGrd', 'Fireplaces', 'Garage Cars'] best degree is 4\n",
      "Cross Validation RMSE: 38800.34125288899\n",
      "-------------------------------------------\n"
     ]
    },
    {
     "name": "stdout",
     "output_type": "stream",
     "text": [
      "For feature selection ['Gr Liv Area', 'Garage Area', 'Age', 'Last remod/add', 'Total Bsmt SF', 'Garage Finish', 'Overall Qual', '2nd Flr SF', 'BsmtFin SF 1', 'Full Bath', 'TotRms AbvGrd', 'Fireplaces'] best degree is 4\n",
      "Cross Validation RMSE: 35025.773493211535\n",
      "-------------------------------------------\n",
      "For feature selection ['Gr Liv Area', 'Garage Area', 'Age', 'Last remod/add', 'Total Bsmt SF', 'Garage Finish', 'Overall Qual', '2nd Flr SF', 'BsmtFin SF 1', 'Full Bath', 'TotRms AbvGrd', 'Garage Cars'] best degree is 4\n",
      "Cross Validation RMSE: 35254.678865270806\n",
      "-------------------------------------------\n",
      "For feature selection ['Gr Liv Area', 'Garage Area', 'Age', 'Last remod/add', 'Total Bsmt SF', 'Garage Finish', 'Overall Qual', '2nd Flr SF', 'BsmtFin SF 1', 'Full Bath', 'Fireplaces', 'Garage Cars'] best degree is 4\n",
      "Cross Validation RMSE: 34756.66333537586\n",
      "-------------------------------------------\n",
      "For feature selection ['Gr Liv Area', 'Garage Area', 'Age', 'Last remod/add', 'Total Bsmt SF', 'Garage Finish', 'Overall Qual', '2nd Flr SF', 'BsmtFin SF 1', 'TotRms AbvGrd', 'Fireplaces', 'Garage Cars'] best degree is 4\n",
      "Cross Validation RMSE: 34348.30136882722\n",
      "-------------------------------------------\n",
      "For feature selection ['Gr Liv Area', 'Garage Area', 'Age', 'Last remod/add', 'Total Bsmt SF', 'Garage Finish', 'Overall Qual', '2nd Flr SF', 'Full Bath', 'TotRms AbvGrd', 'Fireplaces', 'Garage Cars'] best degree is 4\n",
      "Cross Validation RMSE: 34696.21739894205\n",
      "-------------------------------------------\n",
      "For feature selection ['Gr Liv Area', 'Garage Area', 'Age', 'Last remod/add', 'Total Bsmt SF', 'Garage Finish', 'Overall Qual', 'BsmtFin SF 1', 'Full Bath', 'TotRms AbvGrd', 'Fireplaces', 'Garage Cars'] best degree is 4\n",
      "Cross Validation RMSE: 35119.39192122525\n",
      "-------------------------------------------\n",
      "For feature selection ['Gr Liv Area', 'Garage Area', 'Age', 'Last remod/add', 'Total Bsmt SF', 'Garage Finish', '2nd Flr SF', 'BsmtFin SF 1', 'Full Bath', 'TotRms AbvGrd', 'Fireplaces', 'Garage Cars'] best degree is 4\n",
      "Cross Validation RMSE: 38394.85996485981\n",
      "-------------------------------------------\n",
      "For feature selection ['Gr Liv Area', 'Garage Area', 'Age', 'Last remod/add', 'Total Bsmt SF', 'Overall Qual', '2nd Flr SF', 'BsmtFin SF 1', 'Full Bath', 'TotRms AbvGrd', 'Fireplaces', 'Garage Cars'] best degree is 4\n",
      "Cross Validation RMSE: 35121.215875740905\n",
      "-------------------------------------------\n",
      "For feature selection ['Gr Liv Area', 'Garage Area', 'Age', 'Last remod/add', '1st Flr SF', 'Garage Finish', 'Overall Qual', '2nd Flr SF', 'BsmtFin SF 1', 'Full Bath', 'TotRms AbvGrd', 'Fireplaces'] best degree is 4\n",
      "Cross Validation RMSE: 35438.489269723446\n",
      "-------------------------------------------\n",
      "For feature selection ['Gr Liv Area', 'Garage Area', 'Age', 'Last remod/add', '1st Flr SF', 'Garage Finish', 'Overall Qual', '2nd Flr SF', 'BsmtFin SF 1', 'Full Bath', 'TotRms AbvGrd', 'Garage Cars'] best degree is 4\n",
      "Cross Validation RMSE: 35513.256755088885\n",
      "-------------------------------------------\n",
      "For feature selection ['Gr Liv Area', 'Garage Area', 'Age', 'Last remod/add', '1st Flr SF', 'Garage Finish', 'Overall Qual', '2nd Flr SF', 'BsmtFin SF 1', 'Full Bath', 'Fireplaces', 'Garage Cars'] best degree is 4\n",
      "Cross Validation RMSE: 35491.9274908608\n",
      "-------------------------------------------\n",
      "For feature selection ['Gr Liv Area', 'Garage Area', 'Age', 'Last remod/add', '1st Flr SF', 'Garage Finish', 'Overall Qual', '2nd Flr SF', 'BsmtFin SF 1', 'TotRms AbvGrd', 'Fireplaces', 'Garage Cars'] best degree is 4\n",
      "Cross Validation RMSE: 35250.28720857525\n",
      "-------------------------------------------\n",
      "For feature selection ['Gr Liv Area', 'Garage Area', 'Age', 'Last remod/add', '1st Flr SF', 'Garage Finish', 'Overall Qual', '2nd Flr SF', 'Full Bath', 'TotRms AbvGrd', 'Fireplaces', 'Garage Cars'] best degree is 4\n",
      "Cross Validation RMSE: 36728.869541957225\n",
      "-------------------------------------------\n",
      "For feature selection ['Gr Liv Area', 'Garage Area', 'Age', 'Last remod/add', '1st Flr SF', 'Garage Finish', 'Overall Qual', 'BsmtFin SF 1', 'Full Bath', 'TotRms AbvGrd', 'Fireplaces', 'Garage Cars'] best degree is 4\n",
      "Cross Validation RMSE: 34187.1301766967\n",
      "-------------------------------------------\n",
      "For feature selection ['Gr Liv Area', 'Garage Area', 'Age', 'Last remod/add', '1st Flr SF', 'Garage Finish', '2nd Flr SF', 'BsmtFin SF 1', 'Full Bath', 'TotRms AbvGrd', 'Fireplaces', 'Garage Cars'] best degree is 4\n",
      "Cross Validation RMSE: 39329.32692618099\n",
      "-------------------------------------------\n",
      "For feature selection ['Gr Liv Area', 'Garage Area', 'Age', 'Last remod/add', '1st Flr SF', 'Overall Qual', '2nd Flr SF', 'BsmtFin SF 1', 'Full Bath', 'TotRms AbvGrd', 'Fireplaces', 'Garage Cars'] best degree is 4\n",
      "Cross Validation RMSE: 35741.3627412901\n",
      "-------------------------------------------\n",
      "For feature selection ['Gr Liv Area', 'Garage Area', 'Age', 'Last remod/add', 'Garage Finish', 'Overall Qual', '2nd Flr SF', 'BsmtFin SF 1', 'Full Bath', 'TotRms AbvGrd', 'Fireplaces', 'Garage Cars'] best degree is 4\n",
      "Cross Validation RMSE: 33955.874941972914\n",
      "-------------------------------------------\n",
      "For feature selection ['Gr Liv Area', 'Garage Area', 'Age', 'Total Bsmt SF', '1st Flr SF', 'Garage Finish', 'Overall Qual', '2nd Flr SF', 'BsmtFin SF 1', 'Full Bath', 'TotRms AbvGrd', 'Fireplaces'] best degree is 4\n",
      "Cross Validation RMSE: 35520.475060769786\n",
      "-------------------------------------------\n",
      "For feature selection ['Gr Liv Area', 'Garage Area', 'Age', 'Total Bsmt SF', '1st Flr SF', 'Garage Finish', 'Overall Qual', '2nd Flr SF', 'BsmtFin SF 1', 'Full Bath', 'TotRms AbvGrd', 'Garage Cars'] best degree is 4\n",
      "Cross Validation RMSE: 35587.12446084035\n",
      "-------------------------------------------\n",
      "For feature selection ['Gr Liv Area', 'Garage Area', 'Age', 'Total Bsmt SF', '1st Flr SF', 'Garage Finish', 'Overall Qual', '2nd Flr SF', 'BsmtFin SF 1', 'Full Bath', 'Fireplaces', 'Garage Cars'] best degree is 4\n",
      "Cross Validation RMSE: 35590.99114054871\n",
      "-------------------------------------------\n",
      "For feature selection ['Gr Liv Area', 'Garage Area', 'Age', 'Total Bsmt SF', '1st Flr SF', 'Garage Finish', 'Overall Qual', '2nd Flr SF', 'BsmtFin SF 1', 'TotRms AbvGrd', 'Fireplaces', 'Garage Cars'] best degree is 4\n",
      "Cross Validation RMSE: 35340.30944030721\n",
      "-------------------------------------------\n",
      "For feature selection ['Gr Liv Area', 'Garage Area', 'Age', 'Total Bsmt SF', '1st Flr SF', 'Garage Finish', 'Overall Qual', '2nd Flr SF', 'Full Bath', 'TotRms AbvGrd', 'Fireplaces', 'Garage Cars'] best degree is 4\n",
      "Cross Validation RMSE: 36325.91067868953\n",
      "-------------------------------------------\n",
      "For feature selection ['Gr Liv Area', 'Garage Area', 'Age', 'Total Bsmt SF', '1st Flr SF', 'Garage Finish', 'Overall Qual', 'BsmtFin SF 1', 'Full Bath', 'TotRms AbvGrd', 'Fireplaces', 'Garage Cars'] best degree is 4\n",
      "Cross Validation RMSE: 35039.155631967435\n",
      "-------------------------------------------\n",
      "For feature selection ['Gr Liv Area', 'Garage Area', 'Age', 'Total Bsmt SF', '1st Flr SF', 'Garage Finish', '2nd Flr SF', 'BsmtFin SF 1', 'Full Bath', 'TotRms AbvGrd', 'Fireplaces', 'Garage Cars'] best degree is 4\n",
      "Cross Validation RMSE: 39676.06209932002\n",
      "-------------------------------------------\n",
      "For feature selection ['Gr Liv Area', 'Garage Area', 'Age', 'Total Bsmt SF', '1st Flr SF', 'Overall Qual', '2nd Flr SF', 'BsmtFin SF 1', 'Full Bath', 'TotRms AbvGrd', 'Fireplaces', 'Garage Cars'] best degree is 4\n",
      "Cross Validation RMSE: 35881.5359944435\n",
      "-------------------------------------------\n",
      "For feature selection ['Gr Liv Area', 'Garage Area', 'Age', 'Total Bsmt SF', 'Garage Finish', 'Overall Qual', '2nd Flr SF', 'BsmtFin SF 1', 'Full Bath', 'TotRms AbvGrd', 'Fireplaces', 'Garage Cars'] best degree is 4\n",
      "Cross Validation RMSE: 34825.404419945415\n",
      "-------------------------------------------\n",
      "For feature selection ['Gr Liv Area', 'Garage Area', 'Age', '1st Flr SF', 'Garage Finish', 'Overall Qual', '2nd Flr SF', 'BsmtFin SF 1', 'Full Bath', 'TotRms AbvGrd', 'Fireplaces', 'Garage Cars'] best degree is 4\n",
      "Cross Validation RMSE: 35748.333224441725\n",
      "-------------------------------------------\n",
      "For feature selection ['Gr Liv Area', 'Garage Area', 'Last remod/add', 'Total Bsmt SF', '1st Flr SF', 'Garage Finish', 'Overall Qual', '2nd Flr SF', 'BsmtFin SF 1', 'Full Bath', 'TotRms AbvGrd', 'Fireplaces'] best degree is 4\n",
      "Cross Validation RMSE: 35303.594693129264\n",
      "-------------------------------------------\n"
     ]
    },
    {
     "name": "stdout",
     "output_type": "stream",
     "text": [
      "For feature selection ['Gr Liv Area', 'Garage Area', 'Last remod/add', 'Total Bsmt SF', '1st Flr SF', 'Garage Finish', 'Overall Qual', '2nd Flr SF', 'BsmtFin SF 1', 'Full Bath', 'TotRms AbvGrd', 'Garage Cars'] best degree is 4\n",
      "Cross Validation RMSE: 35387.894915413744\n",
      "-------------------------------------------\n",
      "For feature selection ['Gr Liv Area', 'Garage Area', 'Last remod/add', 'Total Bsmt SF', '1st Flr SF', 'Garage Finish', 'Overall Qual', '2nd Flr SF', 'BsmtFin SF 1', 'Full Bath', 'Fireplaces', 'Garage Cars'] best degree is 4\n",
      "Cross Validation RMSE: 35367.80431130767\n",
      "-------------------------------------------\n",
      "For feature selection ['Gr Liv Area', 'Garage Area', 'Last remod/add', 'Total Bsmt SF', '1st Flr SF', 'Garage Finish', 'Overall Qual', '2nd Flr SF', 'BsmtFin SF 1', 'TotRms AbvGrd', 'Fireplaces', 'Garage Cars'] best degree is 4\n",
      "Cross Validation RMSE: 35129.21674699248\n",
      "-------------------------------------------\n",
      "For feature selection ['Gr Liv Area', 'Garage Area', 'Last remod/add', 'Total Bsmt SF', '1st Flr SF', 'Garage Finish', 'Overall Qual', '2nd Flr SF', 'Full Bath', 'TotRms AbvGrd', 'Fireplaces', 'Garage Cars'] best degree is 4\n",
      "Cross Validation RMSE: 36221.417654587196\n",
      "-------------------------------------------\n",
      "For feature selection ['Gr Liv Area', 'Garage Area', 'Last remod/add', 'Total Bsmt SF', '1st Flr SF', 'Garage Finish', 'Overall Qual', 'BsmtFin SF 1', 'Full Bath', 'TotRms AbvGrd', 'Fireplaces', 'Garage Cars'] best degree is 4\n",
      "Cross Validation RMSE: 34297.44346767785\n",
      "-------------------------------------------\n",
      "For feature selection ['Gr Liv Area', 'Garage Area', 'Last remod/add', 'Total Bsmt SF', '1st Flr SF', 'Garage Finish', '2nd Flr SF', 'BsmtFin SF 1', 'Full Bath', 'TotRms AbvGrd', 'Fireplaces', 'Garage Cars'] best degree is 4\n",
      "Cross Validation RMSE: 38898.66428187779\n",
      "-------------------------------------------\n",
      "For feature selection ['Gr Liv Area', 'Garage Area', 'Last remod/add', 'Total Bsmt SF', '1st Flr SF', 'Overall Qual', '2nd Flr SF', 'BsmtFin SF 1', 'Full Bath', 'TotRms AbvGrd', 'Fireplaces', 'Garage Cars'] best degree is 4\n",
      "Cross Validation RMSE: 35623.586837421004\n",
      "-------------------------------------------\n",
      "For feature selection ['Gr Liv Area', 'Garage Area', 'Last remod/add', 'Total Bsmt SF', 'Garage Finish', 'Overall Qual', '2nd Flr SF', 'BsmtFin SF 1', 'Full Bath', 'TotRms AbvGrd', 'Fireplaces', 'Garage Cars'] best degree is 4\n",
      "Cross Validation RMSE: 34225.95305452202\n",
      "-------------------------------------------\n",
      "For feature selection ['Gr Liv Area', 'Garage Area', 'Last remod/add', '1st Flr SF', 'Garage Finish', 'Overall Qual', '2nd Flr SF', 'BsmtFin SF 1', 'Full Bath', 'TotRms AbvGrd', 'Fireplaces', 'Garage Cars'] best degree is 4\n",
      "Cross Validation RMSE: 35573.50697181415\n",
      "-------------------------------------------\n",
      "For feature selection ['Gr Liv Area', 'Garage Area', 'Total Bsmt SF', '1st Flr SF', 'Garage Finish', 'Overall Qual', '2nd Flr SF', 'BsmtFin SF 1', 'Full Bath', 'TotRms AbvGrd', 'Fireplaces', 'Garage Cars'] best degree is 4\n",
      "Cross Validation RMSE: 35775.466955386866\n",
      "-------------------------------------------\n",
      "For feature selection ['Gr Liv Area', 'Age', 'Last remod/add', 'Total Bsmt SF', '1st Flr SF', 'Garage Finish', 'Overall Qual', '2nd Flr SF', 'BsmtFin SF 1', 'Full Bath', 'TotRms AbvGrd', 'Fireplaces'] best degree is 4\n",
      "Cross Validation RMSE: 36036.77297611684\n",
      "-------------------------------------------\n",
      "For feature selection ['Gr Liv Area', 'Age', 'Last remod/add', 'Total Bsmt SF', '1st Flr SF', 'Garage Finish', 'Overall Qual', '2nd Flr SF', 'BsmtFin SF 1', 'Full Bath', 'TotRms AbvGrd', 'Garage Cars'] best degree is 4\n",
      "Cross Validation RMSE: 35513.11679821088\n",
      "-------------------------------------------\n",
      "For feature selection ['Gr Liv Area', 'Age', 'Last remod/add', 'Total Bsmt SF', '1st Flr SF', 'Garage Finish', 'Overall Qual', '2nd Flr SF', 'BsmtFin SF 1', 'Full Bath', 'Fireplaces', 'Garage Cars'] best degree is 4\n",
      "Cross Validation RMSE: 35528.05852067127\n",
      "-------------------------------------------\n",
      "For feature selection ['Gr Liv Area', 'Age', 'Last remod/add', 'Total Bsmt SF', '1st Flr SF', 'Garage Finish', 'Overall Qual', '2nd Flr SF', 'BsmtFin SF 1', 'TotRms AbvGrd', 'Fireplaces', 'Garage Cars'] best degree is 4\n",
      "Cross Validation RMSE: 35303.443073068804\n",
      "-------------------------------------------\n",
      "For feature selection ['Gr Liv Area', 'Age', 'Last remod/add', 'Total Bsmt SF', '1st Flr SF', 'Garage Finish', 'Overall Qual', '2nd Flr SF', 'Full Bath', 'TotRms AbvGrd', 'Fireplaces', 'Garage Cars'] best degree is 4\n",
      "Cross Validation RMSE: 36377.26499358864\n",
      "-------------------------------------------\n",
      "For feature selection ['Gr Liv Area', 'Age', 'Last remod/add', 'Total Bsmt SF', '1st Flr SF', 'Garage Finish', 'Overall Qual', 'BsmtFin SF 1', 'Full Bath', 'TotRms AbvGrd', 'Fireplaces', 'Garage Cars'] best degree is 4\n",
      "Cross Validation RMSE: 34293.24692932229\n",
      "-------------------------------------------\n",
      "For feature selection ['Gr Liv Area', 'Age', 'Last remod/add', 'Total Bsmt SF', '1st Flr SF', 'Garage Finish', '2nd Flr SF', 'BsmtFin SF 1', 'Full Bath', 'TotRms AbvGrd', 'Fireplaces', 'Garage Cars'] best degree is 4\n",
      "Cross Validation RMSE: 38693.70402256854\n",
      "-------------------------------------------\n",
      "For feature selection ['Gr Liv Area', 'Age', 'Last remod/add', 'Total Bsmt SF', '1st Flr SF', 'Overall Qual', '2nd Flr SF', 'BsmtFin SF 1', 'Full Bath', 'TotRms AbvGrd', 'Fireplaces', 'Garage Cars'] best degree is 4\n",
      "Cross Validation RMSE: 35645.34948915648\n",
      "-------------------------------------------\n",
      "For feature selection ['Gr Liv Area', 'Age', 'Last remod/add', 'Total Bsmt SF', 'Garage Finish', 'Overall Qual', '2nd Flr SF', 'BsmtFin SF 1', 'Full Bath', 'TotRms AbvGrd', 'Fireplaces', 'Garage Cars'] best degree is 4\n",
      "Cross Validation RMSE: 34213.29974782935\n",
      "-------------------------------------------\n",
      "For feature selection ['Gr Liv Area', 'Age', 'Last remod/add', '1st Flr SF', 'Garage Finish', 'Overall Qual', '2nd Flr SF', 'BsmtFin SF 1', 'Full Bath', 'TotRms AbvGrd', 'Fireplaces', 'Garage Cars'] best degree is 4\n",
      "Cross Validation RMSE: 35719.22454030942\n",
      "-------------------------------------------\n",
      "For feature selection ['Gr Liv Area', 'Age', 'Total Bsmt SF', '1st Flr SF', 'Garage Finish', 'Overall Qual', '2nd Flr SF', 'BsmtFin SF 1', 'Full Bath', 'TotRms AbvGrd', 'Fireplaces', 'Garage Cars'] best degree is 4\n",
      "Cross Validation RMSE: 35778.021606935035\n",
      "-------------------------------------------\n",
      "For feature selection ['Gr Liv Area', 'Last remod/add', 'Total Bsmt SF', '1st Flr SF', 'Garage Finish', 'Overall Qual', '2nd Flr SF', 'BsmtFin SF 1', 'Full Bath', 'TotRms AbvGrd', 'Fireplaces', 'Garage Cars'] best degree is 4\n",
      "Cross Validation RMSE: 35545.29775778044\n",
      "-------------------------------------------\n",
      "For feature selection ['Garage Area', 'Age', 'Last remod/add', 'Total Bsmt SF', '1st Flr SF', 'Garage Finish', 'Overall Qual', '2nd Flr SF', 'BsmtFin SF 1', 'Full Bath', 'TotRms AbvGrd', 'Fireplaces'] best degree is 4\n",
      "Cross Validation RMSE: 34856.533701482556\n",
      "-------------------------------------------\n",
      "For feature selection ['Garage Area', 'Age', 'Last remod/add', 'Total Bsmt SF', '1st Flr SF', 'Garage Finish', 'Overall Qual', '2nd Flr SF', 'BsmtFin SF 1', 'Full Bath', 'TotRms AbvGrd', 'Garage Cars'] best degree is 4\n",
      "Cross Validation RMSE: 35261.538376982644\n",
      "-------------------------------------------\n",
      "For feature selection ['Garage Area', 'Age', 'Last remod/add', 'Total Bsmt SF', '1st Flr SF', 'Garage Finish', 'Overall Qual', '2nd Flr SF', 'BsmtFin SF 1', 'Full Bath', 'Fireplaces', 'Garage Cars'] best degree is 4\n",
      "Cross Validation RMSE: 34953.95935298019\n",
      "-------------------------------------------\n",
      "For feature selection ['Garage Area', 'Age', 'Last remod/add', 'Total Bsmt SF', '1st Flr SF', 'Garage Finish', 'Overall Qual', '2nd Flr SF', 'BsmtFin SF 1', 'TotRms AbvGrd', 'Fireplaces', 'Garage Cars'] best degree is 4\n",
      "Cross Validation RMSE: 34365.364798029615\n",
      "-------------------------------------------\n",
      "For feature selection ['Garage Area', 'Age', 'Last remod/add', 'Total Bsmt SF', '1st Flr SF', 'Garage Finish', 'Overall Qual', '2nd Flr SF', 'Full Bath', 'TotRms AbvGrd', 'Fireplaces', 'Garage Cars'] best degree is 4\n",
      "Cross Validation RMSE: 34564.461971362296\n",
      "-------------------------------------------\n"
     ]
    },
    {
     "name": "stdout",
     "output_type": "stream",
     "text": [
      "For feature selection ['Garage Area', 'Age', 'Last remod/add', 'Total Bsmt SF', '1st Flr SF', 'Garage Finish', 'Overall Qual', 'BsmtFin SF 1', 'Full Bath', 'TotRms AbvGrd', 'Fireplaces', 'Garage Cars'] best degree is 4\n",
      "Cross Validation RMSE: 35792.750433475565\n",
      "-------------------------------------------\n",
      "For feature selection ['Garage Area', 'Age', 'Last remod/add', 'Total Bsmt SF', '1st Flr SF', 'Garage Finish', '2nd Flr SF', 'BsmtFin SF 1', 'Full Bath', 'TotRms AbvGrd', 'Fireplaces', 'Garage Cars'] best degree is 4\n",
      "Cross Validation RMSE: 38385.15449284822\n",
      "-------------------------------------------\n",
      "For feature selection ['Garage Area', 'Age', 'Last remod/add', 'Total Bsmt SF', '1st Flr SF', 'Overall Qual', '2nd Flr SF', 'BsmtFin SF 1', 'Full Bath', 'TotRms AbvGrd', 'Fireplaces', 'Garage Cars'] best degree is 4\n",
      "Cross Validation RMSE: 35165.422327549386\n",
      "-------------------------------------------\n",
      "For feature selection ['Garage Area', 'Age', 'Last remod/add', 'Total Bsmt SF', 'Garage Finish', 'Overall Qual', '2nd Flr SF', 'BsmtFin SF 1', 'Full Bath', 'TotRms AbvGrd', 'Fireplaces', 'Garage Cars'] best degree is 4\n",
      "Cross Validation RMSE: 36782.96871184565\n",
      "-------------------------------------------\n",
      "For feature selection ['Garage Area', 'Age', 'Last remod/add', '1st Flr SF', 'Garage Finish', 'Overall Qual', '2nd Flr SF', 'BsmtFin SF 1', 'Full Bath', 'TotRms AbvGrd', 'Fireplaces', 'Garage Cars'] best degree is 4\n",
      "Cross Validation RMSE: 34172.58719386154\n",
      "-------------------------------------------\n",
      "For feature selection ['Garage Area', 'Age', 'Total Bsmt SF', '1st Flr SF', 'Garage Finish', 'Overall Qual', '2nd Flr SF', 'BsmtFin SF 1', 'Full Bath', 'TotRms AbvGrd', 'Fireplaces', 'Garage Cars'] best degree is 4\n",
      "Cross Validation RMSE: 34681.98659408432\n",
      "-------------------------------------------\n",
      "For feature selection ['Garage Area', 'Last remod/add', 'Total Bsmt SF', '1st Flr SF', 'Garage Finish', 'Overall Qual', '2nd Flr SF', 'BsmtFin SF 1', 'Full Bath', 'TotRms AbvGrd', 'Fireplaces', 'Garage Cars'] best degree is 4\n",
      "Cross Validation RMSE: 34239.79001360825\n",
      "-------------------------------------------\n",
      "For feature selection ['Age', 'Last remod/add', 'Total Bsmt SF', '1st Flr SF', 'Garage Finish', 'Overall Qual', '2nd Flr SF', 'BsmtFin SF 1', 'Full Bath', 'TotRms AbvGrd', 'Fireplaces', 'Garage Cars'] best degree is 4\n",
      "Cross Validation RMSE: 34199.929239125115\n",
      "-------------------------------------------\n",
      "For feature selection ['Gr Liv Area', 'Garage Area', 'Age', 'Last remod/add', 'Total Bsmt SF', '1st Flr SF', 'Garage Finish', 'Overall Qual', '2nd Flr SF', 'BsmtFin SF 1', 'Full Bath', 'TotRms AbvGrd', 'Fireplaces'] best degree is 4\n",
      "Cross Validation RMSE: 35185.557997708755\n",
      "-------------------------------------------\n",
      "For feature selection ['Gr Liv Area', 'Garage Area', 'Age', 'Last remod/add', 'Total Bsmt SF', '1st Flr SF', 'Garage Finish', 'Overall Qual', '2nd Flr SF', 'BsmtFin SF 1', 'Full Bath', 'TotRms AbvGrd', 'Garage Cars'] best degree is 4\n",
      "Cross Validation RMSE: 35297.4602800119\n",
      "-------------------------------------------\n",
      "For feature selection ['Gr Liv Area', 'Garage Area', 'Age', 'Last remod/add', 'Total Bsmt SF', '1st Flr SF', 'Garage Finish', 'Overall Qual', '2nd Flr SF', 'BsmtFin SF 1', 'Full Bath', 'Fireplaces', 'Garage Cars'] best degree is 4\n",
      "Cross Validation RMSE: 35248.72874740433\n",
      "-------------------------------------------\n",
      "For feature selection ['Gr Liv Area', 'Garage Area', 'Age', 'Last remod/add', 'Total Bsmt SF', '1st Flr SF', 'Garage Finish', 'Overall Qual', '2nd Flr SF', 'BsmtFin SF 1', 'TotRms AbvGrd', 'Fireplaces', 'Garage Cars'] best degree is 4\n",
      "Cross Validation RMSE: 35026.58963116138\n",
      "-------------------------------------------\n",
      "For feature selection ['Gr Liv Area', 'Garage Area', 'Age', 'Last remod/add', 'Total Bsmt SF', '1st Flr SF', 'Garage Finish', 'Overall Qual', '2nd Flr SF', 'Full Bath', 'TotRms AbvGrd', 'Fireplaces', 'Garage Cars'] best degree is 4\n",
      "Cross Validation RMSE: 36032.86659611086\n",
      "-------------------------------------------\n",
      "For feature selection ['Gr Liv Area', 'Garage Area', 'Age', 'Last remod/add', 'Total Bsmt SF', '1st Flr SF', 'Garage Finish', 'Overall Qual', 'BsmtFin SF 1', 'Full Bath', 'TotRms AbvGrd', 'Fireplaces', 'Garage Cars'] best degree is 4\n",
      "Cross Validation RMSE: 34724.538121079466\n",
      "-------------------------------------------\n",
      "For feature selection ['Gr Liv Area', 'Garage Area', 'Age', 'Last remod/add', 'Total Bsmt SF', '1st Flr SF', 'Garage Finish', '2nd Flr SF', 'BsmtFin SF 1', 'Full Bath', 'TotRms AbvGrd', 'Fireplaces', 'Garage Cars'] best degree is 4\n",
      "Cross Validation RMSE: 38464.52270986914\n",
      "-------------------------------------------\n",
      "For feature selection ['Gr Liv Area', 'Garage Area', 'Age', 'Last remod/add', 'Total Bsmt SF', '1st Flr SF', 'Overall Qual', '2nd Flr SF', 'BsmtFin SF 1', 'Full Bath', 'TotRms AbvGrd', 'Fireplaces', 'Garage Cars'] best degree is 4\n",
      "Cross Validation RMSE: 35470.95643480107\n",
      "-------------------------------------------\n",
      "For feature selection ['Gr Liv Area', 'Garage Area', 'Age', 'Last remod/add', 'Total Bsmt SF', 'Garage Finish', 'Overall Qual', '2nd Flr SF', 'BsmtFin SF 1', 'Full Bath', 'TotRms AbvGrd', 'Fireplaces', 'Garage Cars'] best degree is 4\n",
      "Cross Validation RMSE: 34589.618646232026\n",
      "-------------------------------------------\n",
      "For feature selection ['Gr Liv Area', 'Garage Area', 'Age', 'Last remod/add', '1st Flr SF', 'Garage Finish', 'Overall Qual', '2nd Flr SF', 'BsmtFin SF 1', 'Full Bath', 'TotRms AbvGrd', 'Fireplaces', 'Garage Cars'] best degree is 4\n",
      "Cross Validation RMSE: 35443.02038980953\n",
      "-------------------------------------------\n",
      "For feature selection ['Gr Liv Area', 'Garage Area', 'Age', 'Total Bsmt SF', '1st Flr SF', 'Garage Finish', 'Overall Qual', '2nd Flr SF', 'BsmtFin SF 1', 'Full Bath', 'TotRms AbvGrd', 'Fireplaces', 'Garage Cars'] best degree is 4\n",
      "Cross Validation RMSE: 35517.62766851846\n",
      "-------------------------------------------\n",
      "For feature selection ['Gr Liv Area', 'Garage Area', 'Last remod/add', 'Total Bsmt SF', '1st Flr SF', 'Garage Finish', 'Overall Qual', '2nd Flr SF', 'BsmtFin SF 1', 'Full Bath', 'TotRms AbvGrd', 'Fireplaces', 'Garage Cars'] best degree is 4\n",
      "Cross Validation RMSE: 35293.17820031387\n",
      "-------------------------------------------\n",
      "For feature selection ['Gr Liv Area', 'Age', 'Last remod/add', 'Total Bsmt SF', '1st Flr SF', 'Garage Finish', 'Overall Qual', '2nd Flr SF', 'BsmtFin SF 1', 'Full Bath', 'TotRms AbvGrd', 'Fireplaces', 'Garage Cars'] best degree is 4\n",
      "Cross Validation RMSE: 35449.07466816246\n",
      "-------------------------------------------\n",
      "For feature selection ['Garage Area', 'Age', 'Last remod/add', 'Total Bsmt SF', '1st Flr SF', 'Garage Finish', 'Overall Qual', '2nd Flr SF', 'BsmtFin SF 1', 'Full Bath', 'TotRms AbvGrd', 'Fireplaces', 'Garage Cars'] best degree is 4\n",
      "Cross Validation RMSE: 34566.61190157012\n",
      "-------------------------------------------\n",
      "For feature selection ['Gr Liv Area', 'Garage Area', 'Age', 'Last remod/add', 'Total Bsmt SF', '1st Flr SF', 'Garage Finish', 'Overall Qual', '2nd Flr SF', 'BsmtFin SF 1', 'Full Bath', 'TotRms AbvGrd', 'Fireplaces', 'Garage Cars'] best degree is 4\n",
      "Cross Validation RMSE: 35186.68354755195\n",
      "-------------------------------------------\n",
      "-------------------------------------------\n",
      "-------------------------------------------\n",
      "-------------------------------------------\n",
      "-------------------------------------------\n",
      "-------------------------------------------\n",
      "------OVERALL BEST MODEL BY CV-RMSE--------\n",
      "-------------------------------------------\n",
      "-------------------------------------------\n",
      "Overall Best POLY model uses the features ['Gr Liv Area', 'Garage Area', 'Age', 'Last remod/add', 'Garage Finish', 'Overall Qual', '2nd Flr SF', 'BsmtFin SF 1', 'Full Bath', 'TotRms AbvGrd', 'Fireplaces', 'Garage Cars']\n",
      "CV RMSE: 33955.874941972914\n"
     ]
    }
   ],
   "source": [
    "#### DON'T FORGET TO ADJUST ALGO TO CONVERT CATEGORICAL VARIABLES TO DUMMIES...\n",
    "\n",
    "best_set_model = []\n",
    "\n",
    "best_set_model.append(poly_multiple_test(feature_combinations, 'SalePrice', df_subset, df_subset_test))\n",
    "\n",
    "overall_best_score = np.inf\n",
    "for i in best_set_model:\n",
    "    if i[2] < overall_best_score:\n",
    "        overall_best_score = i[2]\n",
    "        overall_best_features = i[0]\n",
    "        overall_best_mlr_cv = i[1]\n",
    "        overall_best_predictions = i[3]\n",
    "        \n",
    "print('-------------------------------------------')    \n",
    "print('-------------------------------------------')        \n",
    "print('------OVERALL BEST MODEL BY CV-RMSE--------')        \n",
    "print('-------------------------------------------')        \n",
    "print('-------------------------------------------')        \n",
    "\n",
    "print(f'Overall Best POLY model uses the features {overall_best_features}')\n",
    "print(f'CV RMSE: {overall_best_score}')"
   ]
  },
  {
   "cell_type": "code",
   "execution_count": 172,
   "metadata": {},
   "outputs": [],
   "source": [
    "predictions = pd.concat([pd.Series(df_subset_test.index), pd.Series(overall_best_predictions)], axis=1, ignore_index=True)\n",
    "predictions = predictions.rename(columns={1: \"SalePrice\"})\n",
    "predictions = predictions.drop([0], axis=1)\n",
    "predictions.index.names = ['Test_ID']\n",
    "predictions.to_csv(\"new_predictions-with-overall-qual/Predictions_poly_with_outliers.csv\")\n",
    "# kaggle test-rmse = 39331.2954"
   ]
  },
  {
   "cell_type": "markdown",
   "metadata": {},
   "source": [
    "## Random Forest Regression"
   ]
  },
  {
   "cell_type": "code",
   "execution_count": 173,
   "metadata": {},
   "outputs": [],
   "source": [
    "def rf_multiple_test(features, response, train_dataset, test_dataset):\n",
    "    \n",
    "    best_features_score = np.inf\n",
    "    best_test_t = np.inf\n",
    "    \n",
    "    for predictors in features:\n",
    "        \n",
    "        best_score = -np.inf\n",
    "        \n",
    "        rf = RandomForestRegressor()\n",
    "\n",
    "        scores = cross_val_score(rf, pd.get_dummies(train_dataset[predictors], drop_first=True), train_dataset[response], cv=5, scoring = 'neg_mean_squared_error')\n",
    "        cv_score = np.mean(scores)\n",
    "        \n",
    "        # train the selected model with the whole train set\n",
    "        rf.fit(pd.get_dummies(train_dataset[predictors], drop_first=True), train_dataset[response])\n",
    "        \n",
    "        # Predict the test data with the selected and re-estimated model\n",
    "        predictions = rf.predict(pd.get_dummies(test_dataset[predictors], drop_first=True))\n",
    "        cv_rmse= np.sqrt(-cv_score)        \n",
    "        \n",
    "        print(f'For feature selection {predictors}')\n",
    "        print(f'Cross Validation RMSE: {cv_rmse}')\n",
    "        print('-------------------------------------------')\n",
    "        \n",
    "        if cv_rmse < best_features_score:\n",
    "            best_features_score = cv_rmse\n",
    "            best_features = predictors\n",
    "            best_overall = rf\n",
    "            best_predictions = predictions\n",
    "            \n",
    "#     print(f'Best kNN model uses the features {best_features}')\n",
    "#     print(f'Best CV RMSE: {best_features_score}')\n",
    "#     print(f'Best Test RMSE: {best_test}')\n",
    "    print('-------------------------------------------')\n",
    "    print('-------------------------------------------')\n",
    "    print('-------------------------------------------')\n",
    "\n",
    "    return [best_features, best_overall, best_features_score, best_predictions]"
   ]
  },
  {
   "cell_type": "code",
   "execution_count": 174,
   "metadata": {},
   "outputs": [
    {
     "name": "stdout",
     "output_type": "stream",
     "text": [
      "For feature selection ['Gr Liv Area', 'Garage Area', 'Age', 'Last remod/add', 'Total Bsmt SF', '1st Flr SF', 'Garage Finish', 'Overall Qual', '2nd Flr SF', 'BsmtFin SF 1', 'Full Bath', 'TotRms AbvGrd']\n",
      "Cross Validation RMSE: 29499.212576799902\n",
      "-------------------------------------------\n",
      "For feature selection ['Gr Liv Area', 'Garage Area', 'Age', 'Last remod/add', 'Total Bsmt SF', '1st Flr SF', 'Garage Finish', 'Overall Qual', '2nd Flr SF', 'BsmtFin SF 1', 'Full Bath', 'Fireplaces']\n",
      "Cross Validation RMSE: 29282.58471773739\n",
      "-------------------------------------------\n",
      "For feature selection ['Gr Liv Area', 'Garage Area', 'Age', 'Last remod/add', 'Total Bsmt SF', '1st Flr SF', 'Garage Finish', 'Overall Qual', '2nd Flr SF', 'BsmtFin SF 1', 'Full Bath', 'Garage Cars']\n",
      "Cross Validation RMSE: 29596.456126778437\n",
      "-------------------------------------------\n",
      "For feature selection ['Gr Liv Area', 'Garage Area', 'Age', 'Last remod/add', 'Total Bsmt SF', '1st Flr SF', 'Garage Finish', 'Overall Qual', '2nd Flr SF', 'BsmtFin SF 1', 'TotRms AbvGrd', 'Fireplaces']\n",
      "Cross Validation RMSE: 29339.1160349081\n",
      "-------------------------------------------\n",
      "For feature selection ['Gr Liv Area', 'Garage Area', 'Age', 'Last remod/add', 'Total Bsmt SF', '1st Flr SF', 'Garage Finish', 'Overall Qual', '2nd Flr SF', 'BsmtFin SF 1', 'TotRms AbvGrd', 'Garage Cars']\n",
      "Cross Validation RMSE: 29358.59293809551\n",
      "-------------------------------------------\n",
      "For feature selection ['Gr Liv Area', 'Garage Area', 'Age', 'Last remod/add', 'Total Bsmt SF', '1st Flr SF', 'Garage Finish', 'Overall Qual', '2nd Flr SF', 'BsmtFin SF 1', 'Fireplaces', 'Garage Cars']\n",
      "Cross Validation RMSE: 29447.46296226894\n",
      "-------------------------------------------\n",
      "For feature selection ['Gr Liv Area', 'Garage Area', 'Age', 'Last remod/add', 'Total Bsmt SF', '1st Flr SF', 'Garage Finish', 'Overall Qual', '2nd Flr SF', 'Full Bath', 'TotRms AbvGrd', 'Fireplaces']\n",
      "Cross Validation RMSE: 29864.370293942935\n",
      "-------------------------------------------\n",
      "For feature selection ['Gr Liv Area', 'Garage Area', 'Age', 'Last remod/add', 'Total Bsmt SF', '1st Flr SF', 'Garage Finish', 'Overall Qual', '2nd Flr SF', 'Full Bath', 'TotRms AbvGrd', 'Garage Cars']\n",
      "Cross Validation RMSE: 30446.362470135366\n",
      "-------------------------------------------\n",
      "For feature selection ['Gr Liv Area', 'Garage Area', 'Age', 'Last remod/add', 'Total Bsmt SF', '1st Flr SF', 'Garage Finish', 'Overall Qual', '2nd Flr SF', 'Full Bath', 'Fireplaces', 'Garage Cars']\n",
      "Cross Validation RMSE: 29565.225713442327\n",
      "-------------------------------------------\n",
      "For feature selection ['Gr Liv Area', 'Garage Area', 'Age', 'Last remod/add', 'Total Bsmt SF', '1st Flr SF', 'Garage Finish', 'Overall Qual', '2nd Flr SF', 'TotRms AbvGrd', 'Fireplaces', 'Garage Cars']\n",
      "Cross Validation RMSE: 29626.800738290858\n",
      "-------------------------------------------\n",
      "For feature selection ['Gr Liv Area', 'Garage Area', 'Age', 'Last remod/add', 'Total Bsmt SF', '1st Flr SF', 'Garage Finish', 'Overall Qual', 'BsmtFin SF 1', 'Full Bath', 'TotRms AbvGrd', 'Fireplaces']\n",
      "Cross Validation RMSE: 29654.646951290568\n",
      "-------------------------------------------\n",
      "For feature selection ['Gr Liv Area', 'Garage Area', 'Age', 'Last remod/add', 'Total Bsmt SF', '1st Flr SF', 'Garage Finish', 'Overall Qual', 'BsmtFin SF 1', 'Full Bath', 'TotRms AbvGrd', 'Garage Cars']\n",
      "Cross Validation RMSE: 29878.10126275885\n",
      "-------------------------------------------\n",
      "For feature selection ['Gr Liv Area', 'Garage Area', 'Age', 'Last remod/add', 'Total Bsmt SF', '1st Flr SF', 'Garage Finish', 'Overall Qual', 'BsmtFin SF 1', 'Full Bath', 'Fireplaces', 'Garage Cars']\n",
      "Cross Validation RMSE: 29487.963637501085\n",
      "-------------------------------------------\n",
      "For feature selection ['Gr Liv Area', 'Garage Area', 'Age', 'Last remod/add', 'Total Bsmt SF', '1st Flr SF', 'Garage Finish', 'Overall Qual', 'BsmtFin SF 1', 'TotRms AbvGrd', 'Fireplaces', 'Garage Cars']\n",
      "Cross Validation RMSE: 29429.43893307233\n",
      "-------------------------------------------\n",
      "For feature selection ['Gr Liv Area', 'Garage Area', 'Age', 'Last remod/add', 'Total Bsmt SF', '1st Flr SF', 'Garage Finish', 'Overall Qual', 'Full Bath', 'TotRms AbvGrd', 'Fireplaces', 'Garage Cars']\n",
      "Cross Validation RMSE: 29673.459722958898\n",
      "-------------------------------------------\n",
      "For feature selection ['Gr Liv Area', 'Garage Area', 'Age', 'Last remod/add', 'Total Bsmt SF', '1st Flr SF', 'Garage Finish', '2nd Flr SF', 'BsmtFin SF 1', 'Full Bath', 'TotRms AbvGrd', 'Fireplaces']\n",
      "Cross Validation RMSE: 31511.88191782911\n",
      "-------------------------------------------\n",
      "For feature selection ['Gr Liv Area', 'Garage Area', 'Age', 'Last remod/add', 'Total Bsmt SF', '1st Flr SF', 'Garage Finish', '2nd Flr SF', 'BsmtFin SF 1', 'Full Bath', 'TotRms AbvGrd', 'Garage Cars']\n",
      "Cross Validation RMSE: 32728.381116257257\n",
      "-------------------------------------------\n",
      "For feature selection ['Gr Liv Area', 'Garage Area', 'Age', 'Last remod/add', 'Total Bsmt SF', '1st Flr SF', 'Garage Finish', '2nd Flr SF', 'BsmtFin SF 1', 'Full Bath', 'Fireplaces', 'Garage Cars']\n",
      "Cross Validation RMSE: 31961.11429451505\n",
      "-------------------------------------------\n",
      "For feature selection ['Gr Liv Area', 'Garage Area', 'Age', 'Last remod/add', 'Total Bsmt SF', '1st Flr SF', 'Garage Finish', '2nd Flr SF', 'BsmtFin SF 1', 'TotRms AbvGrd', 'Fireplaces', 'Garage Cars']\n",
      "Cross Validation RMSE: 32332.641575078076\n",
      "-------------------------------------------\n",
      "For feature selection ['Gr Liv Area', 'Garage Area', 'Age', 'Last remod/add', 'Total Bsmt SF', '1st Flr SF', 'Garage Finish', '2nd Flr SF', 'Full Bath', 'TotRms AbvGrd', 'Fireplaces', 'Garage Cars']\n",
      "Cross Validation RMSE: 31899.996960062836\n",
      "-------------------------------------------\n",
      "For feature selection ['Gr Liv Area', 'Garage Area', 'Age', 'Last remod/add', 'Total Bsmt SF', '1st Flr SF', 'Garage Finish', 'BsmtFin SF 1', 'Full Bath', 'TotRms AbvGrd', 'Fireplaces', 'Garage Cars']\n",
      "Cross Validation RMSE: 31812.25211982501\n",
      "-------------------------------------------\n",
      "For feature selection ['Gr Liv Area', 'Garage Area', 'Age', 'Last remod/add', 'Total Bsmt SF', '1st Flr SF', 'Overall Qual', '2nd Flr SF', 'BsmtFin SF 1', 'Full Bath', 'TotRms AbvGrd', 'Fireplaces']\n",
      "Cross Validation RMSE: 29352.82019826581\n",
      "-------------------------------------------\n",
      "For feature selection ['Gr Liv Area', 'Garage Area', 'Age', 'Last remod/add', 'Total Bsmt SF', '1st Flr SF', 'Overall Qual', '2nd Flr SF', 'BsmtFin SF 1', 'Full Bath', 'TotRms AbvGrd', 'Garage Cars']\n",
      "Cross Validation RMSE: 29404.302051520448\n",
      "-------------------------------------------\n",
      "For feature selection ['Gr Liv Area', 'Garage Area', 'Age', 'Last remod/add', 'Total Bsmt SF', '1st Flr SF', 'Overall Qual', '2nd Flr SF', 'BsmtFin SF 1', 'Full Bath', 'Fireplaces', 'Garage Cars']\n",
      "Cross Validation RMSE: 29296.255504802517\n",
      "-------------------------------------------\n",
      "For feature selection ['Gr Liv Area', 'Garage Area', 'Age', 'Last remod/add', 'Total Bsmt SF', '1st Flr SF', 'Overall Qual', '2nd Flr SF', 'BsmtFin SF 1', 'TotRms AbvGrd', 'Fireplaces', 'Garage Cars']\n",
      "Cross Validation RMSE: 29002.823686499803\n",
      "-------------------------------------------\n",
      "For feature selection ['Gr Liv Area', 'Garage Area', 'Age', 'Last remod/add', 'Total Bsmt SF', '1st Flr SF', 'Overall Qual', '2nd Flr SF', 'Full Bath', 'TotRms AbvGrd', 'Fireplaces', 'Garage Cars']\n",
      "Cross Validation RMSE: 29726.876823808023\n",
      "-------------------------------------------\n",
      "For feature selection ['Gr Liv Area', 'Garage Area', 'Age', 'Last remod/add', 'Total Bsmt SF', '1st Flr SF', 'Overall Qual', 'BsmtFin SF 1', 'Full Bath', 'TotRms AbvGrd', 'Fireplaces', 'Garage Cars']\n",
      "Cross Validation RMSE: 29319.480379895198\n",
      "-------------------------------------------\n",
      "For feature selection ['Gr Liv Area', 'Garage Area', 'Age', 'Last remod/add', 'Total Bsmt SF', '1st Flr SF', '2nd Flr SF', 'BsmtFin SF 1', 'Full Bath', 'TotRms AbvGrd', 'Fireplaces', 'Garage Cars']\n",
      "Cross Validation RMSE: 31241.802623254538\n",
      "-------------------------------------------\n",
      "For feature selection ['Gr Liv Area', 'Garage Area', 'Age', 'Last remod/add', 'Total Bsmt SF', 'Garage Finish', 'Overall Qual', '2nd Flr SF', 'BsmtFin SF 1', 'Full Bath', 'TotRms AbvGrd', 'Fireplaces']\n",
      "Cross Validation RMSE: 29264.08292325725\n",
      "-------------------------------------------\n"
     ]
    },
    {
     "name": "stdout",
     "output_type": "stream",
     "text": [
      "For feature selection ['Gr Liv Area', 'Garage Area', 'Age', 'Last remod/add', 'Total Bsmt SF', 'Garage Finish', 'Overall Qual', '2nd Flr SF', 'BsmtFin SF 1', 'Full Bath', 'TotRms AbvGrd', 'Garage Cars']\n",
      "Cross Validation RMSE: 29763.716346017394\n",
      "-------------------------------------------\n",
      "For feature selection ['Gr Liv Area', 'Garage Area', 'Age', 'Last remod/add', 'Total Bsmt SF', 'Garage Finish', 'Overall Qual', '2nd Flr SF', 'BsmtFin SF 1', 'Full Bath', 'Fireplaces', 'Garage Cars']\n",
      "Cross Validation RMSE: 29202.87927344351\n",
      "-------------------------------------------\n",
      "For feature selection ['Gr Liv Area', 'Garage Area', 'Age', 'Last remod/add', 'Total Bsmt SF', 'Garage Finish', 'Overall Qual', '2nd Flr SF', 'BsmtFin SF 1', 'TotRms AbvGrd', 'Fireplaces', 'Garage Cars']\n",
      "Cross Validation RMSE: 29267.35127338149\n",
      "-------------------------------------------\n",
      "For feature selection ['Gr Liv Area', 'Garage Area', 'Age', 'Last remod/add', 'Total Bsmt SF', 'Garage Finish', 'Overall Qual', '2nd Flr SF', 'Full Bath', 'TotRms AbvGrd', 'Fireplaces', 'Garage Cars']\n",
      "Cross Validation RMSE: 29344.11316360951\n",
      "-------------------------------------------\n",
      "For feature selection ['Gr Liv Area', 'Garage Area', 'Age', 'Last remod/add', 'Total Bsmt SF', 'Garage Finish', 'Overall Qual', 'BsmtFin SF 1', 'Full Bath', 'TotRms AbvGrd', 'Fireplaces', 'Garage Cars']\n",
      "Cross Validation RMSE: 29422.420101655214\n",
      "-------------------------------------------\n",
      "For feature selection ['Gr Liv Area', 'Garage Area', 'Age', 'Last remod/add', 'Total Bsmt SF', 'Garage Finish', '2nd Flr SF', 'BsmtFin SF 1', 'Full Bath', 'TotRms AbvGrd', 'Fireplaces', 'Garage Cars']\n",
      "Cross Validation RMSE: 31535.79116000404\n",
      "-------------------------------------------\n",
      "For feature selection ['Gr Liv Area', 'Garage Area', 'Age', 'Last remod/add', 'Total Bsmt SF', 'Overall Qual', '2nd Flr SF', 'BsmtFin SF 1', 'Full Bath', 'TotRms AbvGrd', 'Fireplaces', 'Garage Cars']\n",
      "Cross Validation RMSE: 29202.05878132834\n",
      "-------------------------------------------\n",
      "For feature selection ['Gr Liv Area', 'Garage Area', 'Age', 'Last remod/add', '1st Flr SF', 'Garage Finish', 'Overall Qual', '2nd Flr SF', 'BsmtFin SF 1', 'Full Bath', 'TotRms AbvGrd', 'Fireplaces']\n",
      "Cross Validation RMSE: 29417.70603862047\n",
      "-------------------------------------------\n",
      "For feature selection ['Gr Liv Area', 'Garage Area', 'Age', 'Last remod/add', '1st Flr SF', 'Garage Finish', 'Overall Qual', '2nd Flr SF', 'BsmtFin SF 1', 'Full Bath', 'TotRms AbvGrd', 'Garage Cars']\n",
      "Cross Validation RMSE: 29653.21166048085\n",
      "-------------------------------------------\n",
      "For feature selection ['Gr Liv Area', 'Garage Area', 'Age', 'Last remod/add', '1st Flr SF', 'Garage Finish', 'Overall Qual', '2nd Flr SF', 'BsmtFin SF 1', 'Full Bath', 'Fireplaces', 'Garage Cars']\n",
      "Cross Validation RMSE: 29353.80193911419\n",
      "-------------------------------------------\n",
      "For feature selection ['Gr Liv Area', 'Garage Area', 'Age', 'Last remod/add', '1st Flr SF', 'Garage Finish', 'Overall Qual', '2nd Flr SF', 'BsmtFin SF 1', 'TotRms AbvGrd', 'Fireplaces', 'Garage Cars']\n",
      "Cross Validation RMSE: 29318.05528982893\n",
      "-------------------------------------------\n",
      "For feature selection ['Gr Liv Area', 'Garage Area', 'Age', 'Last remod/add', '1st Flr SF', 'Garage Finish', 'Overall Qual', '2nd Flr SF', 'Full Bath', 'TotRms AbvGrd', 'Fireplaces', 'Garage Cars']\n",
      "Cross Validation RMSE: 29858.174656252915\n",
      "-------------------------------------------\n",
      "For feature selection ['Gr Liv Area', 'Garage Area', 'Age', 'Last remod/add', '1st Flr SF', 'Garage Finish', 'Overall Qual', 'BsmtFin SF 1', 'Full Bath', 'TotRms AbvGrd', 'Fireplaces', 'Garage Cars']\n",
      "Cross Validation RMSE: 29442.525408400084\n",
      "-------------------------------------------\n",
      "For feature selection ['Gr Liv Area', 'Garage Area', 'Age', 'Last remod/add', '1st Flr SF', 'Garage Finish', '2nd Flr SF', 'BsmtFin SF 1', 'Full Bath', 'TotRms AbvGrd', 'Fireplaces', 'Garage Cars']\n",
      "Cross Validation RMSE: 31809.667800450417\n",
      "-------------------------------------------\n",
      "For feature selection ['Gr Liv Area', 'Garage Area', 'Age', 'Last remod/add', '1st Flr SF', 'Overall Qual', '2nd Flr SF', 'BsmtFin SF 1', 'Full Bath', 'TotRms AbvGrd', 'Fireplaces', 'Garage Cars']\n",
      "Cross Validation RMSE: 29396.982223597257\n",
      "-------------------------------------------\n",
      "For feature selection ['Gr Liv Area', 'Garage Area', 'Age', 'Last remod/add', 'Garage Finish', 'Overall Qual', '2nd Flr SF', 'BsmtFin SF 1', 'Full Bath', 'TotRms AbvGrd', 'Fireplaces', 'Garage Cars']\n",
      "Cross Validation RMSE: 29975.328069792267\n",
      "-------------------------------------------\n",
      "For feature selection ['Gr Liv Area', 'Garage Area', 'Age', 'Total Bsmt SF', '1st Flr SF', 'Garage Finish', 'Overall Qual', '2nd Flr SF', 'BsmtFin SF 1', 'Full Bath', 'TotRms AbvGrd', 'Fireplaces']\n",
      "Cross Validation RMSE: 29553.066631974445\n",
      "-------------------------------------------\n",
      "For feature selection ['Gr Liv Area', 'Garage Area', 'Age', 'Total Bsmt SF', '1st Flr SF', 'Garage Finish', 'Overall Qual', '2nd Flr SF', 'BsmtFin SF 1', 'Full Bath', 'TotRms AbvGrd', 'Garage Cars']\n",
      "Cross Validation RMSE: 30023.328465402854\n",
      "-------------------------------------------\n",
      "For feature selection ['Gr Liv Area', 'Garage Area', 'Age', 'Total Bsmt SF', '1st Flr SF', 'Garage Finish', 'Overall Qual', '2nd Flr SF', 'BsmtFin SF 1', 'Full Bath', 'Fireplaces', 'Garage Cars']\n",
      "Cross Validation RMSE: 29888.14095209748\n",
      "-------------------------------------------\n",
      "For feature selection ['Gr Liv Area', 'Garage Area', 'Age', 'Total Bsmt SF', '1st Flr SF', 'Garage Finish', 'Overall Qual', '2nd Flr SF', 'BsmtFin SF 1', 'TotRms AbvGrd', 'Fireplaces', 'Garage Cars']\n",
      "Cross Validation RMSE: 29445.605755900797\n",
      "-------------------------------------------\n",
      "For feature selection ['Gr Liv Area', 'Garage Area', 'Age', 'Total Bsmt SF', '1st Flr SF', 'Garage Finish', 'Overall Qual', '2nd Flr SF', 'Full Bath', 'TotRms AbvGrd', 'Fireplaces', 'Garage Cars']\n",
      "Cross Validation RMSE: 30024.89440718185\n",
      "-------------------------------------------\n",
      "For feature selection ['Gr Liv Area', 'Garage Area', 'Age', 'Total Bsmt SF', '1st Flr SF', 'Garage Finish', 'Overall Qual', 'BsmtFin SF 1', 'Full Bath', 'TotRms AbvGrd', 'Fireplaces', 'Garage Cars']\n",
      "Cross Validation RMSE: 29685.5622291591\n",
      "-------------------------------------------\n",
      "For feature selection ['Gr Liv Area', 'Garage Area', 'Age', 'Total Bsmt SF', '1st Flr SF', 'Garage Finish', '2nd Flr SF', 'BsmtFin SF 1', 'Full Bath', 'TotRms AbvGrd', 'Fireplaces', 'Garage Cars']\n",
      "Cross Validation RMSE: 32401.450619565017\n",
      "-------------------------------------------\n",
      "For feature selection ['Gr Liv Area', 'Garage Area', 'Age', 'Total Bsmt SF', '1st Flr SF', 'Overall Qual', '2nd Flr SF', 'BsmtFin SF 1', 'Full Bath', 'TotRms AbvGrd', 'Fireplaces', 'Garage Cars']\n",
      "Cross Validation RMSE: 29555.845993532417\n",
      "-------------------------------------------\n",
      "For feature selection ['Gr Liv Area', 'Garage Area', 'Age', 'Total Bsmt SF', 'Garage Finish', 'Overall Qual', '2nd Flr SF', 'BsmtFin SF 1', 'Full Bath', 'TotRms AbvGrd', 'Fireplaces', 'Garage Cars']\n",
      "Cross Validation RMSE: 29530.016523547583\n",
      "-------------------------------------------\n",
      "For feature selection ['Gr Liv Area', 'Garage Area', 'Age', '1st Flr SF', 'Garage Finish', 'Overall Qual', '2nd Flr SF', 'BsmtFin SF 1', 'Full Bath', 'TotRms AbvGrd', 'Fireplaces', 'Garage Cars']\n",
      "Cross Validation RMSE: 29533.63413088352\n",
      "-------------------------------------------\n",
      "For feature selection ['Gr Liv Area', 'Garage Area', 'Last remod/add', 'Total Bsmt SF', '1st Flr SF', 'Garage Finish', 'Overall Qual', '2nd Flr SF', 'BsmtFin SF 1', 'Full Bath', 'TotRms AbvGrd', 'Fireplaces']\n",
      "Cross Validation RMSE: 29885.480173929976\n",
      "-------------------------------------------\n",
      "For feature selection ['Gr Liv Area', 'Garage Area', 'Last remod/add', 'Total Bsmt SF', '1st Flr SF', 'Garage Finish', 'Overall Qual', '2nd Flr SF', 'BsmtFin SF 1', 'Full Bath', 'TotRms AbvGrd', 'Garage Cars']\n",
      "Cross Validation RMSE: 29811.19117794259\n",
      "-------------------------------------------\n",
      "For feature selection ['Gr Liv Area', 'Garage Area', 'Last remod/add', 'Total Bsmt SF', '1st Flr SF', 'Garage Finish', 'Overall Qual', '2nd Flr SF', 'BsmtFin SF 1', 'Full Bath', 'Fireplaces', 'Garage Cars']\n",
      "Cross Validation RMSE: 29688.691978699568\n",
      "-------------------------------------------\n"
     ]
    },
    {
     "name": "stdout",
     "output_type": "stream",
     "text": [
      "For feature selection ['Gr Liv Area', 'Garage Area', 'Last remod/add', 'Total Bsmt SF', '1st Flr SF', 'Garage Finish', 'Overall Qual', '2nd Flr SF', 'BsmtFin SF 1', 'TotRms AbvGrd', 'Fireplaces', 'Garage Cars']\n",
      "Cross Validation RMSE: 29504.03670376455\n",
      "-------------------------------------------\n",
      "For feature selection ['Gr Liv Area', 'Garage Area', 'Last remod/add', 'Total Bsmt SF', '1st Flr SF', 'Garage Finish', 'Overall Qual', '2nd Flr SF', 'Full Bath', 'TotRms AbvGrd', 'Fireplaces', 'Garage Cars']\n",
      "Cross Validation RMSE: 29596.844074035493\n",
      "-------------------------------------------\n",
      "For feature selection ['Gr Liv Area', 'Garage Area', 'Last remod/add', 'Total Bsmt SF', '1st Flr SF', 'Garage Finish', 'Overall Qual', 'BsmtFin SF 1', 'Full Bath', 'TotRms AbvGrd', 'Fireplaces', 'Garage Cars']\n",
      "Cross Validation RMSE: 29744.075657732326\n",
      "-------------------------------------------\n",
      "For feature selection ['Gr Liv Area', 'Garage Area', 'Last remod/add', 'Total Bsmt SF', '1st Flr SF', 'Garage Finish', '2nd Flr SF', 'BsmtFin SF 1', 'Full Bath', 'TotRms AbvGrd', 'Fireplaces', 'Garage Cars']\n",
      "Cross Validation RMSE: 32144.69524946375\n",
      "-------------------------------------------\n",
      "For feature selection ['Gr Liv Area', 'Garage Area', 'Last remod/add', 'Total Bsmt SF', '1st Flr SF', 'Overall Qual', '2nd Flr SF', 'BsmtFin SF 1', 'Full Bath', 'TotRms AbvGrd', 'Fireplaces', 'Garage Cars']\n",
      "Cross Validation RMSE: 29464.182738333064\n",
      "-------------------------------------------\n",
      "For feature selection ['Gr Liv Area', 'Garage Area', 'Last remod/add', 'Total Bsmt SF', 'Garage Finish', 'Overall Qual', '2nd Flr SF', 'BsmtFin SF 1', 'Full Bath', 'TotRms AbvGrd', 'Fireplaces', 'Garage Cars']\n",
      "Cross Validation RMSE: 29649.55219773718\n",
      "-------------------------------------------\n",
      "For feature selection ['Gr Liv Area', 'Garage Area', 'Last remod/add', '1st Flr SF', 'Garage Finish', 'Overall Qual', '2nd Flr SF', 'BsmtFin SF 1', 'Full Bath', 'TotRms AbvGrd', 'Fireplaces', 'Garage Cars']\n",
      "Cross Validation RMSE: 29573.14290793944\n",
      "-------------------------------------------\n",
      "For feature selection ['Gr Liv Area', 'Garage Area', 'Total Bsmt SF', '1st Flr SF', 'Garage Finish', 'Overall Qual', '2nd Flr SF', 'BsmtFin SF 1', 'Full Bath', 'TotRms AbvGrd', 'Fireplaces', 'Garage Cars']\n",
      "Cross Validation RMSE: 30377.19067239873\n",
      "-------------------------------------------\n",
      "For feature selection ['Gr Liv Area', 'Age', 'Last remod/add', 'Total Bsmt SF', '1st Flr SF', 'Garage Finish', 'Overall Qual', '2nd Flr SF', 'BsmtFin SF 1', 'Full Bath', 'TotRms AbvGrd', 'Fireplaces']\n",
      "Cross Validation RMSE: 29934.895002424262\n",
      "-------------------------------------------\n",
      "For feature selection ['Gr Liv Area', 'Age', 'Last remod/add', 'Total Bsmt SF', '1st Flr SF', 'Garage Finish', 'Overall Qual', '2nd Flr SF', 'BsmtFin SF 1', 'Full Bath', 'TotRms AbvGrd', 'Garage Cars']\n",
      "Cross Validation RMSE: 29786.460233430218\n",
      "-------------------------------------------\n",
      "For feature selection ['Gr Liv Area', 'Age', 'Last remod/add', 'Total Bsmt SF', '1st Flr SF', 'Garage Finish', 'Overall Qual', '2nd Flr SF', 'BsmtFin SF 1', 'Full Bath', 'Fireplaces', 'Garage Cars']\n",
      "Cross Validation RMSE: 29445.186971136165\n",
      "-------------------------------------------\n",
      "For feature selection ['Gr Liv Area', 'Age', 'Last remod/add', 'Total Bsmt SF', '1st Flr SF', 'Garage Finish', 'Overall Qual', '2nd Flr SF', 'BsmtFin SF 1', 'TotRms AbvGrd', 'Fireplaces', 'Garage Cars']\n",
      "Cross Validation RMSE: 29281.870855841866\n",
      "-------------------------------------------\n",
      "For feature selection ['Gr Liv Area', 'Age', 'Last remod/add', 'Total Bsmt SF', '1st Flr SF', 'Garage Finish', 'Overall Qual', '2nd Flr SF', 'Full Bath', 'TotRms AbvGrd', 'Fireplaces', 'Garage Cars']\n",
      "Cross Validation RMSE: 29966.57912599036\n",
      "-------------------------------------------\n",
      "For feature selection ['Gr Liv Area', 'Age', 'Last remod/add', 'Total Bsmt SF', '1st Flr SF', 'Garage Finish', 'Overall Qual', 'BsmtFin SF 1', 'Full Bath', 'TotRms AbvGrd', 'Fireplaces', 'Garage Cars']\n",
      "Cross Validation RMSE: 29452.89371759738\n",
      "-------------------------------------------\n",
      "For feature selection ['Gr Liv Area', 'Age', 'Last remod/add', 'Total Bsmt SF', '1st Flr SF', 'Garage Finish', '2nd Flr SF', 'BsmtFin SF 1', 'Full Bath', 'TotRms AbvGrd', 'Fireplaces', 'Garage Cars']\n",
      "Cross Validation RMSE: 31691.78193767003\n",
      "-------------------------------------------\n",
      "For feature selection ['Gr Liv Area', 'Age', 'Last remod/add', 'Total Bsmt SF', '1st Flr SF', 'Overall Qual', '2nd Flr SF', 'BsmtFin SF 1', 'Full Bath', 'TotRms AbvGrd', 'Fireplaces', 'Garage Cars']\n",
      "Cross Validation RMSE: 29295.178565548245\n",
      "-------------------------------------------\n",
      "For feature selection ['Gr Liv Area', 'Age', 'Last remod/add', 'Total Bsmt SF', 'Garage Finish', 'Overall Qual', '2nd Flr SF', 'BsmtFin SF 1', 'Full Bath', 'TotRms AbvGrd', 'Fireplaces', 'Garage Cars']\n",
      "Cross Validation RMSE: 29515.93924636326\n",
      "-------------------------------------------\n",
      "For feature selection ['Gr Liv Area', 'Age', 'Last remod/add', '1st Flr SF', 'Garage Finish', 'Overall Qual', '2nd Flr SF', 'BsmtFin SF 1', 'Full Bath', 'TotRms AbvGrd', 'Fireplaces', 'Garage Cars']\n",
      "Cross Validation RMSE: 29748.87775632169\n",
      "-------------------------------------------\n",
      "For feature selection ['Gr Liv Area', 'Age', 'Total Bsmt SF', '1st Flr SF', 'Garage Finish', 'Overall Qual', '2nd Flr SF', 'BsmtFin SF 1', 'Full Bath', 'TotRms AbvGrd', 'Fireplaces', 'Garage Cars']\n",
      "Cross Validation RMSE: 29648.17993493172\n",
      "-------------------------------------------\n",
      "For feature selection ['Gr Liv Area', 'Last remod/add', 'Total Bsmt SF', '1st Flr SF', 'Garage Finish', 'Overall Qual', '2nd Flr SF', 'BsmtFin SF 1', 'Full Bath', 'TotRms AbvGrd', 'Fireplaces', 'Garage Cars']\n",
      "Cross Validation RMSE: 30115.072749472125\n",
      "-------------------------------------------\n",
      "For feature selection ['Garage Area', 'Age', 'Last remod/add', 'Total Bsmt SF', '1st Flr SF', 'Garage Finish', 'Overall Qual', '2nd Flr SF', 'BsmtFin SF 1', 'Full Bath', 'TotRms AbvGrd', 'Fireplaces']\n",
      "Cross Validation RMSE: 29883.740157381384\n",
      "-------------------------------------------\n",
      "For feature selection ['Garage Area', 'Age', 'Last remod/add', 'Total Bsmt SF', '1st Flr SF', 'Garage Finish', 'Overall Qual', '2nd Flr SF', 'BsmtFin SF 1', 'Full Bath', 'TotRms AbvGrd', 'Garage Cars']\n",
      "Cross Validation RMSE: 30112.155997949965\n",
      "-------------------------------------------\n",
      "For feature selection ['Garage Area', 'Age', 'Last remod/add', 'Total Bsmt SF', '1st Flr SF', 'Garage Finish', 'Overall Qual', '2nd Flr SF', 'BsmtFin SF 1', 'Full Bath', 'Fireplaces', 'Garage Cars']\n",
      "Cross Validation RMSE: 29573.897231686187\n",
      "-------------------------------------------\n",
      "For feature selection ['Garage Area', 'Age', 'Last remod/add', 'Total Bsmt SF', '1st Flr SF', 'Garage Finish', 'Overall Qual', '2nd Flr SF', 'BsmtFin SF 1', 'TotRms AbvGrd', 'Fireplaces', 'Garage Cars']\n",
      "Cross Validation RMSE: 29758.455190598816\n",
      "-------------------------------------------\n",
      "For feature selection ['Garage Area', 'Age', 'Last remod/add', 'Total Bsmt SF', '1st Flr SF', 'Garage Finish', 'Overall Qual', '2nd Flr SF', 'Full Bath', 'TotRms AbvGrd', 'Fireplaces', 'Garage Cars']\n",
      "Cross Validation RMSE: 29888.671923099595\n",
      "-------------------------------------------\n",
      "For feature selection ['Garage Area', 'Age', 'Last remod/add', 'Total Bsmt SF', '1st Flr SF', 'Garage Finish', 'Overall Qual', 'BsmtFin SF 1', 'Full Bath', 'TotRms AbvGrd', 'Fireplaces', 'Garage Cars']\n",
      "Cross Validation RMSE: 31085.378812740324\n",
      "-------------------------------------------\n",
      "For feature selection ['Garage Area', 'Age', 'Last remod/add', 'Total Bsmt SF', '1st Flr SF', 'Garage Finish', '2nd Flr SF', 'BsmtFin SF 1', 'Full Bath', 'TotRms AbvGrd', 'Fireplaces', 'Garage Cars']\n",
      "Cross Validation RMSE: 32489.690594614523\n",
      "-------------------------------------------\n",
      "For feature selection ['Garage Area', 'Age', 'Last remod/add', 'Total Bsmt SF', '1st Flr SF', 'Overall Qual', '2nd Flr SF', 'BsmtFin SF 1', 'Full Bath', 'TotRms AbvGrd', 'Fireplaces', 'Garage Cars']\n",
      "Cross Validation RMSE: 29575.368740130787\n",
      "-------------------------------------------\n",
      "For feature selection ['Garage Area', 'Age', 'Last remod/add', 'Total Bsmt SF', 'Garage Finish', 'Overall Qual', '2nd Flr SF', 'BsmtFin SF 1', 'Full Bath', 'TotRms AbvGrd', 'Fireplaces', 'Garage Cars']\n",
      "Cross Validation RMSE: 30197.24012978555\n",
      "-------------------------------------------\n"
     ]
    },
    {
     "name": "stdout",
     "output_type": "stream",
     "text": [
      "For feature selection ['Garage Area', 'Age', 'Last remod/add', '1st Flr SF', 'Garage Finish', 'Overall Qual', '2nd Flr SF', 'BsmtFin SF 1', 'Full Bath', 'TotRms AbvGrd', 'Fireplaces', 'Garage Cars']\n",
      "Cross Validation RMSE: 30032.416575554962\n",
      "-------------------------------------------\n",
      "For feature selection ['Garage Area', 'Age', 'Total Bsmt SF', '1st Flr SF', 'Garage Finish', 'Overall Qual', '2nd Flr SF', 'BsmtFin SF 1', 'Full Bath', 'TotRms AbvGrd', 'Fireplaces', 'Garage Cars']\n",
      "Cross Validation RMSE: 29960.535822576658\n",
      "-------------------------------------------\n",
      "For feature selection ['Garage Area', 'Last remod/add', 'Total Bsmt SF', '1st Flr SF', 'Garage Finish', 'Overall Qual', '2nd Flr SF', 'BsmtFin SF 1', 'Full Bath', 'TotRms AbvGrd', 'Fireplaces', 'Garage Cars']\n",
      "Cross Validation RMSE: 30013.176008705064\n",
      "-------------------------------------------\n",
      "For feature selection ['Age', 'Last remod/add', 'Total Bsmt SF', '1st Flr SF', 'Garage Finish', 'Overall Qual', '2nd Flr SF', 'BsmtFin SF 1', 'Full Bath', 'TotRms AbvGrd', 'Fireplaces', 'Garage Cars']\n",
      "Cross Validation RMSE: 29846.33169577188\n",
      "-------------------------------------------\n",
      "For feature selection ['Gr Liv Area', 'Garage Area', 'Age', 'Last remod/add', 'Total Bsmt SF', '1st Flr SF', 'Garage Finish', 'Overall Qual', '2nd Flr SF', 'BsmtFin SF 1', 'Full Bath', 'TotRms AbvGrd', 'Fireplaces']\n",
      "Cross Validation RMSE: 29680.1364241599\n",
      "-------------------------------------------\n",
      "For feature selection ['Gr Liv Area', 'Garage Area', 'Age', 'Last remod/add', 'Total Bsmt SF', '1st Flr SF', 'Garage Finish', 'Overall Qual', '2nd Flr SF', 'BsmtFin SF 1', 'Full Bath', 'TotRms AbvGrd', 'Garage Cars']\n",
      "Cross Validation RMSE: 29777.37921370329\n",
      "-------------------------------------------\n",
      "For feature selection ['Gr Liv Area', 'Garage Area', 'Age', 'Last remod/add', 'Total Bsmt SF', '1st Flr SF', 'Garage Finish', 'Overall Qual', '2nd Flr SF', 'BsmtFin SF 1', 'Full Bath', 'Fireplaces', 'Garage Cars']\n",
      "Cross Validation RMSE: 29258.911897835646\n",
      "-------------------------------------------\n",
      "For feature selection ['Gr Liv Area', 'Garage Area', 'Age', 'Last remod/add', 'Total Bsmt SF', '1st Flr SF', 'Garage Finish', 'Overall Qual', '2nd Flr SF', 'BsmtFin SF 1', 'TotRms AbvGrd', 'Fireplaces', 'Garage Cars']\n",
      "Cross Validation RMSE: 29171.978301018316\n",
      "-------------------------------------------\n",
      "For feature selection ['Gr Liv Area', 'Garage Area', 'Age', 'Last remod/add', 'Total Bsmt SF', '1st Flr SF', 'Garage Finish', 'Overall Qual', '2nd Flr SF', 'Full Bath', 'TotRms AbvGrd', 'Fireplaces', 'Garage Cars']\n",
      "Cross Validation RMSE: 29795.38010654429\n",
      "-------------------------------------------\n",
      "For feature selection ['Gr Liv Area', 'Garage Area', 'Age', 'Last remod/add', 'Total Bsmt SF', '1st Flr SF', 'Garage Finish', 'Overall Qual', 'BsmtFin SF 1', 'Full Bath', 'TotRms AbvGrd', 'Fireplaces', 'Garage Cars']\n",
      "Cross Validation RMSE: 29637.003390031303\n",
      "-------------------------------------------\n",
      "For feature selection ['Gr Liv Area', 'Garage Area', 'Age', 'Last remod/add', 'Total Bsmt SF', '1st Flr SF', 'Garage Finish', '2nd Flr SF', 'BsmtFin SF 1', 'Full Bath', 'TotRms AbvGrd', 'Fireplaces', 'Garage Cars']\n",
      "Cross Validation RMSE: 31494.01396105774\n",
      "-------------------------------------------\n",
      "For feature selection ['Gr Liv Area', 'Garage Area', 'Age', 'Last remod/add', 'Total Bsmt SF', '1st Flr SF', 'Overall Qual', '2nd Flr SF', 'BsmtFin SF 1', 'Full Bath', 'TotRms AbvGrd', 'Fireplaces', 'Garage Cars']\n",
      "Cross Validation RMSE: 29396.525626916253\n",
      "-------------------------------------------\n",
      "For feature selection ['Gr Liv Area', 'Garage Area', 'Age', 'Last remod/add', 'Total Bsmt SF', 'Garage Finish', 'Overall Qual', '2nd Flr SF', 'BsmtFin SF 1', 'Full Bath', 'TotRms AbvGrd', 'Fireplaces', 'Garage Cars']\n",
      "Cross Validation RMSE: 29212.59668869662\n",
      "-------------------------------------------\n",
      "For feature selection ['Gr Liv Area', 'Garage Area', 'Age', 'Last remod/add', '1st Flr SF', 'Garage Finish', 'Overall Qual', '2nd Flr SF', 'BsmtFin SF 1', 'Full Bath', 'TotRms AbvGrd', 'Fireplaces', 'Garage Cars']\n",
      "Cross Validation RMSE: 29437.51491034163\n",
      "-------------------------------------------\n",
      "For feature selection ['Gr Liv Area', 'Garage Area', 'Age', 'Total Bsmt SF', '1st Flr SF', 'Garage Finish', 'Overall Qual', '2nd Flr SF', 'BsmtFin SF 1', 'Full Bath', 'TotRms AbvGrd', 'Fireplaces', 'Garage Cars']\n",
      "Cross Validation RMSE: 29339.774766727878\n",
      "-------------------------------------------\n",
      "For feature selection ['Gr Liv Area', 'Garage Area', 'Last remod/add', 'Total Bsmt SF', '1st Flr SF', 'Garage Finish', 'Overall Qual', '2nd Flr SF', 'BsmtFin SF 1', 'Full Bath', 'TotRms AbvGrd', 'Fireplaces', 'Garage Cars']\n",
      "Cross Validation RMSE: 29589.758931211993\n",
      "-------------------------------------------\n",
      "For feature selection ['Gr Liv Area', 'Age', 'Last remod/add', 'Total Bsmt SF', '1st Flr SF', 'Garage Finish', 'Overall Qual', '2nd Flr SF', 'BsmtFin SF 1', 'Full Bath', 'TotRms AbvGrd', 'Fireplaces', 'Garage Cars']\n",
      "Cross Validation RMSE: 29467.93535664571\n",
      "-------------------------------------------\n",
      "For feature selection ['Garage Area', 'Age', 'Last remod/add', 'Total Bsmt SF', '1st Flr SF', 'Garage Finish', 'Overall Qual', '2nd Flr SF', 'BsmtFin SF 1', 'Full Bath', 'TotRms AbvGrd', 'Fireplaces', 'Garage Cars']\n",
      "Cross Validation RMSE: 29572.773994938343\n",
      "-------------------------------------------\n",
      "For feature selection ['Gr Liv Area', 'Garage Area', 'Age', 'Last remod/add', 'Total Bsmt SF', '1st Flr SF', 'Garage Finish', 'Overall Qual', '2nd Flr SF', 'BsmtFin SF 1', 'Full Bath', 'TotRms AbvGrd', 'Fireplaces', 'Garage Cars']\n",
      "Cross Validation RMSE: 29266.052454104472\n",
      "-------------------------------------------\n",
      "-------------------------------------------\n",
      "-------------------------------------------\n",
      "-------------------------------------------\n",
      "-------------------------------------------\n",
      "-------------------------------------------\n",
      "------OVERALL BEST MODEL BY CV-RMSE--------\n",
      "-------------------------------------------\n",
      "-------------------------------------------\n",
      "Overall Best RF model uses the features ['Gr Liv Area', 'Garage Area', 'Age', 'Last remod/add', 'Total Bsmt SF', '1st Flr SF', 'Overall Qual', '2nd Flr SF', 'BsmtFin SF 1', 'TotRms AbvGrd', 'Fireplaces', 'Garage Cars']\n",
      "CV RMSE: 29002.823686499803\n"
     ]
    }
   ],
   "source": [
    "#### DON'T FORGET TO ADJUST ALGO TO CONVERT CATEGORICAL VARIABLES TO DUMMIES...\n",
    "\n",
    "best_set_model = []\n",
    "\n",
    "best_set_model.append(rf_multiple_test(feature_combinations, 'SalePrice', df_subset, df_subset_test))\n",
    "\n",
    "overall_best_score = np.inf\n",
    "for i in best_set_model:\n",
    "    if i[2] < overall_best_score:\n",
    "        overall_best_score = i[2]\n",
    "        overall_best_features = i[0]\n",
    "        overall_best_rf_cv = i[1]\n",
    "        overall_best_predictions = i[3]\n",
    "        \n",
    "print('-------------------------------------------')    \n",
    "print('-------------------------------------------')        \n",
    "print('------OVERALL BEST MODEL BY CV-RMSE--------')        \n",
    "print('-------------------------------------------')        \n",
    "print('-------------------------------------------')        \n",
    "\n",
    "print(f'Overall Best RF model uses the features {overall_best_features}')\n",
    "print(f'CV RMSE: {overall_best_score}')"
   ]
  },
  {
   "cell_type": "code",
   "execution_count": 175,
   "metadata": {},
   "outputs": [],
   "source": [
    "predictions = pd.concat([pd.Series(df_subset_test.index), pd.Series(overall_best_predictions)], axis=1, ignore_index=True)\n",
    "predictions = predictions.rename(columns={1: \"SalePrice\"})\n",
    "predictions = predictions.drop([0], axis=1)\n",
    "predictions.index.names = ['Test_ID']\n",
    "predictions.to_csv(\"new_predictions-with-overall-qual/Predictions_rf_with_outliers-best.csv\")\n",
    "# kaggle test-rmse = 27509.3312 (note this was without overal qual)"
   ]
  },
  {
   "cell_type": "markdown",
   "metadata": {},
   "source": [
    "# use sci-kit learn outlier detection methods but first do write up to outlier detection section... remember methodology should include mathematical theory... from assignment 1 feedback???"
   ]
  },
  {
   "cell_type": "code",
   "execution_count": 160,
   "metadata": {},
   "outputs": [],
   "source": [
    "# def poly_multiple_test(features, response, train_dataset, test_dataset, degrees):\n",
    "    \n",
    "#     best_features_score = np.inf\n",
    "#     best_test_t = np.inf\n",
    "    \n",
    "#     for predictors in features:\n",
    "    \n",
    "#         best_score = -np.inf\n",
    "#         x_train = pd.get_dummies(train_dataset[predictors], drop_first=True).to_numpy()\n",
    "        \n",
    "\n",
    "#         poly_transformer = PolynomialFeatures(degrees)\n",
    "#         poly_x = poly_transformer.fit_transform(x_train)\n",
    "\n",
    "\n",
    "#         pr = LinearRegression()\n",
    "#         scores = cross_val_score(pr, poly_x, train_dataset[response].to_numpy(), cv=5, scoring = 'neg_mean_squared_error')\n",
    "#         cv_score = np.mean(scores)\n",
    "     \n",
    "#         # train the selected model with the whole train set\n",
    "#         pr.fit(x_train, train_dataset[response])\n",
    "#         # Predict the test data with the selected and re-estimated model\n",
    "#         poly_transformer_test = PolynomialFeatures(degrees)\n",
    "#         x_test = pd.get_dummies(test_dataset[predictors], drop_first=True).to_numpy()\n",
    "#         poly_x_test = poly_transformer_test.fit_transform(x_test)\n",
    "#         predictions = pr.predict(poly_x_test)\n",
    "#         # test_rmse = np.sqrt(mean_squared_error(nba_test_knn[response], predictions))\n",
    "#         cv_rmse = np.sqrt(-cv_score)\n",
    "#         print(f'For feature selection {predictors} degree is 6')\n",
    "#         print(f'Cross Validation RMSE: {cv_rmse}')\n",
    "#         # print(f'Test RMSE: {test_rmse}')\n",
    "#         print('-------------------------------------------')\n",
    "        \n",
    "#         if cv_rmse < best_features_score:\n",
    "#             best_features_score = cv_rmse\n",
    "#             # best_test = test_rmse\n",
    "#             best_features = predictors\n",
    "#             best_overall_pr = pr\n",
    "#             best_predictions = predictions\n",
    "            \n",
    "# #         if test_rmse < best_test_t:\n",
    "# #             best_features_score_t = cv_rmse\n",
    "# #             best_test_t = test_rmse\n",
    "# #             best_features_t = predictors\n",
    "# #             best_overall_knn_t = best_knn\n",
    "            \n",
    "# #     print(f'Best kNN model uses the features {best_features}')\n",
    "# #     print(f'Best CV RMSE: {best_features_score}')\n",
    "# #     print(f'Best Test RMSE: {best_test}')\n",
    "#     print('-------------------------------------------')\n",
    "#     print('-------------------------------------------')\n",
    "#     print('-------------------------------------------')\n",
    "    \n",
    "#     return [best_features, best_overall_pr, best_features_score, predictions]"
   ]
  },
  {
   "cell_type": "markdown",
   "metadata": {},
   "source": [
    "# Forecasting Country Visitors"
   ]
  },
  {
   "cell_type": "code",
   "execution_count": 40,
   "metadata": {},
   "outputs": [
    {
     "data": {
      "text/html": [
       "<div>\n",
       "<style scoped>\n",
       "    .dataframe tbody tr th:only-of-type {\n",
       "        vertical-align: middle;\n",
       "    }\n",
       "\n",
       "    .dataframe tbody tr th {\n",
       "        vertical-align: top;\n",
       "    }\n",
       "\n",
       "    .dataframe thead th {\n",
       "        text-align: right;\n",
       "    }\n",
       "</style>\n",
       "<table border=\"1\" class=\"dataframe\">\n",
       "  <thead>\n",
       "    <tr style=\"text-align: right;\">\n",
       "      <th></th>\n",
       "      <th>Number of Visitors</th>\n",
       "    </tr>\n",
       "    <tr>\n",
       "      <th>Date</th>\n",
       "      <th></th>\n",
       "    </tr>\n",
       "  </thead>\n",
       "  <tbody>\n",
       "    <tr>\n",
       "      <th>2016-08</th>\n",
       "      <td>632600</td>\n",
       "    </tr>\n",
       "    <tr>\n",
       "      <th>2016-09</th>\n",
       "      <td>647200</td>\n",
       "    </tr>\n",
       "    <tr>\n",
       "      <th>2016-10</th>\n",
       "      <td>694300</td>\n",
       "    </tr>\n",
       "    <tr>\n",
       "      <th>2016-11</th>\n",
       "      <td>720500</td>\n",
       "    </tr>\n",
       "    <tr>\n",
       "      <th>2016-12</th>\n",
       "      <td>971800</td>\n",
       "    </tr>\n",
       "  </tbody>\n",
       "</table>\n",
       "</div>"
      ],
      "text/plain": [
       "         Number of Visitors\n",
       "Date                       \n",
       "2016-08              632600\n",
       "2016-09              647200\n",
       "2016-10              694300\n",
       "2016-11              720500\n",
       "2016-12              971800"
      ]
     },
     "execution_count": 40,
     "metadata": {},
     "output_type": "execute_result"
    }
   ],
   "source": [
    "df = pd.read_csv(\"Visitors.csv\")\n",
    "df['Date'] = '01-' + df['Date'].astype(str)\n",
    "df['Date'] = df['Date'].apply(pd.to_datetime)\n",
    "df.index=df['Date']\n",
    "df.index=df.index.to_period(freq='M')\n",
    "df=df.drop(['Date'], axis=1)\n",
    "df.tail()"
   ]
  },
  {
   "cell_type": "code",
   "execution_count": 41,
   "metadata": {},
   "outputs": [],
   "source": [
    "y = df['Number of Visitors']\n",
    "df = pd.read_csv(\"Visitors.csv\")\n",
    "series = df['Number of Visitors']"
   ]
  },
  {
   "cell_type": "markdown",
   "metadata": {},
   "source": [
    "## Explorartory Data Analysis"
   ]
  },
  {
   "cell_type": "markdown",
   "metadata": {},
   "source": [
    "The following plots the pattern change in the number of visitors entering the country from 1991 to 2016. Using this we were able to delineate the overall seasonality and trend of the data."
   ]
  },
  {
   "cell_type": "code",
   "execution_count": 42,
   "metadata": {},
   "outputs": [
    {
     "data": {
      "image/png": "[encoded data removed]",
      "text/plain": [
       "<Figure size 576x360 with 1 Axes>"
      ]
     },
     "metadata": {
      "needs_background": "light"
     },
     "output_type": "display_data"
    }
   ],
   "source": [
    "fig, ax= plt.subplots(figsize=(8,5))\n",
    "y.plot(color='orange')\n",
    "ax.set_xlabel('')\n",
    "ax.set_ylabel('Number of Visitors')\n",
    "ax.set_title('Number of Visitors into the Country from 1991 to 2016')\n",
    "ax.set_xticks([], minor=True) # I prefer to remove the minor ticks for a cleaner plot\n",
    "sns.despine()\n",
    "plt.show()"
   ]
  },
  {
   "cell_type": "markdown",
   "metadata": {},
   "source": [
    "Therefore, it was apparent that the data seemed to follow some rough yearly seasonality. A consistent upward trend was also observed while variance appeared to increase towards 2016. To understand the variations further a timeseries decomposition can be viewed as below."
   ]
  },
  {
   "cell_type": "code",
   "execution_count": 43,
   "metadata": {},
   "outputs": [],
   "source": [
    "# from statsmodels.tsa.seasonal import seasonal_decompose\n",
    "# components = seasonal_decompose(df, model='additive')\n",
    "# components.plot()"
   ]
  },
  {
   "cell_type": "code",
   "execution_count": 44,
   "metadata": {},
   "outputs": [
    {
     "data": {
      "text/plain": [
       "count       312.0000\n",
       "mean     419407.3718\n",
       "std      132443.0593\n",
       "min      161400.0000\n",
       "25%      332625.0000\n",
       "50%      412950.0000\n",
       "75%      488775.0000\n",
       "max      971800.0000\n",
       "Name: Number of Visitors, dtype: float64"
      ]
     },
     "execution_count": 44,
     "metadata": {},
     "output_type": "execute_result"
    }
   ],
   "source": [
    "y.describe().round(4)"
   ]
  },
  {
   "cell_type": "markdown",
   "metadata": {},
   "source": [
    "Moreover, the mean entrance of visitors is 419307 across the entire timeframe (1991-2016). Also the highest recorded number was 971800 while the lowest was 161400."
   ]
  },
  {
   "cell_type": "markdown",
   "metadata": {},
   "source": [
    "### Multiplicative Holt-Winters Exponential Smoothing"
   ]
  },
  {
   "cell_type": "markdown",
   "metadata": {},
   "source": [
    "#### Rationale"
   ]
  },
  {
   "cell_type": "markdown",
   "metadata": {},
   "source": [
    "The Holt-Winters exponential smoothing model considers trend and seasonal correctional methods. Therefore, the following model was selected on the rationale of seasonality and trend variations being key patterns in the data, as observed in the EDA.\n",
    "\n",
    "Also it is known that the additive model is most appropriate for data that has seasonal variations that are roughly constant across the provided period, while a multiplicative one suits data when the seasonal variation is proportional to the trend. Since the EDA showed that the variance of seasonal periods increased towards 2016 it made sense to proceed with a model formulation that applied the multiplicative method. "
   ]
  },
  {
   "cell_type": "markdown",
   "metadata": {},
   "source": [
    "#### Methodology"
   ]
  },
  {
   "cell_type": "markdown",
   "metadata": {},
   "source": [
    "The selected model compromises of three different components, these being the level, trend and seasonal indices. (use equations below this line) Thus, predictions of the future or of current instances are computed on the basis of these three influences.  \n",
    "\n",
    "Using exponential smoothing across these different aspects that the model considers, it determines a weight for past observations. This means that the model gives greater weight to observations recorded more recent, than those recorded before them. Hence, parameters alpha, beta and delta influence the level of exponential smoothing applied to level, trend and seasonal components respetively. These values are optimised using least squares. (put argmin equation below)\n",
    "\n",
    "Before deriving any forecasts, diagnostics were performed to ensure that the model was appropriate in forecasting of the provided data. "
   ]
  },
  {
   "cell_type": "markdown",
   "metadata": {},
   "source": [
    "#### Diagnostics"
   ]
  },
  {
   "cell_type": "code",
   "execution_count": 45,
   "metadata": {},
   "outputs": [
    {
     "name": "stdout",
     "output_type": "stream",
     "text": [
      " Multiplicative Holt-winters exponential smoothing\n",
      "\n",
      " Smoothing parameters:\n",
      " alpha (level)    0.310 (0.078)\n",
      " beta  (trend)    0.012 (0.008)\n",
      " delta (seasonal) 0.362 (0.050)\n",
      " \n",
      " In-sample fit:\n",
      " MSE               434674551.141\n",
      " RMSE              20848.850\n",
      " Log-likelihood   -3545.566\n",
      " AIC               7099.131\n",
      " BIC               7114.103\n"
     ]
    }
   ],
   "source": [
    "mhw=forecast.holtwinters(y, additive=False, damped=False, m=12)\n",
    "mhw.fit()\n",
    "mhw.summary()"
   ]
  },
  {
   "cell_type": "code",
   "execution_count": 46,
   "metadata": {},
   "outputs": [
    {
     "data": {
      "image/png": "[encoded data removed]",
      "text/plain": [
       "<Figure size 720x432 with 1 Axes>"
      ]
     },
     "metadata": {
      "needs_background": "light"
     },
     "output_type": "display_data"
    }
   ],
   "source": [
    "smoothed=pd.Series(mhw.smooth(), index=y.index)\n",
    "\n",
    "fig, ax= plt.subplots(figsize=(10,6))\n",
    "\n",
    "y.plot(color='orange', label='Number of Visitors')\n",
    "smoothed.plot(color='black', label='Smoothed', alpha=0.6)\n",
    "plt.legend(loc='best')\n",
    "ax.set_xlabel('')\n",
    "ax.set_xticks([], minor=True)\n",
    "ax.set_title(r'Holt-winters exponential smoothing', fontsize=13.5, fontweight='bold')\n",
    "sns.despine()\n",
    "plt.show()"
   ]
  },
  {
   "cell_type": "markdown",
   "metadata": {},
   "source": [
    "Holt-Winters exponential smoothing curve following very closely with the data was a good indication of model use for the given data. "
   ]
  },
  {
   "cell_type": "code",
   "execution_count": 47,
   "metadata": {},
   "outputs": [
    {
     "data": {
      "image/png": "[encoded data removed]",
      "text/plain": [
       "<Figure size 576x360 with 1 Axes>"
      ]
     },
     "metadata": {
      "needs_background": "light"
     },
     "output_type": "display_data"
    }
   ],
   "source": [
    "resid = (y-mhw.smooth())[12:] # we remove the first 12 observations as they are for initialisitation only\n",
    "\n",
    "fig, ax= plt.subplots(figsize=(8,5))\n",
    "resid.plot(color='blue')\n",
    "ax.set_xlabel('')\n",
    "ax.set_xticks([], minor=True) \n",
    "ax.set_title('Residual plot')\n",
    "sns.despine()\n",
    "plt.show()"
   ]
  },
  {
   "cell_type": "code",
   "execution_count": 48,
   "metadata": {},
   "outputs": [
    {
     "data": {
      "image/png": "[encoded data removed]",
      "text/plain": [
       "<Figure size 576x360 with 1 Axes>"
      ]
     },
     "metadata": {
      "needs_background": "light"
     },
     "output_type": "display_data"
    }
   ],
   "source": [
    "fig, ax = plt.subplots(figsize=(8,5))\n",
    "sm.graphics.tsa.plot_acf(resid, lags=40, ax=ax)\n",
    "sns.despine()\n",
    "plt.show()"
   ]
  },
  {
   "cell_type": "code",
   "execution_count": 49,
   "metadata": {},
   "outputs": [
    {
     "data": {
      "image/png": "[encoded data removed]",
      "text/plain": [
       "<Figure size 576x360 with 1 Axes>"
      ]
     },
     "metadata": {
      "needs_background": "light"
     },
     "output_type": "display_data"
    },
    {
     "data": {
      "image/png": "[encoded data removed]",
      "text/plain": [
       "<Figure size 576x360 with 1 Axes>"
      ]
     },
     "metadata": {
      "needs_background": "light"
     },
     "output_type": "display_data"
    }
   ],
   "source": [
    "histogram(resid)\n",
    "plt.show()\n",
    "\n",
    "qq_plot(resid)\n",
    "plt.show()"
   ]
  },
  {
   "cell_type": "markdown",
   "metadata": {},
   "source": [
    "The residuals appeared not to follow any particular pattern, however, a qqplot of them showed some slight deviation from the line, through which did raise some concern for normality. Moreover, the autocorrelations did not give any unusual results and were reasonable. Thus, provided these diagnostics, other than the slight concern for normality, the model was confirmed appropriate for the data.   "
   ]
  },
  {
   "cell_type": "markdown",
   "metadata": {},
   "source": [
    "#### Model Validation"
   ]
  },
  {
   "cell_type": "code",
   "execution_count": 50,
   "metadata": {},
   "outputs": [],
   "source": [
    "# Real time forecasting \n",
    "\n",
    "\n",
    "validation=y['2008-01':].index\n",
    "start = y.index.get_loc('2008-01') \n",
    "\n",
    "pred = []\n",
    "actual= []\n",
    "\n",
    "for i in range(start, len(y)):\n",
    "    \n",
    "    actual.append(y.iloc[i]) # actual value\n",
    "    \n",
    "    model = forecast.holtwinters(y.iloc[:i], additive=False, damped=False, m=12)\n",
    "    model.fit()\n",
    "    pred.append(model.forecast(1)[0]) # multiplicate holt winters forecast\n",
    "\n",
    "columns=['Holt-Winters Multiplicative', 'Actual']\n",
    "results = np.vstack([pred, actual]).T\n",
    "results = pd.DataFrame(results, columns=columns, index=validation)"
   ]
  },
  {
   "cell_type": "code",
   "execution_count": 52,
   "metadata": {
    "scrolled": true
   },
   "outputs": [
    {
     "data": {
      "text/html": [
       "<div>\n",
       "<style scoped>\n",
       "    .dataframe tbody tr th:only-of-type {\n",
       "        vertical-align: middle;\n",
       "    }\n",
       "\n",
       "    .dataframe tbody tr th {\n",
       "        vertical-align: top;\n",
       "    }\n",
       "\n",
       "    .dataframe thead th {\n",
       "        text-align: right;\n",
       "    }\n",
       "</style>\n",
       "<table border=\"1\" class=\"dataframe\">\n",
       "  <thead>\n",
       "    <tr style=\"text-align: right;\">\n",
       "      <th></th>\n",
       "      <th>RMSE</th>\n",
       "      <th>SE</th>\n",
       "    </tr>\n",
       "  </thead>\n",
       "  <tbody>\n",
       "    <tr>\n",
       "      <th>Holt-Winters Multiplicative</th>\n",
       "      <td>23645.48</td>\n",
       "      <td>2140.26</td>\n",
       "    </tr>\n",
       "  </tbody>\n",
       "</table>\n",
       "</div>"
      ],
      "text/plain": [
       "                                 RMSE       SE\n",
       "Holt-Winters Multiplicative  23645.48  2140.26"
      ]
     },
     "execution_count": 52,
     "metadata": {},
     "output_type": "execute_result"
    }
   ],
   "source": [
    "table = pd.DataFrame(0.0, index=results.columns[:-1], columns=['RMSE','SE'])\n",
    "for i in range(1):\n",
    "    table.iloc[i,0], table.iloc[i,1] = rmse_jack(results.iloc[:,i], results.iloc[:,-1])\n",
    "table.round(2)\n",
    "#23645.48\t2140.26"
   ]
  },
  {
   "cell_type": "markdown",
   "metadata": {},
   "source": [
    "Now, we were able to use the best derived model from above to determine the 24 month forecast for the number of visitors into the country."
   ]
  },
  {
   "cell_type": "code",
   "execution_count": 53,
   "metadata": {},
   "outputs": [
    {
     "data": {
      "image/png": "[encoded data removed]",
      "text/plain": [
       "<Figure size 576x360 with 1 Axes>"
      ]
     },
     "metadata": {},
     "output_type": "display_data"
    }
   ],
   "source": [
    "h=24\n",
    "\n",
    "test=pd.period_range(start=y.index[-1]+1, periods=h, freq='M')\n",
    "\n",
    "pred=pd.Series(mhw.forecast(h), index=test)\n",
    "var = mhw.forecastvariance(h)\n",
    "# pred=np.exp(pred+var/2) # retransformation under the assumption of normality, for simplicity\n",
    "\n",
    "intv1=pd.DataFrame(mhw.intervalforecast(h, level=.8), index=test)\n",
    "intv2=pd.DataFrame(mhw.intervalforecast(h, level=.9), index=test)\n",
    "intv3=pd.DataFrame(mhw.intervalforecast(h, level=.99), index=test)\n",
    "\n",
    "fig, ax = forecast.fanchart(y['01-2012':], pred, intv1, intv2, intv3)\n",
    "ax.set_xlabel('')\n",
    "ax.set_xticks([], minor=True)\n",
    "\n",
    "plt.title('Visitors into Country Forecast (Multiplicative Holt-winters model)', fontsize=10.5, fontweight='bold')\n",
    "sns.despine()\n",
    "plt.show()"
   ]
  },
  {
   "cell_type": "markdown",
   "metadata": {},
   "source": [
    "### Multiplicative Holt-Winters Exponential Smoothing with Dampening"
   ]
  },
  {
   "cell_type": "markdown",
   "metadata": {},
   "source": [
    "#### Rationale"
   ]
  },
  {
   "cell_type": "markdown",
   "metadata": {},
   "source": [
    "Since the multiplicative Holt-Winters Exponential Smoothing with Dampening model follows very similar principles to the previous model, the same rationale applies. However, the addition of dampening also allows us to address the potential issue of extrapolating the trend indefinitely into the future. Therefore, producing such a model should be able to prevent the resulting of implausible forecasts."
   ]
  },
  {
   "cell_type": "markdown",
   "metadata": {},
   "source": [
    "#### Methodology"
   ]
  },
  {
   "cell_type": "markdown",
   "metadata": {},
   "source": [
    "The model follows the same principles and components of the previous one, but with the inclusion of a dampening parameter (phi). Effectively , this applies an additional weight to both the seasonality and trend components. (Show new equations below)."
   ]
  },
  {
   "cell_type": "markdown",
   "metadata": {},
   "source": [
    "#### Diagnostics"
   ]
  },
  {
   "cell_type": "code",
   "execution_count": 54,
   "metadata": {},
   "outputs": [
    {
     "name": "stdout",
     "output_type": "stream",
     "text": [
      " Multiplicative Holt-winters exponential smoothing (damped trend)\n",
      "\n",
      " Smoothing parameters:\n",
      " alpha (level)    0.482 (0.077)\n",
      " beta  (trend)    0.000 (0.029)\n",
      " delta (seasonal) 0.412 (0.086)\n",
      " phi (damping)    0.792 (0.054)\n",
      " \n",
      " In-sample fit:\n",
      " MSE               445818496.985\n",
      " RMSE              21114.414\n",
      " Log-likelihood   -3549.515\n",
      " AIC               7109.029\n",
      " BIC               7127.744\n"
     ]
    }
   ],
   "source": [
    "mhw=forecast.holtwinters(y, additive=False, damped=True, m=12)\n",
    "mhw.fit()\n",
    "mhw.summary()"
   ]
  },
  {
   "cell_type": "code",
   "execution_count": 55,
   "metadata": {},
   "outputs": [
    {
     "data": {
      "image/png": "[encoded data removed]",
      "text/plain": [
       "<Figure size 720x432 with 1 Axes>"
      ]
     },
     "metadata": {
      "needs_background": "light"
     },
     "output_type": "display_data"
    }
   ],
   "source": [
    "smoothed=pd.Series(mhw.smooth(), index=y.index)\n",
    "\n",
    "fig, ax= plt.subplots(figsize=(10,6))\n",
    "\n",
    "y.plot(color='orange', label='Number of Visitors')\n",
    "smoothed.plot(color='black', label='Smoothed', alpha=0.6)\n",
    "plt.legend(loc='best')\n",
    "ax.set_xlabel('')\n",
    "ax.set_xticks([], minor=True)\n",
    "ax.set_title(r'Holt-winters exponential smoothing', fontsize=13.5, fontweight='bold')\n",
    "sns.despine()\n",
    "plt.show()"
   ]
  },
  {
   "cell_type": "markdown",
   "metadata": {},
   "source": [
    "Holt-Winters exponential smoothing curve with dampening following very closely with the data was a good indication of model use for the given data. "
   ]
  },
  {
   "cell_type": "code",
   "execution_count": 56,
   "metadata": {},
   "outputs": [
    {
     "data": {
      "image/png": "[encoded data removed]",
      "text/plain": [
       "<Figure size 576x360 with 1 Axes>"
      ]
     },
     "metadata": {
      "needs_background": "light"
     },
     "output_type": "display_data"
    }
   ],
   "source": [
    "resid = (y-mhw.smooth())[12:] # we remove the first 12 observations as they are for initialisitation only\n",
    "\n",
    "fig, ax= plt.subplots(figsize=(8,5))\n",
    "resid.plot(color='blue')\n",
    "ax.set_xlabel('')\n",
    "ax.set_xticks([], minor=True) \n",
    "ax.set_title('Residual plot')\n",
    "sns.despine()\n",
    "plt.show()"
   ]
  },
  {
   "cell_type": "code",
   "execution_count": 57,
   "metadata": {},
   "outputs": [
    {
     "data": {
      "image/png": "[encoded data removed]",
      "text/plain": [
       "<Figure size 576x360 with 1 Axes>"
      ]
     },
     "metadata": {
      "needs_background": "light"
     },
     "output_type": "display_data"
    }
   ],
   "source": [
    "fig, ax = plt.subplots(figsize=(8,5))\n",
    "sm.graphics.tsa.plot_acf(resid, lags=40, ax=ax)\n",
    "sns.despine()\n",
    "plt.show()"
   ]
  },
  {
   "cell_type": "code",
   "execution_count": 58,
   "metadata": {},
   "outputs": [
    {
     "data": {
      "image/png": "[encoded data removed]",
      "text/plain": [
       "<Figure size 576x360 with 1 Axes>"
      ]
     },
     "metadata": {
      "needs_background": "light"
     },
     "output_type": "display_data"
    },
    {
     "data": {
      "image/png": "[encoded data removed]",
      "text/plain": [
       "<Figure size 576x360 with 1 Axes>"
      ]
     },
     "metadata": {
      "needs_background": "light"
     },
     "output_type": "display_data"
    }
   ],
   "source": [
    "histogram(resid)\n",
    "plt.show()\n",
    "\n",
    "qq_plot(resid)\n",
    "plt.show()"
   ]
  },
  {
   "cell_type": "markdown",
   "metadata": {},
   "source": [
    "Similarly, to the previous model the residuals did not follow any patterns, while normality was also questionable but relatively reasonable with the slight deviations from the line at the extremities. Moreover, the autocorrelations were also not an issue with these not containing any high values."
   ]
  },
  {
   "cell_type": "markdown",
   "metadata": {},
   "source": [
    "### Model Validation and Selection"
   ]
  },
  {
   "cell_type": "code",
   "execution_count": 66,
   "metadata": {},
   "outputs": [],
   "source": [
    "# Real time forecasting \n",
    "\n",
    "\n",
    "validation=y['2008-01':].index\n",
    "start = y.index.get_loc('2008-01') \n",
    "\n",
    "pred = []\n",
    "pred1 = []\n",
    "actual= []\n",
    "\n",
    "for i in range(start, len(y)):\n",
    "    \n",
    "    actual.append(y.iloc[i]) # actual value\n",
    "    \n",
    "    model = forecast.holtwinters(y.iloc[:i], additive=False, damped=False, m=12)\n",
    "    model.fit()\n",
    "    pred.append(model.forecast(1)[0]) # multiplicate holt winters forecast\n",
    "    \n",
    "    model = forecast.holtwinters(y.iloc[:i], additive=False, damped=True, m=12)\n",
    "    model.fit()\n",
    "    pred1.append(model.forecast(1)[0]) # multiplicate holt winters forecast with dampening\n",
    "\n",
    "columns=['Holt-Winters Multiplicative', 'Holt-Winters Multiplicative (with dampening)', 'Actual']\n",
    "results = np.vstack([pred, pred1, actual]).T\n",
    "results = pd.DataFrame(results, columns=columns, index=validation)"
   ]
  },
  {
   "cell_type": "code",
   "execution_count": 68,
   "metadata": {
    "scrolled": false
   },
   "outputs": [
    {
     "data": {
      "text/html": [
       "<div>\n",
       "<style scoped>\n",
       "    .dataframe tbody tr th:only-of-type {\n",
       "        vertical-align: middle;\n",
       "    }\n",
       "\n",
       "    .dataframe tbody tr th {\n",
       "        vertical-align: top;\n",
       "    }\n",
       "\n",
       "    .dataframe thead th {\n",
       "        text-align: right;\n",
       "    }\n",
       "</style>\n",
       "<table border=\"1\" class=\"dataframe\">\n",
       "  <thead>\n",
       "    <tr style=\"text-align: right;\">\n",
       "      <th></th>\n",
       "      <th>RMSE</th>\n",
       "      <th>SE</th>\n",
       "    </tr>\n",
       "  </thead>\n",
       "  <tbody>\n",
       "    <tr>\n",
       "      <th>Holt-Winters Multiplicative</th>\n",
       "      <td>23645.48</td>\n",
       "      <td>2140.26</td>\n",
       "    </tr>\n",
       "    <tr>\n",
       "      <th>Holt-Winters Multiplicative (with dampening)</th>\n",
       "      <td>24164.86</td>\n",
       "      <td>2170.61</td>\n",
       "    </tr>\n",
       "  </tbody>\n",
       "</table>\n",
       "</div>"
      ],
      "text/plain": [
       "                                                  RMSE       SE\n",
       "Holt-Winters Multiplicative                   23645.48  2140.26\n",
       "Holt-Winters Multiplicative (with dampening)  24164.86  2170.61"
      ]
     },
     "execution_count": 68,
     "metadata": {},
     "output_type": "execute_result"
    }
   ],
   "source": [
    "table = pd.DataFrame(0.0, index=results.columns[:-1], columns=['RMSE','SE'])\n",
    "for i in range(2):\n",
    "    table.iloc[i,0], table.iloc[i,1] = rmse_jack(results.iloc[:,i], results.iloc[:,-1])\n",
    "table.round(2)"
   ]
  },
  {
   "cell_type": "markdown",
   "metadata": {},
   "source": []
  },
  {
   "cell_type": "markdown",
   "metadata": {},
   "source": [
    "Now, we were able to use the models from above to determine the 24 month forecast for the number of visitors into the country."
   ]
  },
  {
   "cell_type": "code",
   "execution_count": 95,
   "metadata": {},
   "outputs": [
    {
     "data": {
      "image/png": "[encoded data removed]",
      "text/plain": [
       "<Figure size 576x360 with 1 Axes>"
      ]
     },
     "metadata": {},
     "output_type": "display_data"
    },
    {
     "data": {
      "image/png": "[encoded data removed]",
      "text/plain": [
       "<Figure size 576x360 with 1 Axes>"
      ]
     },
     "metadata": {},
     "output_type": "display_data"
    },
    {
     "data": {
      "image/png": "[encoded data removed]",
      "text/plain": [
       "<Figure size 576x360 with 1 Axes>"
      ]
     },
     "metadata": {},
     "output_type": "display_data"
    }
   ],
   "source": [
    "h=24\n",
    "\n",
    "mhw1=forecast.holtwinters(y, additive=False, damped=False, m=12)\n",
    "mhw1.fit()\n",
    "\n",
    "mhw2=forecast.holtwinters(y, additive=False, damped=True, m=12)\n",
    "mhw2.fit()\n",
    "\n",
    "test=pd.period_range(start=y.index[-1]+1, periods=h, freq='M')\n",
    "\n",
    "pred1=pd.Series(mhw1.forecast(h), index=test)\n",
    "# pred=np.exp(pred+var/2) # retransformation under the assumption of normality, for simplicity\n",
    "\n",
    "intv1=pd.DataFrame(mhw1.intervalforecast(h, level=.8), index=test)\n",
    "intv2=pd.DataFrame(mhw1.intervalforecast(h, level=.9), index=test)\n",
    "intv3=pd.DataFrame(mhw1.intervalforecast(h, level=.99), index=test)\n",
    "\n",
    "fig, ax = forecast.fanchart(y['01-2012':], pred1, intv1, intv2, intv3)\n",
    "ax.set_xlabel('')\n",
    "ax.set_xticks([], minor=True)\n",
    "\n",
    "plt.title('Visitors into Country Forecast (Multiplicative Holt-winters model)', fontsize=8.5, fontweight='bold')\n",
    "sns.despine()\n",
    "plt.show()\n",
    "\n",
    "pred2=pd.Series(mhw.forecast(h), index=test)\n",
    "# pred=np.exp(pred+var/2) # retransformation under the assumption of normality, for simplicity\n",
    "\n",
    "intv1=pd.DataFrame(mhw2.intervalforecast(h, level=.8), index=test)\n",
    "intv2=pd.DataFrame(mhw2.intervalforecast(h, level=.9), index=test)\n",
    "intv3=pd.DataFrame(mhw2.intervalforecast(h, level=.99), index=test)\n",
    "\n",
    "fig, ax = forecast.fanchart(y['01-2012':], pred2, intv1, intv2, intv3)\n",
    "ax.set_xlabel('')\n",
    "ax.set_xticks([], minor=True)\n",
    "\n",
    "plt.title('Visitors into Country Forecast (Multiplicative Holt-winters model with Dampening)', fontsize=8.5, fontweight='bold')\n",
    "sns.despine()\n",
    "plt.show()\n",
    "\n",
    "last = y['01-2012':].iloc[-1:]\n",
    "\n",
    "extended = last.append(pred1)\n",
    "extended1 = last.append(pred2)\n",
    "\n",
    "with sns.axes_style('ticks'):\n",
    "    fig, ax = plt.subplots(figsize=(8,5))\n",
    "    y['01-2012':].plot(color='#D62728', label='Historical')\n",
    "    extended.plot(color='black', linestyle='-.', alpha=0.6, label='Multiplicative HW Forecast')\n",
    "    extended1.plot(color='purple', linestyle='-.', alpha=0.6, label='Multiplicative HW with Dampening Forecast')\n",
    "    hold=ax.get_ylim()\n",
    "    ax.fill_betweenx(ax.get_ylim(), extended.index[0], extended.index[-1], facecolor='grey', alpha=0.15)\n",
    "    ax.set_ylim(hold)\n",
    "\n",
    "plt.legend(loc='upper left')\n",
    "\n",
    "plt.title('Visitors into Country Forecasts', fontsize=8.5, fontweight='bold')\n",
    "sns.despine()\n",
    "plt.show()"
   ]
  },
  {
   "cell_type": "markdown",
   "metadata": {},
   "source": [
    "Given the results of the above models there was a slight difference in the RMSE and SE scores. The predictions were also slightly different, where the model with dampening had lower values compared to without dampening. While the differences in performance and forecassting were basically negligible the best model to consider would be the one with dampening. This was since the upward trend of the most recent observations shows the potential for continued increasing growth "
   ]
  },
  {
   "cell_type": "markdown",
   "metadata": {},
   "source": [
    "### Conclusion"
   ]
  },
  {
   "cell_type": "markdown",
   "metadata": {},
   "source": []
  }
 ],
 "metadata": {
  "kernelspec": {
   "display_name": "Python 3",
   "language": "python",
   "name": "python3"
  },
  "language_info": {
   "codemirror_mode": {
    "name": "ipython",
    "version": 3
   },
   "file_extension": ".py",
   "mimetype": "text/x-python",
   "name": "python",
   "nbconvert_exporter": "python",
   "pygments_lexer": "ipython3",
   "version": "3.7.7"
  }
 },
 "nbformat": 4,
 "nbformat_minor": 4
}
